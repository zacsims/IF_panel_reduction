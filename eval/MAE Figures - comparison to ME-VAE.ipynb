{
 "cells": [
  {
   "cell_type": "code",
   "execution_count": 3,
   "id": "eed3e2d6",
   "metadata": {},
   "outputs": [],
   "source": [
    "import os\n",
    "import numpy as np\n",
    "import matplotlib.pyplot as plt\n",
    "from skimage.io import imread\n",
    "from scipy.stats import gaussian_kde\n",
    "\n",
    "import torch\n",
    "from torchmetrics.functional import spearman_corrcoef as spearman\n",
    "from data import get_data\n",
    "\n",
    "from intensity import get_intensities\n",
    "from get_ssims import get_ssims\n",
    "device = torch.device('cuda:7')"
   ]
  },
  {
   "cell_type": "markdown",
   "id": "29b2db02",
   "metadata": {},
   "source": [
    "# Set Panel"
   ]
  },
  {
   "cell_type": "code",
   "execution_count": 4,
   "id": "a816ce04",
   "metadata": {},
   "outputs": [],
   "source": [
    "#correlation based panels from Ternes et. al. 23\n",
    "ternes_corr_panels = [[0, 22, 7],\n",
    "                     [0, 4, 5, 8, 22, 23],\n",
    "                     [0, 4, 5, 8, 10, 12, 18, 22, 23],\n",
    "                     [0, 3, 4, 5, 10, 12, 14, 15, 18, 22, 23, 24],\n",
    "                     [0, 1, 2, 3, 4, 5, 6, 10, 12, 14, 15, 18, 22, 23, 24],\n",
    "                     [0, 1, 2, 3, 4, 5, 6, 8, 10, 11, 12, 14, 15, 18, 20, 22, 23, 24] \n",
    "                    ]"
   ]
  },
  {
   "cell_type": "code",
   "execution_count": 5,
   "id": "3a05f0c9",
   "metadata": {},
   "outputs": [],
   "source": [
    "ch2stain = {0:\"DAPI\", 1:\"CD3\", 2:\"ERK-1\", 3:\"hRAD51\", 4:\"CyclinD1\", 5:\"VIM\", 6:\"aSMA\", 7:\"ECad\", 8:\"ER\", 9:\"PR\",\n",
    "            10:\"EGFR\", 11:\"Rb\", 12:\"HER2\", 13:\"Ki67\", 14:\"CD45\", 15:\"p21\", 16:\"CK14\", 17:\"CK19\", 18:\"CK17\",\n",
    "            19:\"LaminABC\", 20:\"AR\", 21:\"Histone H2AX\", 22:\"PCNA\", 23:\"PanCK\", 24:\"CD31\"}"
   ]
  },
  {
   "cell_type": "markdown",
   "id": "7f8a35d0",
   "metadata": {},
   "source": [
    "# Get Model Checkpoints and Panel Selection Orders"
   ]
  },
  {
   "cell_type": "code",
   "execution_count": 6,
   "id": "3b66a0ef",
   "metadata": {},
   "outputs": [],
   "source": [
    "ckpt_25p = 'ckpts/BC_TMA_25p_mask_cls_epoch=499-step=76500-v2.ckpt'\n",
    "ckpt_50p = 'ckpts/50p_mask_12l_dec.ckpt' #BC\n",
    "panel_order_50p = [0,10,17,6,14,13,18,3,24,2,21,4,12,1,9,11,15,7,20,5,19,22,8,23] #see iterative panel selection notebook\n",
    "ckpt_75p = 'ckpts/75p_mask_12l_dec_499e.ckpt'\n",
    "panel_order_75p = [0, 16, 5, 8, 9, 22, 1, 24, 6, 18, 11, 2, 15, 13, 17, 12, 20, 10]"
   ]
  },
  {
   "cell_type": "code",
   "execution_count": 7,
   "id": "595f06e0",
   "metadata": {},
   "outputs": [],
   "source": [
    "panel_order_50p = [0,7,16,12,14,9,18,22,24,1,11,6,2,15,23,13,21,5,3,4,20,8,19,17]"
   ]
  },
  {
   "cell_type": "markdown",
   "id": "11b0ef2f",
   "metadata": {},
   "source": [
    "# Load Models"
   ]
  },
  {
   "cell_type": "code",
   "execution_count": 8,
   "id": "54d6ed24",
   "metadata": {
    "scrolled": true
   },
   "outputs": [],
   "source": [
    "from mae import IF_MAE\n",
    "model_25p = IF_MAE().load_from_checkpoint(ckpt_25p)\n",
    "model_25p = model_25p.to(device)\n",
    "model_25p = model_25p.eval()\n",
    "model_50p = IF_MAE().load_from_checkpoint(ckpt_50p)\n",
    "model_50p = model_50p.to(device)\n",
    "model_50p = model_50p.eval()\n",
    "model_75p = IF_MAE().load_from_checkpoint(ckpt_75p)\n",
    "model_75p = model_75p.to(device)\n",
    "model_75p = model_75p.eval()"
   ]
  },
  {
   "cell_type": "markdown",
   "id": "b8a27aa0",
   "metadata": {},
   "source": [
    "# Load Data"
   ]
  },
  {
   "cell_type": "code",
   "execution_count": 9,
   "id": "8ce29cd9",
   "metadata": {},
   "outputs": [],
   "source": [
    "val_loader = get_data('BC', 10000)"
   ]
  },
  {
   "cell_type": "markdown",
   "id": "1f06d1c9",
   "metadata": {},
   "source": [
    "# Run Model to get Mean Intensities and SSIMs"
   ]
  },
  {
   "cell_type": "code",
   "execution_count": 10,
   "id": "7d829163",
   "metadata": {
    "scrolled": false
   },
   "outputs": [
    {
     "name": "stderr",
     "output_type": "stream",
     "text": [
      "100%|███████████████████████████████████████████████████████████████████████████████████████████████| 4/4 [00:27<00:00,  6.95s/it]\n",
      "100%|███████████████████████████████████████████████████████████████████████████████████████████████| 4/4 [00:26<00:00,  6.68s/it]\n",
      "100%|███████████████████████████████████████████████████████████████████████████████████████████████| 4/4 [00:27<00:00,  6.76s/it]\n",
      "100%|███████████████████████████████████████████████████████████████████████████████████████████████| 4/4 [00:27<00:00,  6.94s/it]\n",
      "100%|███████████████████████████████████████████████████████████████████████████████████████████████| 4/4 [00:28<00:00,  7.14s/it]\n",
      "100%|███████████████████████████████████████████████████████████████████████████████████████████████| 4/4 [00:28<00:00,  7.17s/it]\n",
      "100%|███████████████████████████████████████████████████████████████████████████████████████████████| 4/4 [00:23<00:00,  5.96s/it]\n",
      "100%|███████████████████████████████████████████████████████████████████████████████████████████████| 4/4 [00:24<00:00,  6.09s/it]\n",
      "100%|███████████████████████████████████████████████████████████████████████████████████████████████| 4/4 [00:24<00:00,  6.20s/it]\n",
      "100%|███████████████████████████████████████████████████████████████████████████████████████████████| 4/4 [00:26<00:00,  6.51s/it]\n",
      "100%|███████████████████████████████████████████████████████████████████████████████████████████████| 4/4 [00:26<00:00,  6.67s/it]\n",
      "100%|███████████████████████████████████████████████████████████████████████████████████████████████| 4/4 [00:26<00:00,  6.72s/it]\n",
      "100%|███████████████████████████████████████████████████████████████████████████████████████████████| 4/4 [00:23<00:00,  5.96s/it]\n",
      "100%|███████████████████████████████████████████████████████████████████████████████████████████████| 4/4 [00:24<00:00,  6.18s/it]\n",
      "100%|███████████████████████████████████████████████████████████████████████████████████████████████| 4/4 [00:25<00:00,  6.27s/it]\n",
      "100%|███████████████████████████████████████████████████████████████████████████████████████████████| 4/4 [00:25<00:00,  6.48s/it]\n",
      "100%|███████████████████████████████████████████████████████████████████████████████████████████████| 4/4 [00:25<00:00,  6.49s/it]\n",
      "100%|███████████████████████████████████████████████████████████████████████████████████████████████| 4/4 [00:26<00:00,  6.68s/it]\n"
     ]
    }
   ],
   "source": [
    "ssims_corr, intensities_corr = [],[]\n",
    "\n",
    "for model in [model_25p, model_50p, model_75p]:\n",
    "    intensities_, ssims_ = [], []\n",
    "    \n",
    "    for panel in ternes_corr_panels:\n",
    "        unmasked_ch_idx = panel\n",
    "        mints, pmints = get_intensities(model, unmasked_ch_idx, val_loader, device=device)\n",
    "        #ssims_.append(get_ssims(model, unmasked_ch_idx, val_loader, device=device))\n",
    "        intensities_.append((mints, pmints))\n",
    "        \n",
    "    ssims_corr.append(ssims_)\n",
    "    intensities_corr.append(intensities_)"
   ]
  },
  {
   "cell_type": "code",
   "execution_count": 11,
   "id": "afa1836b",
   "metadata": {
    "scrolled": true
   },
   "outputs": [
    {
     "name": "stderr",
     "output_type": "stream",
     "text": [
      "100%|███████████████████████████████████████████████████████████████████████████████████████████████| 4/4 [00:23<00:00,  5.88s/it]\n",
      "100%|███████████████████████████████████████████████████████████████████████████████████████████████| 4/4 [00:23<00:00,  5.91s/it]\n",
      "100%|███████████████████████████████████████████████████████████████████████████████████████████████| 4/4 [00:24<00:00,  6.02s/it]\n",
      "100%|███████████████████████████████████████████████████████████████████████████████████████████████| 4/4 [00:24<00:00,  6.18s/it]\n",
      "100%|███████████████████████████████████████████████████████████████████████████████████████████████| 4/4 [00:24<00:00,  6.12s/it]\n",
      "100%|███████████████████████████████████████████████████████████████████████████████████████████████| 4/4 [00:24<00:00,  6.22s/it]\n",
      "100%|███████████████████████████████████████████████████████████████████████████████████████████████| 4/4 [00:24<00:00,  6.13s/it]\n",
      "100%|███████████████████████████████████████████████████████████████████████████████████████████████| 4/4 [00:24<00:00,  6.23s/it]\n",
      "100%|███████████████████████████████████████████████████████████████████████████████████████████████| 4/4 [00:25<00:00,  6.30s/it]\n",
      "100%|███████████████████████████████████████████████████████████████████████████████████████████████| 4/4 [00:25<00:00,  6.35s/it]\n",
      "100%|███████████████████████████████████████████████████████████████████████████████████████████████| 4/4 [00:25<00:00,  6.39s/it]\n",
      "100%|███████████████████████████████████████████████████████████████████████████████████████████████| 4/4 [00:25<00:00,  6.43s/it]\n",
      "100%|███████████████████████████████████████████████████████████████████████████████████████████████| 4/4 [00:26<00:00,  6.51s/it]\n",
      "100%|███████████████████████████████████████████████████████████████████████████████████████████████| 4/4 [00:26<00:00,  6.56s/it]\n",
      "100%|███████████████████████████████████████████████████████████████████████████████████████████████| 4/4 [00:26<00:00,  6.58s/it]\n",
      "100%|███████████████████████████████████████████████████████████████████████████████████████████████| 4/4 [00:26<00:00,  6.70s/it]\n",
      "100%|███████████████████████████████████████████████████████████████████████████████████████████████| 4/4 [00:26<00:00,  6.64s/it]\n",
      "100%|███████████████████████████████████████████████████████████████████████████████████████████████| 4/4 [00:27<00:00,  6.75s/it]\n",
      "100%|███████████████████████████████████████████████████████████████████████████████████████████████| 4/4 [00:27<00:00,  6.83s/it]\n",
      "100%|███████████████████████████████████████████████████████████████████████████████████████████████| 4/4 [00:27<00:00,  6.82s/it]\n",
      "100%|███████████████████████████████████████████████████████████████████████████████████████████████| 4/4 [00:27<00:00,  6.92s/it]\n",
      "100%|███████████████████████████████████████████████████████████████████████████████████████████████| 4/4 [00:27<00:00,  6.83s/it]\n",
      "100%|███████████████████████████████████████████████████████████████████████████████████████████████| 4/4 [00:27<00:00,  6.95s/it]\n",
      "100%|███████████████████████████████████████████████████████████████████████████████████████████████| 4/4 [00:28<00:00,  7.00s/it]\n",
      "100%|███████████████████████████████████████████████████████████████████████████████████████████████| 4/4 [00:23<00:00,  5.98s/it]\n",
      "100%|███████████████████████████████████████████████████████████████████████████████████████████████| 4/4 [00:24<00:00,  6.00s/it]\n",
      "100%|███████████████████████████████████████████████████████████████████████████████████████████████| 4/4 [00:23<00:00,  5.99s/it]\n",
      "100%|███████████████████████████████████████████████████████████████████████████████████████████████| 4/4 [00:24<00:00,  6.02s/it]\n",
      "100%|███████████████████████████████████████████████████████████████████████████████████████████████| 4/4 [00:24<00:00,  6.03s/it]\n",
      "100%|███████████████████████████████████████████████████████████████████████████████████████████████| 4/4 [00:24<00:00,  6.15s/it]\n",
      "100%|███████████████████████████████████████████████████████████████████████████████████████████████| 4/4 [00:25<00:00,  6.37s/it]\n",
      "100%|███████████████████████████████████████████████████████████████████████████████████████████████| 4/4 [00:25<00:00,  6.34s/it]\n",
      "100%|███████████████████████████████████████████████████████████████████████████████████████████████| 4/4 [00:25<00:00,  6.32s/it]\n",
      "100%|███████████████████████████████████████████████████████████████████████████████████████████████| 4/4 [00:25<00:00,  6.42s/it]\n",
      "100%|███████████████████████████████████████████████████████████████████████████████████████████████| 4/4 [00:25<00:00,  6.44s/it]\n",
      "100%|███████████████████████████████████████████████████████████████████████████████████████████████| 4/4 [00:25<00:00,  6.42s/it]\n",
      "100%|███████████████████████████████████████████████████████████████████████████████████████████████| 4/4 [00:26<00:00,  6.53s/it]\n",
      "100%|███████████████████████████████████████████████████████████████████████████████████████████████| 4/4 [00:26<00:00,  6.55s/it]\n",
      "100%|███████████████████████████████████████████████████████████████████████████████████████████████| 4/4 [00:26<00:00,  6.64s/it]\n",
      "100%|███████████████████████████████████████████████████████████████████████████████████████████████| 4/4 [00:26<00:00,  6.71s/it]\n",
      "100%|███████████████████████████████████████████████████████████████████████████████████████████████| 4/4 [00:27<00:00,  6.79s/it]\n",
      "100%|███████████████████████████████████████████████████████████████████████████████████████████████| 4/4 [00:27<00:00,  6.82s/it]\n",
      "100%|███████████████████████████████████████████████████████████████████████████████████████████████| 4/4 [00:27<00:00,  6.84s/it]\n",
      "100%|███████████████████████████████████████████████████████████████████████████████████████████████| 4/4 [00:27<00:00,  6.78s/it]\n",
      "100%|███████████████████████████████████████████████████████████████████████████████████████████████| 4/4 [00:27<00:00,  6.79s/it]\n",
      "100%|███████████████████████████████████████████████████████████████████████████████████████████████| 4/4 [00:26<00:00,  6.73s/it]\n",
      "100%|███████████████████████████████████████████████████████████████████████████████████████████████| 4/4 [00:26<00:00,  6.71s/it]\n",
      "100%|███████████████████████████████████████████████████████████████████████████████████████████████| 4/4 [00:26<00:00,  6.68s/it]\n"
     ]
    }
   ],
   "source": [
    "ssims_iter, intensities_iter = [],[]\n",
    "for model,panel_order in zip([model_50p, model_75p], [panel_order_50p, panel_order_75p]):\n",
    "    intensities_, ssims_ = [], []\n",
    "    panel_sizes = [s for s in range(1,25)]\n",
    "    \n",
    "    for panel_size in panel_sizes:\n",
    "        unmasked_ch_idx = panel_order[:panel_size]\n",
    "        mints, pmints = get_intensities(model, unmasked_ch_idx, val_loader, device=device)\n",
    "        #ssims_.append(get_ssims(model, unmasked_ch_idx, val_loader, device=device))\n",
    "        intensities_.append((mints, pmints))\n",
    "        \n",
    "    ssims_iter.append(ssims_)\n",
    "    intensities_iter.append(intensities_)"
   ]
  },
  {
   "cell_type": "markdown",
   "id": "1afcb721",
   "metadata": {},
   "source": [
    "# Plot Mean Intensities for Each Panel "
   ]
  },
  {
   "cell_type": "code",
   "execution_count": 12,
   "id": "25120bf8",
   "metadata": {},
   "outputs": [],
   "source": [
    "def get_corrs(mints, pmints):\n",
    "    if mints.shape[1] == 1:\n",
    "        stain_corrs = spearman(pmints.squeeze(), mints.squeeze())\n",
    "        stain_corrs = stain_corrs.unsqueeze(0)\n",
    "    else:\n",
    "        stain_corrs = spearman(pmints, mints)\n",
    "    return stain_corrs"
   ]
  },
  {
   "cell_type": "code",
   "execution_count": 13,
   "id": "22392ba8",
   "metadata": {
    "scrolled": true
   },
   "outputs": [],
   "source": [
    "stain_corrs_per_ratio = []\n",
    "for intensities_ in intensities_corr:\n",
    "    stain_corrs = []\n",
    "    for mints_, pmints_ in intensities_:\n",
    "        stain_corrs.append(get_corrs(mints_, pmints_))\n",
    "    stain_corrs_per_ratio.append(stain_corrs)"
   ]
  },
  {
   "cell_type": "code",
   "execution_count": 14,
   "id": "24ce8f5a",
   "metadata": {
    "scrolled": true
   },
   "outputs": [],
   "source": [
    "stain_corrs_per_ratio_iter = []\n",
    "for intensities_ in intensities_iter:\n",
    "    stain_corrs = []\n",
    "    for mints_, pmints_ in intensities_:\n",
    "        stain_corrs.append(get_corrs(mints_, pmints_))\n",
    "    stain_corrs_per_ratio_iter.append(stain_corrs)"
   ]
  },
  {
   "cell_type": "code",
   "execution_count": 15,
   "id": "8f5b749b",
   "metadata": {
    "scrolled": true
   },
   "outputs": [],
   "source": [
    "stain_corrs_per_ratio = [[s.detach().cpu().numpy() for s in stain_corrs] \n",
    "                         for stain_corrs in stain_corrs_per_ratio]"
   ]
  },
  {
   "cell_type": "code",
   "execution_count": 16,
   "id": "fd34bd0a",
   "metadata": {
    "scrolled": true
   },
   "outputs": [],
   "source": [
    "stain_corrs_per_ratio_iter = [[s.detach().cpu().numpy() for s in stain_corrs] \n",
    "                         for stain_corrs in stain_corrs_per_ratio_iter]"
   ]
  },
  {
   "cell_type": "code",
   "execution_count": 17,
   "id": "1076f631",
   "metadata": {},
   "outputs": [],
   "source": [
    "corr_sets_corr = stain_corrs_per_ratio[1]"
   ]
  },
  {
   "cell_type": "code",
   "execution_count": 18,
   "id": "e351b363",
   "metadata": {},
   "outputs": [],
   "source": [
    "corr_sets_iter = stain_corrs_per_ratio_iter[0]"
   ]
  },
  {
   "cell_type": "code",
   "execution_count": 19,
   "id": "48d87b02",
   "metadata": {},
   "outputs": [],
   "source": [
    "corr_sets_iter = [corr_sets_iter[3], corr_sets_iter[6], corr_sets_iter[9], corr_sets_iter[12], corr_sets_iter[15], corr_sets_iter[18]]"
   ]
  },
  {
   "cell_type": "code",
   "execution_count": 20,
   "id": "e0e0544a",
   "metadata": {},
   "outputs": [],
   "source": [
    "all_corrs = []\n",
    "for corr_1, corr_2 in zip(corr_sets_corr, corr_sets_iter):\n",
    "    all_corrs.append(corr_1)\n",
    "    all_corrs.append(corr_2)"
   ]
  },
  {
   "cell_type": "code",
   "execution_count": 23,
   "id": "2e9e54c4",
   "metadata": {},
   "outputs": [
    {
     "data": {
      "text/plain": [
       "0.9279927"
      ]
     },
     "execution_count": 23,
     "metadata": {},
     "output_type": "execute_result"
    }
   ],
   "source": [
    "corr_sets_iter[2].mean()"
   ]
  },
  {
   "cell_type": "code",
   "execution_count": 24,
   "id": "17cfd13d",
   "metadata": {},
   "outputs": [
    {
     "data": {
      "text/plain": [
       "0.91450536"
      ]
     },
     "execution_count": 24,
     "metadata": {},
     "output_type": "execute_result"
    }
   ],
   "source": [
    "corr_sets_corr[2].mean()"
   ]
  },
  {
   "cell_type": "code",
   "execution_count": null,
   "id": "8d9819b0",
   "metadata": {},
   "outputs": [],
   "source": [
    "69.9\n",
    "91.5\n",
    "92.8"
   ]
  },
  {
   "cell_type": "code",
   "execution_count": 25,
   "id": "bee1dc0b",
   "metadata": {},
   "outputs": [
    {
     "data": {
      "text/plain": [
       "21.599999999999994"
      ]
     },
     "execution_count": 25,
     "metadata": {},
     "output_type": "execute_result"
    }
   ],
   "source": [
    "91.5 - 69.9"
   ]
  },
  {
   "cell_type": "code",
   "execution_count": 26,
   "id": "d7dde95d",
   "metadata": {},
   "outputs": [
    {
     "data": {
      "text/plain": [
       "1.2999999999999972"
      ]
     },
     "execution_count": 26,
     "metadata": {},
     "output_type": "execute_result"
    }
   ],
   "source": [
    "92.8 - 91.5"
   ]
  },
  {
   "cell_type": "code",
   "execution_count": 21,
   "id": "ad763efc",
   "metadata": {
    "scrolled": false
   },
   "outputs": [
    {
     "data": {
      "image/png": "[encoded data removed]",
      "text/plain": [
       "<Figure size 640x480 with 1 Axes>"
      ]
     },
     "metadata": {},
     "output_type": "display_data"
    }
   ],
   "source": [
    "positions = [0.5,1.5,\n",
    "             3.5,4.5,\n",
    "             6.5,7.5,\n",
    "             9.5,10.5,\n",
    "             12.5,13.5,\n",
    "             15.5,16.5]\n",
    "bplot = plt.violinplot(all_corrs,positions=positions,showmeans=True)\n",
    "plt.xticks([1.25,4.25,7.25,10.25,13.25,16.25],['3','6','9','12','15','18'])\n",
    "plt.xlabel('reduced panel size')\n",
    "plt.ylabel('correlation of inferred markers')\n",
    "#plt.title('Comparative Performance of Panel Selection Strategies')\n",
    "from matplotlib.lines import Line2D\n",
    "custom_points = [Line2D([0], [0], marker='o', color='w', label='Scatter',\n",
    "                          markerfacecolor='g', markersize=15),\n",
    "                 Line2D([0], [0], marker='o', color='w', label='Scatter',\n",
    "                          markerfacecolor='y', markersize=15),\n",
    "                 Line2D([0], [0], ls='--', color='y', label='Scatter')]\n",
    "plt.legend(custom_points, ['iteration','correlation','results from [1]'],loc='lower right')\n",
    "for i,patch in enumerate(bplot['bodies']):\n",
    "    if i % 2 == 0:\n",
    "        patch.set_facecolor('yellow')\n",
    "    elif i % 2 == 1:\n",
    "        patch.set_facecolor('green')\n",
    "CorrVec=  [0.45542308872608434,0.45542308872608434,\n",
    "           0.6246306319916533,0.6246306319916533,\n",
    "           0.6990946473098055,0.6990946473098055,\n",
    "           0.7609945744264635,0.7609945744264635,\n",
    "           0.8386137549988064, 0.8386137549988064,\n",
    "           0.861531529832696,0.861531529832696]\n",
    "plt.plot(positions,CorrVec,ls='--',c='y')\n",
    "plt.savefig('plots/compare_strategies.svg')\n",
    "plt.show()"
   ]
  },
  {
   "cell_type": "code",
   "execution_count": 20,
   "id": "0571a659",
   "metadata": {},
   "outputs": [],
   "source": [
    "mean_corrs_25p = [np.mean(corrs) for corrs in stain_corrs_per_ratio[0]]\n",
    "mean_corrs_50p = [np.mean(corrs) for corrs in stain_corrs_per_ratio[1]]\n",
    "mean_corrs_75p = [np.mean(corrs) for corrs in stain_corrs_per_ratio[2]]"
   ]
  },
  {
   "cell_type": "code",
   "execution_count": 21,
   "id": "d0563d80",
   "metadata": {},
   "outputs": [
    {
     "data": {
      "image/png": "[encoded data removed]",
      "text/plain": [
       "<Figure size 640x480 with 1 Axes>"
      ]
     },
     "metadata": {},
     "output_type": "display_data"
    }
   ],
   "source": [
    "fig, ax = plt.subplots()\n",
    "ax.plot(np.arange(6), mean_corrs_25p, marker='o', color='tab:green')\n",
    "ax.plot(np.arange(6), mean_corrs_50p, marker='o', color='tab:blue')\n",
    "ax.plot(np.arange(6), mean_corrs_75p, marker='o', color='tab:pink')\n",
    "ax.set_xticks(np.arange(6), [3,6,9,12,15,18], fontsize=7)\n",
    "from matplotlib.lines import Line2D\n",
    "custom_points = [Line2D([0], [0], marker='o', color='tab:green', label='Scatter'),\n",
    "                 Line2D([0], [0], marker='o', color='tab:blue', label='Scatter'),\n",
    "                 Line2D([0], [0], marker='o', color='tab:pink', label='Scatter')]\n",
    "plt.legend(custom_points, ['25%', '50%', '75%'],loc='upper left')\n",
    "plt.xlabel('Panel Size')\n",
    "plt.ylabel('Mean Spearman Correlation of Witheld Marker Intensities')\n",
    "#plt.title('Influence of Masking Ratio on Overall Prediction (BC)')\n",
    "plt.show()"
   ]
  },
  {
   "cell_type": "code",
   "execution_count": null,
   "id": "823566e5",
   "metadata": {},
   "outputs": [],
   "source": []
  }
 ],
 "metadata": {
  "kernelspec": {
   "display_name": "Python [conda env:mae_panel] *",
   "language": "python",
   "name": "conda-env-mae_panel-py"
  },
  "language_info": {
   "codemirror_mode": {
    "name": "ipython",
    "version": 3
   },
   "file_extension": ".py",
   "mimetype": "text/x-python",
   "name": "python",
   "nbconvert_exporter": "python",
   "pygments_lexer": "ipython3",
   "version": "3.8.12"
  }
 },
 "nbformat": 4,
 "nbformat_minor": 5
}
