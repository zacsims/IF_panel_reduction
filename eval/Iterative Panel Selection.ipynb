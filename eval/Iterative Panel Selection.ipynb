{
 "cells": [
  {
   "cell_type": "code",
   "execution_count": 4,
   "id": "eed3e2d6",
   "metadata": {},
   "outputs": [],
   "source": [
    "import os\n",
    "import gc\n",
    "import numpy as np\n",
    "import matplotlib.pyplot as plt\n",
    "from skimage.io import imread\n",
    "\n",
    "import torch\n",
    "from torchmetrics.functional import spearman_corrcoef as spearman\n",
    "\n",
    "from intensity import get_intensities\n",
    "from data import get_data"
   ]
  },
  {
   "cell_type": "code",
   "execution_count": 16,
   "id": "750f6824",
   "metadata": {},
   "outputs": [],
   "source": [
    "tissue = 'CRC' #BC\n",
    "masking = '50p' #75p\n",
    "device = torch.device('cuda:2')\n",
    "BATCH_SIZE = 2000"
   ]
  },
  {
   "cell_type": "code",
   "execution_count": 17,
   "id": "3a05f0c9",
   "metadata": {},
   "outputs": [],
   "source": [
    "if tissue == 'BC':\n",
    "    ch2stain = {0:\"DAPI\", 1:\"CD3\", 2:\"ERK-1\", 3:\"hRAD51\", 4:\"CyclinD1\", 5:\"VIM\", 6:\"aSMA\", 7:\"ECad\", 8:\"ER\", 9:\"PR\",\n",
    "                10:\"EGFR\", 11:\"Rb\", 12:\"HER2\", 13:\"Ki67\", 14:\"CD45\", 15:\"p21\", 16:\"CK14\", 17:\"CK19\", 18:\"CK17\",\n",
    "                19:\"LaminABC\", 20:\"AR\", 21:\"Histone H2AX\", 22:\"PCNA\", 23:\"PanCK\", 24:\"CD31\"}\n",
    "\n",
    "if tissue == 'CRC':\n",
    "    ch2stain = {0:\"DAPI\", 1:\"CD3\", 2:\"NaKATPase\", 3:\"CD45RO\", 4:\"Ki67\", 5:\"panCK\", 6:\"aSMA\", 7:\"CD4\", 8:\"CD45\",\n",
    "                9:\"PD-1\", 10:\"CD20\", 11:\"CD68\", 12:\"CD8a\", 13:\"CD163\", 14:\"FOXP3\", 15:\"PD-L1\", 16:\"ECad\", 17:\"Vim\",\n",
    "                18:\"CDX2\", 19:\"LaminABC\", 20:\"Desmin\", 21:\"CD31\", 22:\"PCNA\", 23:\"Ki67\", 24:\"Collagen IV\"}"
   ]
  },
  {
   "cell_type": "code",
   "execution_count": 7,
   "id": "91cce345",
   "metadata": {},
   "outputs": [],
   "source": [
    "ckpt = 'ckpts/crc_tma_25_mrkr_300e_3.ckpt'"
   ]
  },
  {
   "cell_type": "code",
   "execution_count": 8,
   "id": "3b66a0ef",
   "metadata": {},
   "outputs": [],
   "source": [
    "if masking == '50p':\n",
    "    if tissue == 'CRC':\n",
    "        ckpt = 'ckpts/CRC_TMA_50p_mask_cls_epoch=499-step=84500.ckpt'\n",
    "    if tissue == 'BC':\n",
    "        ckpt = 'ckpts/50p_mask_12l_dec.ckpt' #BC\n",
    "\n",
    "if masking == '75p':\n",
    "    if tissue == 'CRC':\n",
    "        pass\n",
    "    if tissue == 'BC':\n",
    "        ckpt = 'ckpts/75p_mask_12l_dec_499e.ckpt'"
   ]
  },
  {
   "cell_type": "code",
   "execution_count": 9,
   "id": "54d6ed24",
   "metadata": {
    "scrolled": true
   },
   "outputs": [],
   "source": [
    "from mae import IF_MAE\n",
    "model = IF_MAE()\n",
    "model = model.load_from_checkpoint(ckpt)\n",
    "model = model.to(device)\n",
    "model = model.eval()"
   ]
  },
  {
   "cell_type": "code",
   "execution_count": 10,
   "id": "8ce29cd9",
   "metadata": {},
   "outputs": [],
   "source": [
    "val_loader = get_data(tissue, BATCH_SIZE)"
   ]
  },
  {
   "cell_type": "code",
   "execution_count": 11,
   "id": "91e8ba4d",
   "metadata": {},
   "outputs": [],
   "source": [
    "def get_channel_order(val_loader, model, ch2stain):\n",
    "    device = model.device\n",
    "    top_panel = [0]\n",
    "    for num_masked in reversed(range(1,24)):\n",
    "        masking_ratio = num_masked/25\n",
    "        model.mae.masking_ratio = masking_ratio\n",
    "\n",
    "        top_corr = -999\n",
    "        top_ch = None\n",
    "        for ch_candidate in range(25):\n",
    "            if ch_candidate in top_panel: continue\n",
    "            candidate_panel = top_panel.copy()\n",
    "            candidate_panel.append(ch_candidate)\n",
    "            print(f'candidate panel:{[ch2stain[ch] for ch in candidate_panel]}')\n",
    "\n",
    "            mints, pmints = get_intensities(model, candidate_panel, val_loader, device=device)\n",
    "            if mints.shape[1] == 1:\n",
    "                mints = mints.squeeze()\n",
    "                pmints = pmints.squeeze()\n",
    "            corr = torch.mean(spearman(pmints, mints))\n",
    "\n",
    "            if corr > top_corr:\n",
    "                print('found new top panel')\n",
    "                top_corr = corr\n",
    "                top_ch = ch_candidate\n",
    "\n",
    "            gc.collect()\n",
    "            torch.cuda.empty_cache()\n",
    "\n",
    "        top_panel.append(top_ch)\n",
    "    return top_panel"
   ]
  },
  {
   "cell_type": "code",
   "execution_count": 12,
   "id": "7d829163",
   "metadata": {
    "scrolled": true
   },
   "outputs": [
    {
     "name": "stdout",
     "output_type": "stream",
     "text": [
      "candidate panel:['DAPI', 'CD3']\n"
     ]
    },
    {
     "name": "stderr",
     "output_type": "stream",
     "text": [
      "100%|█████████████████████████████████████████████████████████████████████████████████████████████| 18/18 [00:27<00:00,  1.51s/it]\n"
     ]
    },
    {
     "name": "stdout",
     "output_type": "stream",
     "text": [
      "found new top panel\n",
      "candidate panel:['DAPI', 'ERK-1']\n"
     ]
    },
    {
     "name": "stderr",
     "output_type": "stream",
     "text": [
      "100%|█████████████████████████████████████████████████████████████████████████████████████████████| 18/18 [00:26<00:00,  1.47s/it]\n"
     ]
    },
    {
     "name": "stdout",
     "output_type": "stream",
     "text": [
      "candidate panel:['DAPI', 'hRAD51']\n"
     ]
    },
    {
     "name": "stderr",
     "output_type": "stream",
     "text": [
      "100%|█████████████████████████████████████████████████████████████████████████████████████████████| 18/18 [00:25<00:00,  1.42s/it]\n"
     ]
    },
    {
     "name": "stdout",
     "output_type": "stream",
     "text": [
      "candidate panel:['DAPI', 'CyclinD1']\n"
     ]
    },
    {
     "name": "stderr",
     "output_type": "stream",
     "text": [
      "100%|█████████████████████████████████████████████████████████████████████████████████████████████| 18/18 [00:26<00:00,  1.46s/it]\n"
     ]
    },
    {
     "name": "stdout",
     "output_type": "stream",
     "text": [
      "found new top panel\n",
      "candidate panel:['DAPI', 'VIM']\n"
     ]
    },
    {
     "name": "stderr",
     "output_type": "stream",
     "text": [
      "100%|█████████████████████████████████████████████████████████████████████████████████████████████| 18/18 [00:26<00:00,  1.46s/it]\n"
     ]
    },
    {
     "name": "stdout",
     "output_type": "stream",
     "text": [
      "candidate panel:['DAPI', 'aSMA']\n"
     ]
    },
    {
     "name": "stderr",
     "output_type": "stream",
     "text": [
      "100%|█████████████████████████████████████████████████████████████████████████████████████████████| 18/18 [00:25<00:00,  1.39s/it]\n"
     ]
    },
    {
     "name": "stdout",
     "output_type": "stream",
     "text": [
      "candidate panel:['DAPI', 'ECad']\n"
     ]
    },
    {
     "name": "stderr",
     "output_type": "stream",
     "text": [
      "100%|█████████████████████████████████████████████████████████████████████████████████████████████| 18/18 [00:25<00:00,  1.42s/it]\n"
     ]
    },
    {
     "name": "stdout",
     "output_type": "stream",
     "text": [
      "found new top panel\n",
      "candidate panel:['DAPI', 'ER']\n"
     ]
    },
    {
     "name": "stderr",
     "output_type": "stream",
     "text": [
      "100%|█████████████████████████████████████████████████████████████████████████████████████████████| 18/18 [00:25<00:00,  1.40s/it]\n"
     ]
    },
    {
     "name": "stdout",
     "output_type": "stream",
     "text": [
      "candidate panel:['DAPI', 'PR']\n"
     ]
    },
    {
     "name": "stderr",
     "output_type": "stream",
     "text": [
      "100%|█████████████████████████████████████████████████████████████████████████████████████████████| 18/18 [00:25<00:00,  1.40s/it]\n"
     ]
    },
    {
     "name": "stdout",
     "output_type": "stream",
     "text": [
      "candidate panel:['DAPI', 'EGFR']\n"
     ]
    },
    {
     "name": "stderr",
     "output_type": "stream",
     "text": [
      "100%|█████████████████████████████████████████████████████████████████████████████████████████████| 18/18 [00:26<00:00,  1.48s/it]\n"
     ]
    },
    {
     "name": "stdout",
     "output_type": "stream",
     "text": [
      "candidate panel:['DAPI', 'Rb']\n"
     ]
    },
    {
     "name": "stderr",
     "output_type": "stream",
     "text": [
      "100%|█████████████████████████████████████████████████████████████████████████████████████████████| 18/18 [00:26<00:00,  1.46s/it]\n"
     ]
    },
    {
     "name": "stdout",
     "output_type": "stream",
     "text": [
      "candidate panel:['DAPI', 'HER2']\n"
     ]
    },
    {
     "name": "stderr",
     "output_type": "stream",
     "text": [
      "100%|█████████████████████████████████████████████████████████████████████████████████████████████| 18/18 [00:25<00:00,  1.43s/it]\n"
     ]
    },
    {
     "name": "stdout",
     "output_type": "stream",
     "text": [
      "candidate panel:['DAPI', 'Ki67']\n"
     ]
    },
    {
     "name": "stderr",
     "output_type": "stream",
     "text": [
      "100%|█████████████████████████████████████████████████████████████████████████████████████████████| 18/18 [00:27<00:00,  1.51s/it]\n"
     ]
    },
    {
     "name": "stdout",
     "output_type": "stream",
     "text": [
      "candidate panel:['DAPI', 'CD45']\n"
     ]
    },
    {
     "name": "stderr",
     "output_type": "stream",
     "text": [
      "100%|█████████████████████████████████████████████████████████████████████████████████████████████| 18/18 [00:26<00:00,  1.45s/it]\n"
     ]
    },
    {
     "name": "stdout",
     "output_type": "stream",
     "text": [
      "candidate panel:['DAPI', 'p21']\n"
     ]
    },
    {
     "name": "stderr",
     "output_type": "stream",
     "text": [
      "100%|█████████████████████████████████████████████████████████████████████████████████████████████| 18/18 [00:25<00:00,  1.41s/it]\n"
     ]
    },
    {
     "name": "stdout",
     "output_type": "stream",
     "text": [
      "candidate panel:['DAPI', 'CK14']\n"
     ]
    },
    {
     "name": "stderr",
     "output_type": "stream",
     "text": [
      "100%|█████████████████████████████████████████████████████████████████████████████████████████████| 18/18 [00:25<00:00,  1.44s/it]\n"
     ]
    },
    {
     "name": "stdout",
     "output_type": "stream",
     "text": [
      "candidate panel:['DAPI', 'CK19']\n"
     ]
    },
    {
     "name": "stderr",
     "output_type": "stream",
     "text": [
      "100%|█████████████████████████████████████████████████████████████████████████████████████████████| 18/18 [00:25<00:00,  1.40s/it]\n"
     ]
    },
    {
     "name": "stdout",
     "output_type": "stream",
     "text": [
      "candidate panel:['DAPI', 'CK17']\n"
     ]
    },
    {
     "name": "stderr",
     "output_type": "stream",
     "text": [
      "100%|█████████████████████████████████████████████████████████████████████████████████████████████| 18/18 [00:25<00:00,  1.41s/it]\n"
     ]
    },
    {
     "name": "stdout",
     "output_type": "stream",
     "text": [
      "candidate panel:['DAPI', 'LaminABC']\n"
     ]
    },
    {
     "name": "stderr",
     "output_type": "stream",
     "text": [
      "100%|█████████████████████████████████████████████████████████████████████████████████████████████| 18/18 [00:25<00:00,  1.43s/it]\n"
     ]
    },
    {
     "name": "stdout",
     "output_type": "stream",
     "text": [
      "candidate panel:['DAPI', 'AR']\n"
     ]
    },
    {
     "name": "stderr",
     "output_type": "stream",
     "text": [
      "100%|█████████████████████████████████████████████████████████████████████████████████████████████| 18/18 [00:24<00:00,  1.39s/it]\n"
     ]
    },
    {
     "name": "stdout",
     "output_type": "stream",
     "text": [
      "candidate panel:['DAPI', 'Histone H2AX']\n"
     ]
    },
    {
     "name": "stderr",
     "output_type": "stream",
     "text": [
      "100%|█████████████████████████████████████████████████████████████████████████████████████████████| 18/18 [00:24<00:00,  1.38s/it]\n"
     ]
    },
    {
     "name": "stdout",
     "output_type": "stream",
     "text": [
      "candidate panel:['DAPI', 'PCNA']\n"
     ]
    },
    {
     "name": "stderr",
     "output_type": "stream",
     "text": [
      "100%|█████████████████████████████████████████████████████████████████████████████████████████████| 18/18 [00:25<00:00,  1.41s/it]\n"
     ]
    },
    {
     "name": "stdout",
     "output_type": "stream",
     "text": [
      "candidate panel:['DAPI', 'PanCK']\n"
     ]
    },
    {
     "name": "stderr",
     "output_type": "stream",
     "text": [
      "100%|█████████████████████████████████████████████████████████████████████████████████████████████| 18/18 [00:25<00:00,  1.40s/it]\n"
     ]
    },
    {
     "name": "stdout",
     "output_type": "stream",
     "text": [
      "candidate panel:['DAPI', 'CD31']\n"
     ]
    },
    {
     "name": "stderr",
     "output_type": "stream",
     "text": [
      "100%|█████████████████████████████████████████████████████████████████████████████████████████████| 18/18 [00:25<00:00,  1.40s/it]\n"
     ]
    },
    {
     "name": "stdout",
     "output_type": "stream",
     "text": [
      "candidate panel:['DAPI', 'ECad', 'CD3']\n"
     ]
    },
    {
     "name": "stderr",
     "output_type": "stream",
     "text": [
      "100%|█████████████████████████████████████████████████████████████████████████████████████████████| 18/18 [00:25<00:00,  1.42s/it]\n"
     ]
    },
    {
     "name": "stdout",
     "output_type": "stream",
     "text": [
      "found new top panel\n",
      "candidate panel:['DAPI', 'ECad', 'ERK-1']\n"
     ]
    },
    {
     "name": "stderr",
     "output_type": "stream",
     "text": [
      "100%|█████████████████████████████████████████████████████████████████████████████████████████████| 18/18 [00:25<00:00,  1.42s/it]\n"
     ]
    },
    {
     "name": "stdout",
     "output_type": "stream",
     "text": [
      "found new top panel\n",
      "candidate panel:['DAPI', 'ECad', 'hRAD51']\n"
     ]
    },
    {
     "name": "stderr",
     "output_type": "stream",
     "text": [
      "100%|█████████████████████████████████████████████████████████████████████████████████████████████| 18/18 [00:25<00:00,  1.41s/it]\n"
     ]
    },
    {
     "name": "stdout",
     "output_type": "stream",
     "text": [
      "candidate panel:['DAPI', 'ECad', 'CyclinD1']\n"
     ]
    },
    {
     "name": "stderr",
     "output_type": "stream",
     "text": [
      "100%|█████████████████████████████████████████████████████████████████████████████████████████████| 18/18 [00:25<00:00,  1.42s/it]\n"
     ]
    },
    {
     "name": "stdout",
     "output_type": "stream",
     "text": [
      "found new top panel\n",
      "candidate panel:['DAPI', 'ECad', 'VIM']\n"
     ]
    },
    {
     "name": "stderr",
     "output_type": "stream",
     "text": [
      "100%|█████████████████████████████████████████████████████████████████████████████████████████████| 18/18 [00:25<00:00,  1.42s/it]\n"
     ]
    },
    {
     "name": "stdout",
     "output_type": "stream",
     "text": [
      "found new top panel\n",
      "candidate panel:['DAPI', 'ECad', 'aSMA']\n"
     ]
    },
    {
     "name": "stderr",
     "output_type": "stream",
     "text": [
      "100%|█████████████████████████████████████████████████████████████████████████████████████████████| 18/18 [00:25<00:00,  1.41s/it]\n"
     ]
    },
    {
     "name": "stdout",
     "output_type": "stream",
     "text": [
      "candidate panel:['DAPI', 'ECad', 'ER']\n"
     ]
    },
    {
     "name": "stderr",
     "output_type": "stream",
     "text": [
      "100%|█████████████████████████████████████████████████████████████████████████████████████████████| 18/18 [00:24<00:00,  1.39s/it]\n"
     ]
    },
    {
     "name": "stdout",
     "output_type": "stream",
     "text": [
      "found new top panel\n",
      "candidate panel:['DAPI', 'ECad', 'PR']\n"
     ]
    },
    {
     "name": "stderr",
     "output_type": "stream",
     "text": [
      "100%|█████████████████████████████████████████████████████████████████████████████████████████████| 18/18 [00:25<00:00,  1.42s/it]\n"
     ]
    },
    {
     "name": "stdout",
     "output_type": "stream",
     "text": [
      "candidate panel:['DAPI', 'ECad', 'EGFR']\n"
     ]
    },
    {
     "name": "stderr",
     "output_type": "stream",
     "text": [
      "100%|█████████████████████████████████████████████████████████████████████████████████████████████| 18/18 [00:25<00:00,  1.40s/it]\n"
     ]
    },
    {
     "name": "stdout",
     "output_type": "stream",
     "text": [
      "candidate panel:['DAPI', 'ECad', 'Rb']\n"
     ]
    },
    {
     "name": "stderr",
     "output_type": "stream",
     "text": [
      "100%|█████████████████████████████████████████████████████████████████████████████████████████████| 18/18 [00:25<00:00,  1.42s/it]\n"
     ]
    },
    {
     "name": "stdout",
     "output_type": "stream",
     "text": [
      "candidate panel:['DAPI', 'ECad', 'HER2']\n"
     ]
    },
    {
     "name": "stderr",
     "output_type": "stream",
     "text": [
      "100%|█████████████████████████████████████████████████████████████████████████████████████████████| 18/18 [00:25<00:00,  1.44s/it]\n"
     ]
    },
    {
     "name": "stdout",
     "output_type": "stream",
     "text": [
      "found new top panel\n",
      "candidate panel:['DAPI', 'ECad', 'Ki67']\n"
     ]
    },
    {
     "name": "stderr",
     "output_type": "stream",
     "text": [
      "100%|█████████████████████████████████████████████████████████████████████████████████████████████| 18/18 [00:25<00:00,  1.43s/it]\n"
     ]
    },
    {
     "name": "stdout",
     "output_type": "stream",
     "text": [
      "candidate panel:['DAPI', 'ECad', 'CD45']\n"
     ]
    },
    {
     "name": "stderr",
     "output_type": "stream",
     "text": [
      "100%|█████████████████████████████████████████████████████████████████████████████████████████████| 18/18 [00:25<00:00,  1.42s/it]\n"
     ]
    },
    {
     "name": "stdout",
     "output_type": "stream",
     "text": [
      "candidate panel:['DAPI', 'ECad', 'p21']\n"
     ]
    },
    {
     "name": "stderr",
     "output_type": "stream",
     "text": [
      "100%|█████████████████████████████████████████████████████████████████████████████████████████████| 18/18 [00:25<00:00,  1.41s/it]\n"
     ]
    },
    {
     "name": "stdout",
     "output_type": "stream",
     "text": [
      "candidate panel:['DAPI', 'ECad', 'CK14']\n"
     ]
    },
    {
     "name": "stderr",
     "output_type": "stream",
     "text": [
      "100%|█████████████████████████████████████████████████████████████████████████████████████████████| 18/18 [00:26<00:00,  1.45s/it]\n"
     ]
    },
    {
     "name": "stdout",
     "output_type": "stream",
     "text": [
      "found new top panel\n",
      "candidate panel:['DAPI', 'ECad', 'CK19']\n"
     ]
    },
    {
     "name": "stderr",
     "output_type": "stream",
     "text": [
      "100%|█████████████████████████████████████████████████████████████████████████████████████████████| 18/18 [00:25<00:00,  1.40s/it]\n"
     ]
    },
    {
     "name": "stdout",
     "output_type": "stream",
     "text": [
      "candidate panel:['DAPI', 'ECad', 'CK17']\n"
     ]
    },
    {
     "name": "stderr",
     "output_type": "stream",
     "text": [
      "100%|█████████████████████████████████████████████████████████████████████████████████████████████| 18/18 [00:25<00:00,  1.43s/it]\n"
     ]
    },
    {
     "name": "stdout",
     "output_type": "stream",
     "text": [
      "candidate panel:['DAPI', 'ECad', 'LaminABC']\n"
     ]
    },
    {
     "name": "stderr",
     "output_type": "stream",
     "text": [
      "100%|█████████████████████████████████████████████████████████████████████████████████████████████| 18/18 [00:25<00:00,  1.44s/it]\n"
     ]
    },
    {
     "name": "stdout",
     "output_type": "stream",
     "text": [
      "candidate panel:['DAPI', 'ECad', 'AR']\n"
     ]
    },
    {
     "name": "stderr",
     "output_type": "stream",
     "text": [
      "100%|█████████████████████████████████████████████████████████████████████████████████████████████| 18/18 [00:25<00:00,  1.43s/it]\n"
     ]
    },
    {
     "name": "stdout",
     "output_type": "stream",
     "text": [
      "candidate panel:['DAPI', 'ECad', 'Histone H2AX']\n"
     ]
    },
    {
     "name": "stderr",
     "output_type": "stream",
     "text": [
      "100%|█████████████████████████████████████████████████████████████████████████████████████████████| 18/18 [00:25<00:00,  1.41s/it]\n"
     ]
    },
    {
     "name": "stdout",
     "output_type": "stream",
     "text": [
      "candidate panel:['DAPI', 'ECad', 'PCNA']\n"
     ]
    },
    {
     "name": "stderr",
     "output_type": "stream",
     "text": [
      "100%|█████████████████████████████████████████████████████████████████████████████████████████████| 18/18 [00:25<00:00,  1.40s/it]\n"
     ]
    },
    {
     "name": "stdout",
     "output_type": "stream",
     "text": [
      "candidate panel:['DAPI', 'ECad', 'PanCK']\n"
     ]
    },
    {
     "name": "stderr",
     "output_type": "stream",
     "text": [
      "100%|█████████████████████████████████████████████████████████████████████████████████████████████| 18/18 [00:25<00:00,  1.44s/it]\n"
     ]
    },
    {
     "name": "stdout",
     "output_type": "stream",
     "text": [
      "candidate panel:['DAPI', 'ECad', 'CD31']\n"
     ]
    },
    {
     "name": "stderr",
     "output_type": "stream",
     "text": [
      "100%|█████████████████████████████████████████████████████████████████████████████████████████████| 18/18 [00:25<00:00,  1.40s/it]\n"
     ]
    },
    {
     "name": "stdout",
     "output_type": "stream",
     "text": [
      "candidate panel:['DAPI', 'ECad', 'CK14', 'CD3']\n"
     ]
    },
    {
     "name": "stderr",
     "output_type": "stream",
     "text": [
      "100%|█████████████████████████████████████████████████████████████████████████████████████████████| 18/18 [00:25<00:00,  1.42s/it]\n"
     ]
    },
    {
     "name": "stdout",
     "output_type": "stream",
     "text": [
      "found new top panel\n",
      "candidate panel:['DAPI', 'ECad', 'CK14', 'ERK-1']\n"
     ]
    },
    {
     "name": "stderr",
     "output_type": "stream",
     "text": [
      "100%|█████████████████████████████████████████████████████████████████████████████████████████████| 18/18 [00:25<00:00,  1.44s/it]\n"
     ]
    },
    {
     "name": "stdout",
     "output_type": "stream",
     "text": [
      "candidate panel:['DAPI', 'ECad', 'CK14', 'hRAD51']\n"
     ]
    },
    {
     "name": "stderr",
     "output_type": "stream",
     "text": [
      "100%|█████████████████████████████████████████████████████████████████████████████████████████████| 18/18 [00:25<00:00,  1.43s/it]\n"
     ]
    },
    {
     "name": "stdout",
     "output_type": "stream",
     "text": [
      "candidate panel:['DAPI', 'ECad', 'CK14', 'CyclinD1']\n"
     ]
    },
    {
     "name": "stderr",
     "output_type": "stream",
     "text": [
      "100%|█████████████████████████████████████████████████████████████████████████████████████████████| 18/18 [00:25<00:00,  1.42s/it]\n"
     ]
    },
    {
     "name": "stdout",
     "output_type": "stream",
     "text": [
      "candidate panel:['DAPI', 'ECad', 'CK14', 'VIM']\n"
     ]
    },
    {
     "name": "stderr",
     "output_type": "stream",
     "text": [
      "100%|█████████████████████████████████████████████████████████████████████████████████████████████| 18/18 [00:25<00:00,  1.41s/it]\n"
     ]
    },
    {
     "name": "stdout",
     "output_type": "stream",
     "text": [
      "found new top panel\n",
      "candidate panel:['DAPI', 'ECad', 'CK14', 'aSMA']\n"
     ]
    },
    {
     "name": "stderr",
     "output_type": "stream",
     "text": [
      "100%|█████████████████████████████████████████████████████████████████████████████████████████████| 18/18 [00:25<00:00,  1.43s/it]\n"
     ]
    },
    {
     "name": "stdout",
     "output_type": "stream",
     "text": [
      "candidate panel:['DAPI', 'ECad', 'CK14', 'ER']\n"
     ]
    },
    {
     "name": "stderr",
     "output_type": "stream",
     "text": [
      "100%|█████████████████████████████████████████████████████████████████████████████████████████████| 18/18 [00:26<00:00,  1.46s/it]\n"
     ]
    },
    {
     "name": "stdout",
     "output_type": "stream",
     "text": [
      "candidate panel:['DAPI', 'ECad', 'CK14', 'PR']\n"
     ]
    },
    {
     "name": "stderr",
     "output_type": "stream",
     "text": [
      "100%|█████████████████████████████████████████████████████████████████████████████████████████████| 18/18 [00:26<00:00,  1.49s/it]\n"
     ]
    },
    {
     "name": "stdout",
     "output_type": "stream",
     "text": [
      "candidate panel:['DAPI', 'ECad', 'CK14', 'EGFR']\n"
     ]
    },
    {
     "name": "stderr",
     "output_type": "stream",
     "text": [
      "100%|█████████████████████████████████████████████████████████████████████████████████████████████| 18/18 [00:26<00:00,  1.45s/it]\n"
     ]
    },
    {
     "name": "stdout",
     "output_type": "stream",
     "text": [
      "candidate panel:['DAPI', 'ECad', 'CK14', 'Rb']\n"
     ]
    },
    {
     "name": "stderr",
     "output_type": "stream",
     "text": [
      "100%|█████████████████████████████████████████████████████████████████████████████████████████████| 18/18 [00:25<00:00,  1.42s/it]\n"
     ]
    },
    {
     "name": "stdout",
     "output_type": "stream",
     "text": [
      "candidate panel:['DAPI', 'ECad', 'CK14', 'HER2']\n"
     ]
    },
    {
     "name": "stderr",
     "output_type": "stream",
     "text": [
      "100%|█████████████████████████████████████████████████████████████████████████████████████████████| 18/18 [00:25<00:00,  1.44s/it]\n"
     ]
    },
    {
     "name": "stdout",
     "output_type": "stream",
     "text": [
      "found new top panel\n",
      "candidate panel:['DAPI', 'ECad', 'CK14', 'Ki67']\n"
     ]
    },
    {
     "name": "stderr",
     "output_type": "stream",
     "text": [
      "100%|█████████████████████████████████████████████████████████████████████████████████████████████| 18/18 [00:25<00:00,  1.44s/it]\n"
     ]
    },
    {
     "name": "stdout",
     "output_type": "stream",
     "text": [
      "candidate panel:['DAPI', 'ECad', 'CK14', 'CD45']\n"
     ]
    },
    {
     "name": "stderr",
     "output_type": "stream",
     "text": [
      "100%|█████████████████████████████████████████████████████████████████████████████████████████████| 18/18 [00:25<00:00,  1.43s/it]\n"
     ]
    },
    {
     "name": "stdout",
     "output_type": "stream",
     "text": [
      "candidate panel:['DAPI', 'ECad', 'CK14', 'p21']\n"
     ]
    },
    {
     "name": "stderr",
     "output_type": "stream",
     "text": [
      "100%|█████████████████████████████████████████████████████████████████████████████████████████████| 18/18 [00:25<00:00,  1.44s/it]\n"
     ]
    },
    {
     "name": "stdout",
     "output_type": "stream",
     "text": [
      "candidate panel:['DAPI', 'ECad', 'CK14', 'CK19']\n"
     ]
    },
    {
     "name": "stderr",
     "output_type": "stream",
     "text": [
      "100%|█████████████████████████████████████████████████████████████████████████████████████████████| 18/18 [00:25<00:00,  1.43s/it]\n"
     ]
    },
    {
     "name": "stdout",
     "output_type": "stream",
     "text": [
      "candidate panel:['DAPI', 'ECad', 'CK14', 'CK17']\n"
     ]
    },
    {
     "name": "stderr",
     "output_type": "stream",
     "text": [
      "100%|█████████████████████████████████████████████████████████████████████████████████████████████| 18/18 [00:25<00:00,  1.43s/it]\n"
     ]
    },
    {
     "name": "stdout",
     "output_type": "stream",
     "text": [
      "candidate panel:['DAPI', 'ECad', 'CK14', 'LaminABC']\n"
     ]
    },
    {
     "name": "stderr",
     "output_type": "stream",
     "text": [
      "100%|█████████████████████████████████████████████████████████████████████████████████████████████| 18/18 [00:25<00:00,  1.42s/it]\n"
     ]
    },
    {
     "name": "stdout",
     "output_type": "stream",
     "text": [
      "candidate panel:['DAPI', 'ECad', 'CK14', 'AR']\n"
     ]
    },
    {
     "name": "stderr",
     "output_type": "stream",
     "text": [
      "100%|█████████████████████████████████████████████████████████████████████████████████████████████| 18/18 [00:25<00:00,  1.42s/it]\n"
     ]
    },
    {
     "name": "stdout",
     "output_type": "stream",
     "text": [
      "candidate panel:['DAPI', 'ECad', 'CK14', 'Histone H2AX']\n"
     ]
    },
    {
     "name": "stderr",
     "output_type": "stream",
     "text": [
      "100%|█████████████████████████████████████████████████████████████████████████████████████████████| 18/18 [00:25<00:00,  1.43s/it]\n"
     ]
    },
    {
     "name": "stdout",
     "output_type": "stream",
     "text": [
      "candidate panel:['DAPI', 'ECad', 'CK14', 'PCNA']\n"
     ]
    },
    {
     "name": "stderr",
     "output_type": "stream",
     "text": [
      "100%|█████████████████████████████████████████████████████████████████████████████████████████████| 18/18 [00:25<00:00,  1.41s/it]\n"
     ]
    },
    {
     "name": "stdout",
     "output_type": "stream",
     "text": [
      "candidate panel:['DAPI', 'ECad', 'CK14', 'PanCK']\n"
     ]
    },
    {
     "name": "stderr",
     "output_type": "stream",
     "text": [
      "100%|█████████████████████████████████████████████████████████████████████████████████████████████| 18/18 [00:25<00:00,  1.43s/it]\n"
     ]
    },
    {
     "name": "stdout",
     "output_type": "stream",
     "text": [
      "candidate panel:['DAPI', 'ECad', 'CK14', 'CD31']\n"
     ]
    },
    {
     "name": "stderr",
     "output_type": "stream",
     "text": [
      "100%|█████████████████████████████████████████████████████████████████████████████████████████████| 18/18 [00:25<00:00,  1.43s/it]\n"
     ]
    },
    {
     "name": "stdout",
     "output_type": "stream",
     "text": [
      "candidate panel:['DAPI', 'ECad', 'CK14', 'HER2', 'CD3']\n"
     ]
    },
    {
     "name": "stderr",
     "output_type": "stream",
     "text": [
      "100%|█████████████████████████████████████████████████████████████████████████████████████████████| 18/18 [00:25<00:00,  1.42s/it]\n"
     ]
    },
    {
     "name": "stdout",
     "output_type": "stream",
     "text": [
      "found new top panel\n",
      "candidate panel:['DAPI', 'ECad', 'CK14', 'HER2', 'ERK-1']\n"
     ]
    },
    {
     "name": "stderr",
     "output_type": "stream",
     "text": [
      "100%|█████████████████████████████████████████████████████████████████████████████████████████████| 18/18 [00:25<00:00,  1.43s/it]\n"
     ]
    },
    {
     "name": "stdout",
     "output_type": "stream",
     "text": [
      "candidate panel:['DAPI', 'ECad', 'CK14', 'HER2', 'hRAD51']\n"
     ]
    },
    {
     "name": "stderr",
     "output_type": "stream",
     "text": [
      "100%|█████████████████████████████████████████████████████████████████████████████████████████████| 18/18 [00:25<00:00,  1.41s/it]\n"
     ]
    },
    {
     "name": "stdout",
     "output_type": "stream",
     "text": [
      "candidate panel:['DAPI', 'ECad', 'CK14', 'HER2', 'CyclinD1']\n"
     ]
    },
    {
     "name": "stderr",
     "output_type": "stream",
     "text": [
      "100%|█████████████████████████████████████████████████████████████████████████████████████████████| 18/18 [00:25<00:00,  1.43s/it]\n"
     ]
    },
    {
     "name": "stdout",
     "output_type": "stream",
     "text": [
      "candidate panel:['DAPI', 'ECad', 'CK14', 'HER2', 'VIM']\n"
     ]
    },
    {
     "name": "stderr",
     "output_type": "stream",
     "text": [
      "100%|█████████████████████████████████████████████████████████████████████████████████████████████| 18/18 [00:26<00:00,  1.45s/it]\n"
     ]
    },
    {
     "name": "stdout",
     "output_type": "stream",
     "text": [
      "found new top panel\n",
      "candidate panel:['DAPI', 'ECad', 'CK14', 'HER2', 'aSMA']\n"
     ]
    },
    {
     "name": "stderr",
     "output_type": "stream",
     "text": [
      "100%|█████████████████████████████████████████████████████████████████████████████████████████████| 18/18 [00:25<00:00,  1.43s/it]\n"
     ]
    },
    {
     "name": "stdout",
     "output_type": "stream",
     "text": [
      "candidate panel:['DAPI', 'ECad', 'CK14', 'HER2', 'ER']\n"
     ]
    },
    {
     "name": "stderr",
     "output_type": "stream",
     "text": [
      "100%|█████████████████████████████████████████████████████████████████████████████████████████████| 18/18 [00:25<00:00,  1.44s/it]\n"
     ]
    },
    {
     "name": "stdout",
     "output_type": "stream",
     "text": [
      "candidate panel:['DAPI', 'ECad', 'CK14', 'HER2', 'PR']\n"
     ]
    },
    {
     "name": "stderr",
     "output_type": "stream",
     "text": [
      "100%|█████████████████████████████████████████████████████████████████████████████████████████████| 18/18 [00:26<00:00,  1.46s/it]\n"
     ]
    },
    {
     "name": "stdout",
     "output_type": "stream",
     "text": [
      "candidate panel:['DAPI', 'ECad', 'CK14', 'HER2', 'EGFR']\n"
     ]
    },
    {
     "name": "stderr",
     "output_type": "stream",
     "text": [
      "100%|█████████████████████████████████████████████████████████████████████████████████████████████| 18/18 [00:25<00:00,  1.44s/it]\n"
     ]
    },
    {
     "name": "stdout",
     "output_type": "stream",
     "text": [
      "candidate panel:['DAPI', 'ECad', 'CK14', 'HER2', 'Rb']\n"
     ]
    },
    {
     "name": "stderr",
     "output_type": "stream",
     "text": [
      "100%|█████████████████████████████████████████████████████████████████████████████████████████████| 18/18 [00:25<00:00,  1.44s/it]\n"
     ]
    },
    {
     "name": "stdout",
     "output_type": "stream",
     "text": [
      "candidate panel:['DAPI', 'ECad', 'CK14', 'HER2', 'Ki67']\n"
     ]
    },
    {
     "name": "stderr",
     "output_type": "stream",
     "text": [
      "100%|█████████████████████████████████████████████████████████████████████████████████████████████| 18/18 [00:26<00:00,  1.45s/it]\n"
     ]
    },
    {
     "name": "stdout",
     "output_type": "stream",
     "text": [
      "candidate panel:['DAPI', 'ECad', 'CK14', 'HER2', 'CD45']\n"
     ]
    },
    {
     "name": "stderr",
     "output_type": "stream",
     "text": [
      "100%|█████████████████████████████████████████████████████████████████████████████████████████████| 18/18 [00:26<00:00,  1.47s/it]\n"
     ]
    },
    {
     "name": "stdout",
     "output_type": "stream",
     "text": [
      "found new top panel\n",
      "candidate panel:['DAPI', 'ECad', 'CK14', 'HER2', 'p21']\n"
     ]
    },
    {
     "name": "stderr",
     "output_type": "stream",
     "text": [
      "100%|█████████████████████████████████████████████████████████████████████████████████████████████| 18/18 [00:26<00:00,  1.45s/it]\n"
     ]
    },
    {
     "name": "stdout",
     "output_type": "stream",
     "text": [
      "candidate panel:['DAPI', 'ECad', 'CK14', 'HER2', 'CK19']\n"
     ]
    },
    {
     "name": "stderr",
     "output_type": "stream",
     "text": [
      "100%|█████████████████████████████████████████████████████████████████████████████████████████████| 18/18 [00:25<00:00,  1.43s/it]\n"
     ]
    },
    {
     "name": "stdout",
     "output_type": "stream",
     "text": [
      "candidate panel:['DAPI', 'ECad', 'CK14', 'HER2', 'CK17']\n"
     ]
    },
    {
     "name": "stderr",
     "output_type": "stream",
     "text": [
      "100%|█████████████████████████████████████████████████████████████████████████████████████████████| 18/18 [00:25<00:00,  1.44s/it]\n"
     ]
    },
    {
     "name": "stdout",
     "output_type": "stream",
     "text": [
      "candidate panel:['DAPI', 'ECad', 'CK14', 'HER2', 'LaminABC']\n"
     ]
    },
    {
     "name": "stderr",
     "output_type": "stream",
     "text": [
      "100%|█████████████████████████████████████████████████████████████████████████████████████████████| 18/18 [00:25<00:00,  1.44s/it]\n"
     ]
    },
    {
     "name": "stdout",
     "output_type": "stream",
     "text": [
      "candidate panel:['DAPI', 'ECad', 'CK14', 'HER2', 'AR']\n"
     ]
    },
    {
     "name": "stderr",
     "output_type": "stream",
     "text": [
      "100%|█████████████████████████████████████████████████████████████████████████████████████████████| 18/18 [00:25<00:00,  1.44s/it]\n"
     ]
    },
    {
     "name": "stdout",
     "output_type": "stream",
     "text": [
      "candidate panel:['DAPI', 'ECad', 'CK14', 'HER2', 'Histone H2AX']\n"
     ]
    },
    {
     "name": "stderr",
     "output_type": "stream",
     "text": [
      "100%|█████████████████████████████████████████████████████████████████████████████████████████████| 18/18 [00:26<00:00,  1.46s/it]\n"
     ]
    },
    {
     "name": "stdout",
     "output_type": "stream",
     "text": [
      "candidate panel:['DAPI', 'ECad', 'CK14', 'HER2', 'PCNA']\n"
     ]
    },
    {
     "name": "stderr",
     "output_type": "stream",
     "text": [
      "100%|█████████████████████████████████████████████████████████████████████████████████████████████| 18/18 [00:26<00:00,  1.44s/it]\n"
     ]
    },
    {
     "name": "stdout",
     "output_type": "stream",
     "text": [
      "candidate panel:['DAPI', 'ECad', 'CK14', 'HER2', 'PanCK']\n"
     ]
    },
    {
     "name": "stderr",
     "output_type": "stream",
     "text": [
      "100%|█████████████████████████████████████████████████████████████████████████████████████████████| 18/18 [00:25<00:00,  1.44s/it]\n"
     ]
    },
    {
     "name": "stdout",
     "output_type": "stream",
     "text": [
      "candidate panel:['DAPI', 'ECad', 'CK14', 'HER2', 'CD31']\n"
     ]
    },
    {
     "name": "stderr",
     "output_type": "stream",
     "text": [
      "100%|█████████████████████████████████████████████████████████████████████████████████████████████| 18/18 [00:25<00:00,  1.43s/it]\n"
     ]
    },
    {
     "name": "stdout",
     "output_type": "stream",
     "text": [
      "candidate panel:['DAPI', 'ECad', 'CK14', 'HER2', 'CD45', 'CD3']\n"
     ]
    },
    {
     "name": "stderr",
     "output_type": "stream",
     "text": [
      "100%|█████████████████████████████████████████████████████████████████████████████████████████████| 18/18 [00:25<00:00,  1.44s/it]\n"
     ]
    },
    {
     "name": "stdout",
     "output_type": "stream",
     "text": [
      "found new top panel\n",
      "candidate panel:['DAPI', 'ECad', 'CK14', 'HER2', 'CD45', 'ERK-1']\n"
     ]
    },
    {
     "name": "stderr",
     "output_type": "stream",
     "text": [
      "100%|█████████████████████████████████████████████████████████████████████████████████████████████| 18/18 [00:26<00:00,  1.45s/it]\n"
     ]
    },
    {
     "name": "stdout",
     "output_type": "stream",
     "text": [
      "found new top panel\n",
      "candidate panel:['DAPI', 'ECad', 'CK14', 'HER2', 'CD45', 'hRAD51']\n"
     ]
    },
    {
     "name": "stderr",
     "output_type": "stream",
     "text": [
      "100%|█████████████████████████████████████████████████████████████████████████████████████████████| 18/18 [00:25<00:00,  1.44s/it]\n"
     ]
    },
    {
     "name": "stdout",
     "output_type": "stream",
     "text": [
      "candidate panel:['DAPI', 'ECad', 'CK14', 'HER2', 'CD45', 'CyclinD1']\n"
     ]
    },
    {
     "name": "stderr",
     "output_type": "stream",
     "text": [
      "100%|█████████████████████████████████████████████████████████████████████████████████████████████| 18/18 [00:25<00:00,  1.44s/it]\n"
     ]
    },
    {
     "name": "stdout",
     "output_type": "stream",
     "text": [
      "candidate panel:['DAPI', 'ECad', 'CK14', 'HER2', 'CD45', 'VIM']\n"
     ]
    },
    {
     "name": "stderr",
     "output_type": "stream",
     "text": [
      "100%|█████████████████████████████████████████████████████████████████████████████████████████████| 18/18 [00:25<00:00,  1.44s/it]\n"
     ]
    },
    {
     "name": "stdout",
     "output_type": "stream",
     "text": [
      "candidate panel:['DAPI', 'ECad', 'CK14', 'HER2', 'CD45', 'aSMA']\n"
     ]
    },
    {
     "name": "stderr",
     "output_type": "stream",
     "text": [
      "100%|█████████████████████████████████████████████████████████████████████████████████████████████| 18/18 [00:26<00:00,  1.47s/it]\n"
     ]
    },
    {
     "name": "stdout",
     "output_type": "stream",
     "text": [
      "candidate panel:['DAPI', 'ECad', 'CK14', 'HER2', 'CD45', 'ER']\n"
     ]
    },
    {
     "name": "stderr",
     "output_type": "stream",
     "text": [
      "100%|█████████████████████████████████████████████████████████████████████████████████████████████| 18/18 [00:26<00:00,  1.46s/it]\n"
     ]
    },
    {
     "name": "stdout",
     "output_type": "stream",
     "text": [
      "found new top panel\n",
      "candidate panel:['DAPI', 'ECad', 'CK14', 'HER2', 'CD45', 'PR']\n"
     ]
    },
    {
     "name": "stderr",
     "output_type": "stream",
     "text": [
      "100%|█████████████████████████████████████████████████████████████████████████████████████████████| 18/18 [00:26<00:00,  1.46s/it]\n"
     ]
    },
    {
     "name": "stdout",
     "output_type": "stream",
     "text": [
      "found new top panel\n",
      "candidate panel:['DAPI', 'ECad', 'CK14', 'HER2', 'CD45', 'EGFR']\n"
     ]
    },
    {
     "name": "stderr",
     "output_type": "stream",
     "text": [
      "100%|█████████████████████████████████████████████████████████████████████████████████████████████| 18/18 [00:25<00:00,  1.44s/it]\n"
     ]
    },
    {
     "name": "stdout",
     "output_type": "stream",
     "text": [
      "candidate panel:['DAPI', 'ECad', 'CK14', 'HER2', 'CD45', 'Rb']\n"
     ]
    },
    {
     "name": "stderr",
     "output_type": "stream",
     "text": [
      "100%|█████████████████████████████████████████████████████████████████████████████████████████████| 18/18 [00:26<00:00,  1.46s/it]\n"
     ]
    },
    {
     "name": "stdout",
     "output_type": "stream",
     "text": [
      "candidate panel:['DAPI', 'ECad', 'CK14', 'HER2', 'CD45', 'Ki67']\n"
     ]
    },
    {
     "name": "stderr",
     "output_type": "stream",
     "text": [
      "100%|█████████████████████████████████████████████████████████████████████████████████████████████| 18/18 [00:25<00:00,  1.41s/it]\n"
     ]
    },
    {
     "name": "stdout",
     "output_type": "stream",
     "text": [
      "candidate panel:['DAPI', 'ECad', 'CK14', 'HER2', 'CD45', 'p21']\n"
     ]
    },
    {
     "name": "stderr",
     "output_type": "stream",
     "text": [
      "100%|█████████████████████████████████████████████████████████████████████████████████████████████| 18/18 [00:25<00:00,  1.44s/it]\n"
     ]
    },
    {
     "name": "stdout",
     "output_type": "stream",
     "text": [
      "candidate panel:['DAPI', 'ECad', 'CK14', 'HER2', 'CD45', 'CK19']\n"
     ]
    },
    {
     "name": "stderr",
     "output_type": "stream",
     "text": [
      "100%|█████████████████████████████████████████████████████████████████████████████████████████████| 18/18 [00:26<00:00,  1.45s/it]\n"
     ]
    },
    {
     "name": "stdout",
     "output_type": "stream",
     "text": [
      "candidate panel:['DAPI', 'ECad', 'CK14', 'HER2', 'CD45', 'CK17']\n"
     ]
    },
    {
     "name": "stderr",
     "output_type": "stream",
     "text": [
      "100%|█████████████████████████████████████████████████████████████████████████████████████████████| 18/18 [00:25<00:00,  1.44s/it]\n"
     ]
    },
    {
     "name": "stdout",
     "output_type": "stream",
     "text": [
      "candidate panel:['DAPI', 'ECad', 'CK14', 'HER2', 'CD45', 'LaminABC']\n"
     ]
    },
    {
     "name": "stderr",
     "output_type": "stream",
     "text": [
      "100%|█████████████████████████████████████████████████████████████████████████████████████████████| 18/18 [00:26<00:00,  1.45s/it]\n"
     ]
    },
    {
     "name": "stdout",
     "output_type": "stream",
     "text": [
      "candidate panel:['DAPI', 'ECad', 'CK14', 'HER2', 'CD45', 'AR']\n"
     ]
    },
    {
     "name": "stderr",
     "output_type": "stream",
     "text": [
      "100%|█████████████████████████████████████████████████████████████████████████████████████████████| 18/18 [00:26<00:00,  1.45s/it]\n"
     ]
    },
    {
     "name": "stdout",
     "output_type": "stream",
     "text": [
      "candidate panel:['DAPI', 'ECad', 'CK14', 'HER2', 'CD45', 'Histone H2AX']\n"
     ]
    },
    {
     "name": "stderr",
     "output_type": "stream",
     "text": [
      "100%|█████████████████████████████████████████████████████████████████████████████████████████████| 18/18 [00:27<00:00,  1.53s/it]\n"
     ]
    },
    {
     "name": "stdout",
     "output_type": "stream",
     "text": [
      "candidate panel:['DAPI', 'ECad', 'CK14', 'HER2', 'CD45', 'PCNA']\n"
     ]
    },
    {
     "name": "stderr",
     "output_type": "stream",
     "text": [
      "100%|█████████████████████████████████████████████████████████████████████████████████████████████| 18/18 [00:26<00:00,  1.46s/it]\n"
     ]
    },
    {
     "name": "stdout",
     "output_type": "stream",
     "text": [
      "candidate panel:['DAPI', 'ECad', 'CK14', 'HER2', 'CD45', 'PanCK']\n"
     ]
    },
    {
     "name": "stderr",
     "output_type": "stream",
     "text": [
      "100%|█████████████████████████████████████████████████████████████████████████████████████████████| 18/18 [00:26<00:00,  1.46s/it]\n"
     ]
    },
    {
     "name": "stdout",
     "output_type": "stream",
     "text": [
      "candidate panel:['DAPI', 'ECad', 'CK14', 'HER2', 'CD45', 'CD31']\n"
     ]
    },
    {
     "name": "stderr",
     "output_type": "stream",
     "text": [
      "100%|█████████████████████████████████████████████████████████████████████████████████████████████| 18/18 [00:26<00:00,  1.46s/it]\n"
     ]
    },
    {
     "name": "stdout",
     "output_type": "stream",
     "text": [
      "candidate panel:['DAPI', 'ECad', 'CK14', 'HER2', 'CD45', 'PR', 'CD3']\n"
     ]
    },
    {
     "name": "stderr",
     "output_type": "stream",
     "text": [
      "100%|█████████████████████████████████████████████████████████████████████████████████████████████| 18/18 [00:26<00:00,  1.47s/it]\n"
     ]
    },
    {
     "name": "stdout",
     "output_type": "stream",
     "text": [
      "found new top panel\n",
      "candidate panel:['DAPI', 'ECad', 'CK14', 'HER2', 'CD45', 'PR', 'ERK-1']\n"
     ]
    },
    {
     "name": "stderr",
     "output_type": "stream",
     "text": [
      "100%|█████████████████████████████████████████████████████████████████████████████████████████████| 18/18 [00:26<00:00,  1.45s/it]\n"
     ]
    },
    {
     "name": "stdout",
     "output_type": "stream",
     "text": [
      "candidate panel:['DAPI', 'ECad', 'CK14', 'HER2', 'CD45', 'PR', 'hRAD51']\n"
     ]
    },
    {
     "name": "stderr",
     "output_type": "stream",
     "text": [
      "100%|█████████████████████████████████████████████████████████████████████████████████████████████| 18/18 [00:26<00:00,  1.46s/it]\n"
     ]
    },
    {
     "name": "stdout",
     "output_type": "stream",
     "text": [
      "candidate panel:['DAPI', 'ECad', 'CK14', 'HER2', 'CD45', 'PR', 'CyclinD1']\n"
     ]
    },
    {
     "name": "stderr",
     "output_type": "stream",
     "text": [
      "100%|█████████████████████████████████████████████████████████████████████████████████████████████| 18/18 [00:27<00:00,  1.50s/it]\n"
     ]
    },
    {
     "name": "stdout",
     "output_type": "stream",
     "text": [
      "candidate panel:['DAPI', 'ECad', 'CK14', 'HER2', 'CD45', 'PR', 'VIM']\n"
     ]
    },
    {
     "name": "stderr",
     "output_type": "stream",
     "text": [
      "100%|█████████████████████████████████████████████████████████████████████████████████████████████| 18/18 [00:28<00:00,  1.56s/it]\n"
     ]
    },
    {
     "name": "stdout",
     "output_type": "stream",
     "text": [
      "candidate panel:['DAPI', 'ECad', 'CK14', 'HER2', 'CD45', 'PR', 'aSMA']\n"
     ]
    },
    {
     "name": "stderr",
     "output_type": "stream",
     "text": [
      "100%|█████████████████████████████████████████████████████████████████████████████████████████████| 18/18 [00:27<00:00,  1.52s/it]\n"
     ]
    },
    {
     "name": "stdout",
     "output_type": "stream",
     "text": [
      "candidate panel:['DAPI', 'ECad', 'CK14', 'HER2', 'CD45', 'PR', 'ER']\n"
     ]
    },
    {
     "name": "stderr",
     "output_type": "stream",
     "text": [
      "100%|█████████████████████████████████████████████████████████████████████████████████████████████| 18/18 [00:26<00:00,  1.46s/it]\n"
     ]
    },
    {
     "name": "stdout",
     "output_type": "stream",
     "text": [
      "found new top panel\n",
      "candidate panel:['DAPI', 'ECad', 'CK14', 'HER2', 'CD45', 'PR', 'EGFR']\n"
     ]
    },
    {
     "name": "stderr",
     "output_type": "stream",
     "text": [
      "100%|█████████████████████████████████████████████████████████████████████████████████████████████| 18/18 [00:26<00:00,  1.49s/it]\n"
     ]
    },
    {
     "name": "stdout",
     "output_type": "stream",
     "text": [
      "candidate panel:['DAPI', 'ECad', 'CK14', 'HER2', 'CD45', 'PR', 'Rb']\n"
     ]
    },
    {
     "name": "stderr",
     "output_type": "stream",
     "text": [
      "100%|█████████████████████████████████████████████████████████████████████████████████████████████| 18/18 [00:26<00:00,  1.48s/it]\n"
     ]
    },
    {
     "name": "stdout",
     "output_type": "stream",
     "text": [
      "candidate panel:['DAPI', 'ECad', 'CK14', 'HER2', 'CD45', 'PR', 'Ki67']\n"
     ]
    },
    {
     "name": "stderr",
     "output_type": "stream",
     "text": [
      "100%|█████████████████████████████████████████████████████████████████████████████████████████████| 18/18 [00:27<00:00,  1.51s/it]\n"
     ]
    },
    {
     "name": "stdout",
     "output_type": "stream",
     "text": [
      "candidate panel:['DAPI', 'ECad', 'CK14', 'HER2', 'CD45', 'PR', 'p21']\n"
     ]
    },
    {
     "name": "stderr",
     "output_type": "stream",
     "text": [
      "100%|█████████████████████████████████████████████████████████████████████████████████████████████| 18/18 [00:26<00:00,  1.47s/it]\n"
     ]
    },
    {
     "name": "stdout",
     "output_type": "stream",
     "text": [
      "candidate panel:['DAPI', 'ECad', 'CK14', 'HER2', 'CD45', 'PR', 'CK19']\n"
     ]
    },
    {
     "name": "stderr",
     "output_type": "stream",
     "text": [
      "100%|█████████████████████████████████████████████████████████████████████████████████████████████| 18/18 [00:26<00:00,  1.50s/it]\n"
     ]
    },
    {
     "name": "stdout",
     "output_type": "stream",
     "text": [
      "candidate panel:['DAPI', 'ECad', 'CK14', 'HER2', 'CD45', 'PR', 'CK17']\n"
     ]
    },
    {
     "name": "stderr",
     "output_type": "stream",
     "text": [
      "100%|█████████████████████████████████████████████████████████████████████████████████████████████| 18/18 [00:26<00:00,  1.47s/it]\n"
     ]
    },
    {
     "name": "stdout",
     "output_type": "stream",
     "text": [
      "found new top panel\n",
      "candidate panel:['DAPI', 'ECad', 'CK14', 'HER2', 'CD45', 'PR', 'LaminABC']\n"
     ]
    },
    {
     "name": "stderr",
     "output_type": "stream",
     "text": [
      "100%|█████████████████████████████████████████████████████████████████████████████████████████████| 18/18 [00:27<00:00,  1.51s/it]\n"
     ]
    },
    {
     "name": "stdout",
     "output_type": "stream",
     "text": [
      "candidate panel:['DAPI', 'ECad', 'CK14', 'HER2', 'CD45', 'PR', 'AR']\n"
     ]
    },
    {
     "name": "stderr",
     "output_type": "stream",
     "text": [
      "100%|█████████████████████████████████████████████████████████████████████████████████████████████| 18/18 [00:27<00:00,  1.52s/it]\n"
     ]
    },
    {
     "name": "stdout",
     "output_type": "stream",
     "text": [
      "candidate panel:['DAPI', 'ECad', 'CK14', 'HER2', 'CD45', 'PR', 'Histone H2AX']\n"
     ]
    },
    {
     "name": "stderr",
     "output_type": "stream",
     "text": [
      "100%|█████████████████████████████████████████████████████████████████████████████████████████████| 18/18 [00:26<00:00,  1.48s/it]\n"
     ]
    },
    {
     "name": "stdout",
     "output_type": "stream",
     "text": [
      "candidate panel:['DAPI', 'ECad', 'CK14', 'HER2', 'CD45', 'PR', 'PCNA']\n"
     ]
    },
    {
     "name": "stderr",
     "output_type": "stream",
     "text": [
      "100%|█████████████████████████████████████████████████████████████████████████████████████████████| 18/18 [00:26<00:00,  1.45s/it]\n"
     ]
    },
    {
     "name": "stdout",
     "output_type": "stream",
     "text": [
      "candidate panel:['DAPI', 'ECad', 'CK14', 'HER2', 'CD45', 'PR', 'PanCK']\n"
     ]
    },
    {
     "name": "stderr",
     "output_type": "stream",
     "text": [
      "100%|█████████████████████████████████████████████████████████████████████████████████████████████| 18/18 [00:27<00:00,  1.51s/it]\n"
     ]
    },
    {
     "name": "stdout",
     "output_type": "stream",
     "text": [
      "candidate panel:['DAPI', 'ECad', 'CK14', 'HER2', 'CD45', 'PR', 'CD31']\n"
     ]
    },
    {
     "name": "stderr",
     "output_type": "stream",
     "text": [
      "100%|█████████████████████████████████████████████████████████████████████████████████████████████| 18/18 [00:27<00:00,  1.52s/it]\n"
     ]
    },
    {
     "name": "stdout",
     "output_type": "stream",
     "text": [
      "candidate panel:['DAPI', 'ECad', 'CK14', 'HER2', 'CD45', 'PR', 'CK17', 'CD3']\n"
     ]
    },
    {
     "name": "stderr",
     "output_type": "stream",
     "text": [
      "100%|█████████████████████████████████████████████████████████████████████████████████████████████| 18/18 [00:26<00:00,  1.47s/it]\n"
     ]
    },
    {
     "name": "stdout",
     "output_type": "stream",
     "text": [
      "found new top panel\n",
      "candidate panel:['DAPI', 'ECad', 'CK14', 'HER2', 'CD45', 'PR', 'CK17', 'ERK-1']\n"
     ]
    },
    {
     "name": "stderr",
     "output_type": "stream",
     "text": [
      "100%|█████████████████████████████████████████████████████████████████████████████████████████████| 18/18 [00:26<00:00,  1.48s/it]\n"
     ]
    },
    {
     "name": "stdout",
     "output_type": "stream",
     "text": [
      "candidate panel:['DAPI', 'ECad', 'CK14', 'HER2', 'CD45', 'PR', 'CK17', 'hRAD51']\n"
     ]
    },
    {
     "name": "stderr",
     "output_type": "stream",
     "text": [
      "100%|█████████████████████████████████████████████████████████████████████████████████████████████| 18/18 [00:26<00:00,  1.48s/it]\n"
     ]
    },
    {
     "name": "stdout",
     "output_type": "stream",
     "text": [
      "candidate panel:['DAPI', 'ECad', 'CK14', 'HER2', 'CD45', 'PR', 'CK17', 'CyclinD1']\n"
     ]
    },
    {
     "name": "stderr",
     "output_type": "stream",
     "text": [
      "100%|█████████████████████████████████████████████████████████████████████████████████████████████| 18/18 [00:26<00:00,  1.49s/it]\n"
     ]
    },
    {
     "name": "stdout",
     "output_type": "stream",
     "text": [
      "candidate panel:['DAPI', 'ECad', 'CK14', 'HER2', 'CD45', 'PR', 'CK17', 'VIM']\n"
     ]
    },
    {
     "name": "stderr",
     "output_type": "stream",
     "text": [
      "100%|█████████████████████████████████████████████████████████████████████████████████████████████| 18/18 [00:27<00:00,  1.50s/it]\n"
     ]
    },
    {
     "name": "stdout",
     "output_type": "stream",
     "text": [
      "candidate panel:['DAPI', 'ECad', 'CK14', 'HER2', 'CD45', 'PR', 'CK17', 'aSMA']\n"
     ]
    },
    {
     "name": "stderr",
     "output_type": "stream",
     "text": [
      "100%|█████████████████████████████████████████████████████████████████████████████████████████████| 18/18 [00:26<00:00,  1.45s/it]\n"
     ]
    },
    {
     "name": "stdout",
     "output_type": "stream",
     "text": [
      "candidate panel:['DAPI', 'ECad', 'CK14', 'HER2', 'CD45', 'PR', 'CK17', 'ER']\n"
     ]
    },
    {
     "name": "stderr",
     "output_type": "stream",
     "text": [
      "100%|█████████████████████████████████████████████████████████████████████████████████████████████| 18/18 [00:26<00:00,  1.47s/it]\n"
     ]
    },
    {
     "name": "stdout",
     "output_type": "stream",
     "text": [
      "candidate panel:['DAPI', 'ECad', 'CK14', 'HER2', 'CD45', 'PR', 'CK17', 'EGFR']\n"
     ]
    },
    {
     "name": "stderr",
     "output_type": "stream",
     "text": [
      "100%|█████████████████████████████████████████████████████████████████████████████████████████████| 18/18 [00:26<00:00,  1.45s/it]\n"
     ]
    },
    {
     "name": "stdout",
     "output_type": "stream",
     "text": [
      "candidate panel:['DAPI', 'ECad', 'CK14', 'HER2', 'CD45', 'PR', 'CK17', 'Rb']\n"
     ]
    },
    {
     "name": "stderr",
     "output_type": "stream",
     "text": [
      "100%|█████████████████████████████████████████████████████████████████████████████████████████████| 18/18 [00:27<00:00,  1.51s/it]\n"
     ]
    },
    {
     "name": "stdout",
     "output_type": "stream",
     "text": [
      "candidate panel:['DAPI', 'ECad', 'CK14', 'HER2', 'CD45', 'PR', 'CK17', 'Ki67']\n"
     ]
    },
    {
     "name": "stderr",
     "output_type": "stream",
     "text": [
      "100%|█████████████████████████████████████████████████████████████████████████████████████████████| 18/18 [00:27<00:00,  1.51s/it]\n"
     ]
    },
    {
     "name": "stdout",
     "output_type": "stream",
     "text": [
      "candidate panel:['DAPI', 'ECad', 'CK14', 'HER2', 'CD45', 'PR', 'CK17', 'p21']\n"
     ]
    },
    {
     "name": "stderr",
     "output_type": "stream",
     "text": [
      "100%|█████████████████████████████████████████████████████████████████████████████████████████████| 18/18 [00:26<00:00,  1.48s/it]\n"
     ]
    },
    {
     "name": "stdout",
     "output_type": "stream",
     "text": [
      "candidate panel:['DAPI', 'ECad', 'CK14', 'HER2', 'CD45', 'PR', 'CK17', 'CK19']\n"
     ]
    },
    {
     "name": "stderr",
     "output_type": "stream",
     "text": [
      "100%|█████████████████████████████████████████████████████████████████████████████████████████████| 18/18 [00:26<00:00,  1.46s/it]\n"
     ]
    },
    {
     "name": "stdout",
     "output_type": "stream",
     "text": [
      "candidate panel:['DAPI', 'ECad', 'CK14', 'HER2', 'CD45', 'PR', 'CK17', 'LaminABC']\n"
     ]
    },
    {
     "name": "stderr",
     "output_type": "stream",
     "text": [
      "100%|█████████████████████████████████████████████████████████████████████████████████████████████| 18/18 [00:27<00:00,  1.53s/it]\n"
     ]
    },
    {
     "name": "stdout",
     "output_type": "stream",
     "text": [
      "candidate panel:['DAPI', 'ECad', 'CK14', 'HER2', 'CD45', 'PR', 'CK17', 'AR']\n"
     ]
    },
    {
     "name": "stderr",
     "output_type": "stream",
     "text": [
      "100%|█████████████████████████████████████████████████████████████████████████████████████████████| 18/18 [00:27<00:00,  1.54s/it]\n"
     ]
    },
    {
     "name": "stdout",
     "output_type": "stream",
     "text": [
      "candidate panel:['DAPI', 'ECad', 'CK14', 'HER2', 'CD45', 'PR', 'CK17', 'Histone H2AX']\n"
     ]
    },
    {
     "name": "stderr",
     "output_type": "stream",
     "text": [
      "100%|█████████████████████████████████████████████████████████████████████████████████████████████| 18/18 [00:27<00:00,  1.53s/it]\n"
     ]
    },
    {
     "name": "stdout",
     "output_type": "stream",
     "text": [
      "candidate panel:['DAPI', 'ECad', 'CK14', 'HER2', 'CD45', 'PR', 'CK17', 'PCNA']\n"
     ]
    },
    {
     "name": "stderr",
     "output_type": "stream",
     "text": [
      "100%|█████████████████████████████████████████████████████████████████████████████████████████████| 18/18 [00:26<00:00,  1.47s/it]\n"
     ]
    },
    {
     "name": "stdout",
     "output_type": "stream",
     "text": [
      "found new top panel\n",
      "candidate panel:['DAPI', 'ECad', 'CK14', 'HER2', 'CD45', 'PR', 'CK17', 'PanCK']\n"
     ]
    },
    {
     "name": "stderr",
     "output_type": "stream",
     "text": [
      "100%|█████████████████████████████████████████████████████████████████████████████████████████████| 18/18 [00:26<00:00,  1.46s/it]\n"
     ]
    },
    {
     "name": "stdout",
     "output_type": "stream",
     "text": [
      "candidate panel:['DAPI', 'ECad', 'CK14', 'HER2', 'CD45', 'PR', 'CK17', 'CD31']\n"
     ]
    },
    {
     "name": "stderr",
     "output_type": "stream",
     "text": [
      "100%|█████████████████████████████████████████████████████████████████████████████████████████████| 18/18 [00:26<00:00,  1.47s/it]\n"
     ]
    },
    {
     "name": "stdout",
     "output_type": "stream",
     "text": [
      "candidate panel:['DAPI', 'ECad', 'CK14', 'HER2', 'CD45', 'PR', 'CK17', 'PCNA', 'CD3']\n"
     ]
    },
    {
     "name": "stderr",
     "output_type": "stream",
     "text": [
      "100%|█████████████████████████████████████████████████████████████████████████████████████████████| 18/18 [00:25<00:00,  1.44s/it]\n"
     ]
    },
    {
     "name": "stdout",
     "output_type": "stream",
     "text": [
      "found new top panel\n",
      "candidate panel:['DAPI', 'ECad', 'CK14', 'HER2', 'CD45', 'PR', 'CK17', 'PCNA', 'ERK-1']\n"
     ]
    },
    {
     "name": "stderr",
     "output_type": "stream",
     "text": [
      "100%|█████████████████████████████████████████████████████████████████████████████████████████████| 18/18 [00:25<00:00,  1.44s/it]\n"
     ]
    },
    {
     "name": "stdout",
     "output_type": "stream",
     "text": [
      "candidate panel:['DAPI', 'ECad', 'CK14', 'HER2', 'CD45', 'PR', 'CK17', 'PCNA', 'hRAD51']\n"
     ]
    },
    {
     "name": "stderr",
     "output_type": "stream",
     "text": [
      "100%|█████████████████████████████████████████████████████████████████████████████████████████████| 18/18 [00:25<00:00,  1.44s/it]\n"
     ]
    },
    {
     "name": "stdout",
     "output_type": "stream",
     "text": [
      "candidate panel:['DAPI', 'ECad', 'CK14', 'HER2', 'CD45', 'PR', 'CK17', 'PCNA', 'CyclinD1']\n"
     ]
    },
    {
     "name": "stderr",
     "output_type": "stream",
     "text": [
      "100%|█████████████████████████████████████████████████████████████████████████████████████████████| 18/18 [00:25<00:00,  1.44s/it]\n"
     ]
    },
    {
     "name": "stdout",
     "output_type": "stream",
     "text": [
      "candidate panel:['DAPI', 'ECad', 'CK14', 'HER2', 'CD45', 'PR', 'CK17', 'PCNA', 'VIM']\n"
     ]
    },
    {
     "name": "stderr",
     "output_type": "stream",
     "text": [
      "100%|█████████████████████████████████████████████████████████████████████████████████████████████| 18/18 [00:25<00:00,  1.44s/it]\n"
     ]
    },
    {
     "name": "stdout",
     "output_type": "stream",
     "text": [
      "candidate panel:['DAPI', 'ECad', 'CK14', 'HER2', 'CD45', 'PR', 'CK17', 'PCNA', 'aSMA']\n"
     ]
    },
    {
     "name": "stderr",
     "output_type": "stream",
     "text": [
      "100%|█████████████████████████████████████████████████████████████████████████████████████████████| 18/18 [00:25<00:00,  1.44s/it]\n"
     ]
    },
    {
     "name": "stdout",
     "output_type": "stream",
     "text": [
      "candidate panel:['DAPI', 'ECad', 'CK14', 'HER2', 'CD45', 'PR', 'CK17', 'PCNA', 'ER']\n"
     ]
    },
    {
     "name": "stderr",
     "output_type": "stream",
     "text": [
      "100%|█████████████████████████████████████████████████████████████████████████████████████████████| 18/18 [00:25<00:00,  1.44s/it]\n"
     ]
    },
    {
     "name": "stdout",
     "output_type": "stream",
     "text": [
      "candidate panel:['DAPI', 'ECad', 'CK14', 'HER2', 'CD45', 'PR', 'CK17', 'PCNA', 'EGFR']\n"
     ]
    },
    {
     "name": "stderr",
     "output_type": "stream",
     "text": [
      "100%|█████████████████████████████████████████████████████████████████████████████████████████████| 18/18 [00:25<00:00,  1.44s/it]\n"
     ]
    },
    {
     "name": "stdout",
     "output_type": "stream",
     "text": [
      "candidate panel:['DAPI', 'ECad', 'CK14', 'HER2', 'CD45', 'PR', 'CK17', 'PCNA', 'Rb']\n"
     ]
    },
    {
     "name": "stderr",
     "output_type": "stream",
     "text": [
      "100%|█████████████████████████████████████████████████████████████████████████████████████████████| 18/18 [00:25<00:00,  1.44s/it]\n"
     ]
    },
    {
     "name": "stdout",
     "output_type": "stream",
     "text": [
      "candidate panel:['DAPI', 'ECad', 'CK14', 'HER2', 'CD45', 'PR', 'CK17', 'PCNA', 'Ki67']\n"
     ]
    },
    {
     "name": "stderr",
     "output_type": "stream",
     "text": [
      "100%|█████████████████████████████████████████████████████████████████████████████████████████████| 18/18 [00:26<00:00,  1.45s/it]\n"
     ]
    },
    {
     "name": "stdout",
     "output_type": "stream",
     "text": [
      "candidate panel:['DAPI', 'ECad', 'CK14', 'HER2', 'CD45', 'PR', 'CK17', 'PCNA', 'p21']\n"
     ]
    },
    {
     "name": "stderr",
     "output_type": "stream",
     "text": [
      "100%|█████████████████████████████████████████████████████████████████████████████████████████████| 18/18 [00:26<00:00,  1.45s/it]\n"
     ]
    },
    {
     "name": "stdout",
     "output_type": "stream",
     "text": [
      "candidate panel:['DAPI', 'ECad', 'CK14', 'HER2', 'CD45', 'PR', 'CK17', 'PCNA', 'CK19']\n"
     ]
    },
    {
     "name": "stderr",
     "output_type": "stream",
     "text": [
      "100%|█████████████████████████████████████████████████████████████████████████████████████████████| 18/18 [00:25<00:00,  1.44s/it]\n"
     ]
    },
    {
     "name": "stdout",
     "output_type": "stream",
     "text": [
      "candidate panel:['DAPI', 'ECad', 'CK14', 'HER2', 'CD45', 'PR', 'CK17', 'PCNA', 'LaminABC']\n"
     ]
    },
    {
     "name": "stderr",
     "output_type": "stream",
     "text": [
      "100%|█████████████████████████████████████████████████████████████████████████████████████████████| 18/18 [00:25<00:00,  1.44s/it]\n"
     ]
    },
    {
     "name": "stdout",
     "output_type": "stream",
     "text": [
      "candidate panel:['DAPI', 'ECad', 'CK14', 'HER2', 'CD45', 'PR', 'CK17', 'PCNA', 'AR']\n"
     ]
    },
    {
     "name": "stderr",
     "output_type": "stream",
     "text": [
      "100%|█████████████████████████████████████████████████████████████████████████████████████████████| 18/18 [00:25<00:00,  1.44s/it]\n"
     ]
    },
    {
     "name": "stdout",
     "output_type": "stream",
     "text": [
      "candidate panel:['DAPI', 'ECad', 'CK14', 'HER2', 'CD45', 'PR', 'CK17', 'PCNA', 'Histone H2AX']\n"
     ]
    },
    {
     "name": "stderr",
     "output_type": "stream",
     "text": [
      "100%|█████████████████████████████████████████████████████████████████████████████████████████████| 18/18 [00:26<00:00,  1.45s/it]\n"
     ]
    },
    {
     "name": "stdout",
     "output_type": "stream",
     "text": [
      "candidate panel:['DAPI', 'ECad', 'CK14', 'HER2', 'CD45', 'PR', 'CK17', 'PCNA', 'PanCK']\n"
     ]
    },
    {
     "name": "stderr",
     "output_type": "stream",
     "text": [
      "100%|█████████████████████████████████████████████████████████████████████████████████████████████| 18/18 [00:25<00:00,  1.43s/it]\n"
     ]
    },
    {
     "name": "stdout",
     "output_type": "stream",
     "text": [
      "candidate panel:['DAPI', 'ECad', 'CK14', 'HER2', 'CD45', 'PR', 'CK17', 'PCNA', 'CD31']\n"
     ]
    },
    {
     "name": "stderr",
     "output_type": "stream",
     "text": [
      "100%|█████████████████████████████████████████████████████████████████████████████████████████████| 18/18 [00:26<00:00,  1.44s/it]\n"
     ]
    },
    {
     "name": "stdout",
     "output_type": "stream",
     "text": [
      "found new top panel\n",
      "candidate panel:['DAPI', 'ECad', 'CK14', 'HER2', 'CD45', 'PR', 'CK17', 'PCNA', 'CD31', 'CD3']\n"
     ]
    },
    {
     "name": "stderr",
     "output_type": "stream",
     "text": [
      "100%|█████████████████████████████████████████████████████████████████████████████████████████████| 18/18 [00:26<00:00,  1.46s/it]\n"
     ]
    },
    {
     "name": "stdout",
     "output_type": "stream",
     "text": [
      "found new top panel\n",
      "candidate panel:['DAPI', 'ECad', 'CK14', 'HER2', 'CD45', 'PR', 'CK17', 'PCNA', 'CD31', 'ERK-1']\n"
     ]
    },
    {
     "name": "stderr",
     "output_type": "stream",
     "text": [
      "100%|█████████████████████████████████████████████████████████████████████████████████████████████| 18/18 [00:26<00:00,  1.47s/it]\n"
     ]
    },
    {
     "name": "stdout",
     "output_type": "stream",
     "text": [
      "candidate panel:['DAPI', 'ECad', 'CK14', 'HER2', 'CD45', 'PR', 'CK17', 'PCNA', 'CD31', 'hRAD51']\n"
     ]
    },
    {
     "name": "stderr",
     "output_type": "stream",
     "text": [
      "100%|█████████████████████████████████████████████████████████████████████████████████████████████| 18/18 [00:26<00:00,  1.45s/it]\n"
     ]
    },
    {
     "name": "stdout",
     "output_type": "stream",
     "text": [
      "candidate panel:['DAPI', 'ECad', 'CK14', 'HER2', 'CD45', 'PR', 'CK17', 'PCNA', 'CD31', 'CyclinD1']\n"
     ]
    },
    {
     "name": "stderr",
     "output_type": "stream",
     "text": [
      "100%|█████████████████████████████████████████████████████████████████████████████████████████████| 18/18 [00:26<00:00,  1.45s/it]\n"
     ]
    },
    {
     "name": "stdout",
     "output_type": "stream",
     "text": [
      "candidate panel:['DAPI', 'ECad', 'CK14', 'HER2', 'CD45', 'PR', 'CK17', 'PCNA', 'CD31', 'VIM']\n"
     ]
    },
    {
     "name": "stderr",
     "output_type": "stream",
     "text": [
      "100%|█████████████████████████████████████████████████████████████████████████████████████████████| 18/18 [00:25<00:00,  1.44s/it]\n"
     ]
    },
    {
     "name": "stdout",
     "output_type": "stream",
     "text": [
      "candidate panel:['DAPI', 'ECad', 'CK14', 'HER2', 'CD45', 'PR', 'CK17', 'PCNA', 'CD31', 'aSMA']\n"
     ]
    },
    {
     "name": "stderr",
     "output_type": "stream",
     "text": [
      "100%|█████████████████████████████████████████████████████████████████████████████████████████████| 18/18 [00:26<00:00,  1.45s/it]\n"
     ]
    },
    {
     "name": "stdout",
     "output_type": "stream",
     "text": [
      "candidate panel:['DAPI', 'ECad', 'CK14', 'HER2', 'CD45', 'PR', 'CK17', 'PCNA', 'CD31', 'ER']\n"
     ]
    },
    {
     "name": "stderr",
     "output_type": "stream",
     "text": [
      "100%|█████████████████████████████████████████████████████████████████████████████████████████████| 18/18 [00:26<00:00,  1.45s/it]\n"
     ]
    },
    {
     "name": "stdout",
     "output_type": "stream",
     "text": [
      "candidate panel:['DAPI', 'ECad', 'CK14', 'HER2', 'CD45', 'PR', 'CK17', 'PCNA', 'CD31', 'EGFR']\n"
     ]
    },
    {
     "name": "stderr",
     "output_type": "stream",
     "text": [
      "100%|█████████████████████████████████████████████████████████████████████████████████████████████| 18/18 [00:26<00:00,  1.47s/it]\n"
     ]
    },
    {
     "name": "stdout",
     "output_type": "stream",
     "text": [
      "candidate panel:['DAPI', 'ECad', 'CK14', 'HER2', 'CD45', 'PR', 'CK17', 'PCNA', 'CD31', 'Rb']\n"
     ]
    },
    {
     "name": "stderr",
     "output_type": "stream",
     "text": [
      "100%|█████████████████████████████████████████████████████████████████████████████████████████████| 18/18 [00:26<00:00,  1.45s/it]\n"
     ]
    },
    {
     "name": "stdout",
     "output_type": "stream",
     "text": [
      "candidate panel:['DAPI', 'ECad', 'CK14', 'HER2', 'CD45', 'PR', 'CK17', 'PCNA', 'CD31', 'Ki67']\n"
     ]
    },
    {
     "name": "stderr",
     "output_type": "stream",
     "text": [
      "100%|█████████████████████████████████████████████████████████████████████████████████████████████| 18/18 [00:25<00:00,  1.44s/it]\n"
     ]
    },
    {
     "name": "stdout",
     "output_type": "stream",
     "text": [
      "candidate panel:['DAPI', 'ECad', 'CK14', 'HER2', 'CD45', 'PR', 'CK17', 'PCNA', 'CD31', 'p21']\n"
     ]
    },
    {
     "name": "stderr",
     "output_type": "stream",
     "text": [
      "100%|█████████████████████████████████████████████████████████████████████████████████████████████| 18/18 [00:25<00:00,  1.44s/it]\n"
     ]
    },
    {
     "name": "stdout",
     "output_type": "stream",
     "text": [
      "candidate panel:['DAPI', 'ECad', 'CK14', 'HER2', 'CD45', 'PR', 'CK17', 'PCNA', 'CD31', 'CK19']\n"
     ]
    },
    {
     "name": "stderr",
     "output_type": "stream",
     "text": [
      "100%|█████████████████████████████████████████████████████████████████████████████████████████████| 18/18 [00:26<00:00,  1.47s/it]\n"
     ]
    },
    {
     "name": "stdout",
     "output_type": "stream",
     "text": [
      "candidate panel:['DAPI', 'ECad', 'CK14', 'HER2', 'CD45', 'PR', 'CK17', 'PCNA', 'CD31', 'LaminABC']\n"
     ]
    },
    {
     "name": "stderr",
     "output_type": "stream",
     "text": [
      "100%|█████████████████████████████████████████████████████████████████████████████████████████████| 18/18 [00:26<00:00,  1.45s/it]\n"
     ]
    },
    {
     "name": "stdout",
     "output_type": "stream",
     "text": [
      "candidate panel:['DAPI', 'ECad', 'CK14', 'HER2', 'CD45', 'PR', 'CK17', 'PCNA', 'CD31', 'AR']\n"
     ]
    },
    {
     "name": "stderr",
     "output_type": "stream",
     "text": [
      "100%|█████████████████████████████████████████████████████████████████████████████████████████████| 18/18 [00:26<00:00,  1.45s/it]\n"
     ]
    },
    {
     "name": "stdout",
     "output_type": "stream",
     "text": [
      "candidate panel:['DAPI', 'ECad', 'CK14', 'HER2', 'CD45', 'PR', 'CK17', 'PCNA', 'CD31', 'Histone H2AX']\n"
     ]
    },
    {
     "name": "stderr",
     "output_type": "stream",
     "text": [
      "100%|█████████████████████████████████████████████████████████████████████████████████████████████| 18/18 [00:26<00:00,  1.45s/it]\n"
     ]
    },
    {
     "name": "stdout",
     "output_type": "stream",
     "text": [
      "candidate panel:['DAPI', 'ECad', 'CK14', 'HER2', 'CD45', 'PR', 'CK17', 'PCNA', 'CD31', 'PanCK']\n"
     ]
    },
    {
     "name": "stderr",
     "output_type": "stream",
     "text": [
      "100%|█████████████████████████████████████████████████████████████████████████████████████████████| 18/18 [00:25<00:00,  1.44s/it]\n"
     ]
    },
    {
     "name": "stdout",
     "output_type": "stream",
     "text": [
      "candidate panel:['DAPI', 'ECad', 'CK14', 'HER2', 'CD45', 'PR', 'CK17', 'PCNA', 'CD31', 'CD3', 'ERK-1']\n"
     ]
    },
    {
     "name": "stderr",
     "output_type": "stream",
     "text": [
      "100%|█████████████████████████████████████████████████████████████████████████████████████████████| 18/18 [00:26<00:00,  1.46s/it]\n"
     ]
    },
    {
     "name": "stdout",
     "output_type": "stream",
     "text": [
      "found new top panel\n",
      "candidate panel:['DAPI', 'ECad', 'CK14', 'HER2', 'CD45', 'PR', 'CK17', 'PCNA', 'CD31', 'CD3', 'hRAD51']\n"
     ]
    },
    {
     "name": "stderr",
     "output_type": "stream",
     "text": [
      "100%|█████████████████████████████████████████████████████████████████████████████████████████████| 18/18 [00:26<00:00,  1.45s/it]\n"
     ]
    },
    {
     "name": "stdout",
     "output_type": "stream",
     "text": [
      "candidate panel:['DAPI', 'ECad', 'CK14', 'HER2', 'CD45', 'PR', 'CK17', 'PCNA', 'CD31', 'CD3', 'CyclinD1']\n"
     ]
    },
    {
     "name": "stderr",
     "output_type": "stream",
     "text": [
      "100%|█████████████████████████████████████████████████████████████████████████████████████████████| 18/18 [00:26<00:00,  1.45s/it]\n"
     ]
    },
    {
     "name": "stdout",
     "output_type": "stream",
     "text": [
      "candidate panel:['DAPI', 'ECad', 'CK14', 'HER2', 'CD45', 'PR', 'CK17', 'PCNA', 'CD31', 'CD3', 'VIM']\n"
     ]
    },
    {
     "name": "stderr",
     "output_type": "stream",
     "text": [
      "100%|█████████████████████████████████████████████████████████████████████████████████████████████| 18/18 [00:27<00:00,  1.52s/it]\n"
     ]
    },
    {
     "name": "stdout",
     "output_type": "stream",
     "text": [
      "candidate panel:['DAPI', 'ECad', 'CK14', 'HER2', 'CD45', 'PR', 'CK17', 'PCNA', 'CD31', 'CD3', 'aSMA']\n"
     ]
    },
    {
     "name": "stderr",
     "output_type": "stream",
     "text": [
      "100%|█████████████████████████████████████████████████████████████████████████████████████████████| 18/18 [00:26<00:00,  1.47s/it]\n"
     ]
    },
    {
     "name": "stdout",
     "output_type": "stream",
     "text": [
      "candidate panel:['DAPI', 'ECad', 'CK14', 'HER2', 'CD45', 'PR', 'CK17', 'PCNA', 'CD31', 'CD3', 'ER']\n"
     ]
    },
    {
     "name": "stderr",
     "output_type": "stream",
     "text": [
      "100%|█████████████████████████████████████████████████████████████████████████████████████████████| 18/18 [00:27<00:00,  1.55s/it]\n"
     ]
    },
    {
     "name": "stdout",
     "output_type": "stream",
     "text": [
      "candidate panel:['DAPI', 'ECad', 'CK14', 'HER2', 'CD45', 'PR', 'CK17', 'PCNA', 'CD31', 'CD3', 'EGFR']\n"
     ]
    },
    {
     "name": "stderr",
     "output_type": "stream",
     "text": [
      "100%|█████████████████████████████████████████████████████████████████████████████████████████████| 18/18 [00:26<00:00,  1.48s/it]\n"
     ]
    },
    {
     "name": "stdout",
     "output_type": "stream",
     "text": [
      "candidate panel:['DAPI', 'ECad', 'CK14', 'HER2', 'CD45', 'PR', 'CK17', 'PCNA', 'CD31', 'CD3', 'Rb']\n"
     ]
    },
    {
     "name": "stderr",
     "output_type": "stream",
     "text": [
      "100%|█████████████████████████████████████████████████████████████████████████████████████████████| 18/18 [00:26<00:00,  1.45s/it]\n"
     ]
    },
    {
     "name": "stdout",
     "output_type": "stream",
     "text": [
      "found new top panel\n",
      "candidate panel:['DAPI', 'ECad', 'CK14', 'HER2', 'CD45', 'PR', 'CK17', 'PCNA', 'CD31', 'CD3', 'Ki67']\n"
     ]
    },
    {
     "name": "stderr",
     "output_type": "stream",
     "text": [
      "100%|█████████████████████████████████████████████████████████████████████████████████████████████| 18/18 [00:26<00:00,  1.49s/it]\n"
     ]
    },
    {
     "name": "stdout",
     "output_type": "stream",
     "text": [
      "candidate panel:['DAPI', 'ECad', 'CK14', 'HER2', 'CD45', 'PR', 'CK17', 'PCNA', 'CD31', 'CD3', 'p21']\n"
     ]
    },
    {
     "name": "stderr",
     "output_type": "stream",
     "text": [
      "100%|█████████████████████████████████████████████████████████████████████████████████████████████| 18/18 [00:26<00:00,  1.45s/it]\n"
     ]
    },
    {
     "name": "stdout",
     "output_type": "stream",
     "text": [
      "candidate panel:['DAPI', 'ECad', 'CK14', 'HER2', 'CD45', 'PR', 'CK17', 'PCNA', 'CD31', 'CD3', 'CK19']\n"
     ]
    },
    {
     "name": "stderr",
     "output_type": "stream",
     "text": [
      "100%|█████████████████████████████████████████████████████████████████████████████████████████████| 18/18 [00:26<00:00,  1.47s/it]\n"
     ]
    },
    {
     "name": "stdout",
     "output_type": "stream",
     "text": [
      "candidate panel:['DAPI', 'ECad', 'CK14', 'HER2', 'CD45', 'PR', 'CK17', 'PCNA', 'CD31', 'CD3', 'LaminABC']\n"
     ]
    },
    {
     "name": "stderr",
     "output_type": "stream",
     "text": [
      "100%|█████████████████████████████████████████████████████████████████████████████████████████████| 18/18 [00:26<00:00,  1.46s/it]\n"
     ]
    },
    {
     "name": "stdout",
     "output_type": "stream",
     "text": [
      "candidate panel:['DAPI', 'ECad', 'CK14', 'HER2', 'CD45', 'PR', 'CK17', 'PCNA', 'CD31', 'CD3', 'AR']\n"
     ]
    },
    {
     "name": "stderr",
     "output_type": "stream",
     "text": [
      "100%|█████████████████████████████████████████████████████████████████████████████████████████████| 18/18 [00:26<00:00,  1.45s/it]\n"
     ]
    },
    {
     "name": "stdout",
     "output_type": "stream",
     "text": [
      "candidate panel:['DAPI', 'ECad', 'CK14', 'HER2', 'CD45', 'PR', 'CK17', 'PCNA', 'CD31', 'CD3', 'Histone H2AX']\n"
     ]
    },
    {
     "name": "stderr",
     "output_type": "stream",
     "text": [
      "100%|█████████████████████████████████████████████████████████████████████████████████████████████| 18/18 [00:26<00:00,  1.45s/it]\n"
     ]
    },
    {
     "name": "stdout",
     "output_type": "stream",
     "text": [
      "candidate panel:['DAPI', 'ECad', 'CK14', 'HER2', 'CD45', 'PR', 'CK17', 'PCNA', 'CD31', 'CD3', 'PanCK']\n"
     ]
    },
    {
     "name": "stderr",
     "output_type": "stream",
     "text": [
      "100%|█████████████████████████████████████████████████████████████████████████████████████████████| 18/18 [00:26<00:00,  1.45s/it]\n"
     ]
    },
    {
     "name": "stdout",
     "output_type": "stream",
     "text": [
      "candidate panel:['DAPI', 'ECad', 'CK14', 'HER2', 'CD45', 'PR', 'CK17', 'PCNA', 'CD31', 'CD3', 'Rb', 'ERK-1']\n"
     ]
    },
    {
     "name": "stderr",
     "output_type": "stream",
     "text": [
      "100%|█████████████████████████████████████████████████████████████████████████████████████████████| 18/18 [00:26<00:00,  1.47s/it]\n"
     ]
    },
    {
     "name": "stdout",
     "output_type": "stream",
     "text": [
      "found new top panel\n",
      "candidate panel:['DAPI', 'ECad', 'CK14', 'HER2', 'CD45', 'PR', 'CK17', 'PCNA', 'CD31', 'CD3', 'Rb', 'hRAD51']\n"
     ]
    },
    {
     "name": "stderr",
     "output_type": "stream",
     "text": [
      "100%|█████████████████████████████████████████████████████████████████████████████████████████████| 18/18 [00:26<00:00,  1.46s/it]\n"
     ]
    },
    {
     "name": "stdout",
     "output_type": "stream",
     "text": [
      "candidate panel:['DAPI', 'ECad', 'CK14', 'HER2', 'CD45', 'PR', 'CK17', 'PCNA', 'CD31', 'CD3', 'Rb', 'CyclinD1']\n"
     ]
    },
    {
     "name": "stderr",
     "output_type": "stream",
     "text": [
      "100%|█████████████████████████████████████████████████████████████████████████████████████████████| 18/18 [00:26<00:00,  1.46s/it]\n"
     ]
    },
    {
     "name": "stdout",
     "output_type": "stream",
     "text": [
      "candidate panel:['DAPI', 'ECad', 'CK14', 'HER2', 'CD45', 'PR', 'CK17', 'PCNA', 'CD31', 'CD3', 'Rb', 'VIM']\n"
     ]
    },
    {
     "name": "stderr",
     "output_type": "stream",
     "text": [
      "100%|█████████████████████████████████████████████████████████████████████████████████████████████| 18/18 [00:26<00:00,  1.46s/it]\n"
     ]
    },
    {
     "name": "stdout",
     "output_type": "stream",
     "text": [
      "candidate panel:['DAPI', 'ECad', 'CK14', 'HER2', 'CD45', 'PR', 'CK17', 'PCNA', 'CD31', 'CD3', 'Rb', 'aSMA']\n"
     ]
    },
    {
     "name": "stderr",
     "output_type": "stream",
     "text": [
      "100%|█████████████████████████████████████████████████████████████████████████████████████████████| 18/18 [00:26<00:00,  1.47s/it]\n"
     ]
    },
    {
     "name": "stdout",
     "output_type": "stream",
     "text": [
      "found new top panel\n",
      "candidate panel:['DAPI', 'ECad', 'CK14', 'HER2', 'CD45', 'PR', 'CK17', 'PCNA', 'CD31', 'CD3', 'Rb', 'ER']\n"
     ]
    },
    {
     "name": "stderr",
     "output_type": "stream",
     "text": [
      "100%|█████████████████████████████████████████████████████████████████████████████████████████████| 18/18 [00:26<00:00,  1.48s/it]\n"
     ]
    },
    {
     "name": "stdout",
     "output_type": "stream",
     "text": [
      "candidate panel:['DAPI', 'ECad', 'CK14', 'HER2', 'CD45', 'PR', 'CK17', 'PCNA', 'CD31', 'CD3', 'Rb', 'EGFR']\n"
     ]
    },
    {
     "name": "stderr",
     "output_type": "stream",
     "text": [
      "100%|█████████████████████████████████████████████████████████████████████████████████████████████| 18/18 [00:26<00:00,  1.48s/it]\n"
     ]
    },
    {
     "name": "stdout",
     "output_type": "stream",
     "text": [
      "candidate panel:['DAPI', 'ECad', 'CK14', 'HER2', 'CD45', 'PR', 'CK17', 'PCNA', 'CD31', 'CD3', 'Rb', 'Ki67']\n"
     ]
    },
    {
     "name": "stderr",
     "output_type": "stream",
     "text": [
      "100%|█████████████████████████████████████████████████████████████████████████████████████████████| 18/18 [00:26<00:00,  1.47s/it]\n"
     ]
    },
    {
     "name": "stdout",
     "output_type": "stream",
     "text": [
      "candidate panel:['DAPI', 'ECad', 'CK14', 'HER2', 'CD45', 'PR', 'CK17', 'PCNA', 'CD31', 'CD3', 'Rb', 'p21']\n"
     ]
    },
    {
     "name": "stderr",
     "output_type": "stream",
     "text": [
      "100%|█████████████████████████████████████████████████████████████████████████████████████████████| 18/18 [00:26<00:00,  1.47s/it]\n"
     ]
    },
    {
     "name": "stdout",
     "output_type": "stream",
     "text": [
      "candidate panel:['DAPI', 'ECad', 'CK14', 'HER2', 'CD45', 'PR', 'CK17', 'PCNA', 'CD31', 'CD3', 'Rb', 'CK19']\n"
     ]
    },
    {
     "name": "stderr",
     "output_type": "stream",
     "text": [
      "100%|█████████████████████████████████████████████████████████████████████████████████████████████| 18/18 [00:26<00:00,  1.46s/it]\n"
     ]
    },
    {
     "name": "stdout",
     "output_type": "stream",
     "text": [
      "candidate panel:['DAPI', 'ECad', 'CK14', 'HER2', 'CD45', 'PR', 'CK17', 'PCNA', 'CD31', 'CD3', 'Rb', 'LaminABC']\n"
     ]
    },
    {
     "name": "stderr",
     "output_type": "stream",
     "text": [
      "100%|█████████████████████████████████████████████████████████████████████████████████████████████| 18/18 [00:26<00:00,  1.48s/it]\n"
     ]
    },
    {
     "name": "stdout",
     "output_type": "stream",
     "text": [
      "candidate panel:['DAPI', 'ECad', 'CK14', 'HER2', 'CD45', 'PR', 'CK17', 'PCNA', 'CD31', 'CD3', 'Rb', 'AR']\n"
     ]
    },
    {
     "name": "stderr",
     "output_type": "stream",
     "text": [
      "100%|█████████████████████████████████████████████████████████████████████████████████████████████| 18/18 [00:26<00:00,  1.48s/it]\n"
     ]
    },
    {
     "name": "stdout",
     "output_type": "stream",
     "text": [
      "candidate panel:['DAPI', 'ECad', 'CK14', 'HER2', 'CD45', 'PR', 'CK17', 'PCNA', 'CD31', 'CD3', 'Rb', 'Histone H2AX']\n"
     ]
    },
    {
     "name": "stderr",
     "output_type": "stream",
     "text": [
      "100%|█████████████████████████████████████████████████████████████████████████████████████████████| 18/18 [00:26<00:00,  1.47s/it]\n"
     ]
    },
    {
     "name": "stdout",
     "output_type": "stream",
     "text": [
      "candidate panel:['DAPI', 'ECad', 'CK14', 'HER2', 'CD45', 'PR', 'CK17', 'PCNA', 'CD31', 'CD3', 'Rb', 'PanCK']\n"
     ]
    },
    {
     "name": "stderr",
     "output_type": "stream",
     "text": [
      "100%|█████████████████████████████████████████████████████████████████████████████████████████████| 18/18 [00:26<00:00,  1.47s/it]\n"
     ]
    },
    {
     "name": "stdout",
     "output_type": "stream",
     "text": [
      "candidate panel:['DAPI', 'ECad', 'CK14', 'HER2', 'CD45', 'PR', 'CK17', 'PCNA', 'CD31', 'CD3', 'Rb', 'aSMA', 'ERK-1']\n"
     ]
    },
    {
     "name": "stderr",
     "output_type": "stream",
     "text": [
      "100%|█████████████████████████████████████████████████████████████████████████████████████████████| 18/18 [00:28<00:00,  1.57s/it]\n"
     ]
    },
    {
     "name": "stdout",
     "output_type": "stream",
     "text": [
      "found new top panel\n",
      "candidate panel:['DAPI', 'ECad', 'CK14', 'HER2', 'CD45', 'PR', 'CK17', 'PCNA', 'CD31', 'CD3', 'Rb', 'aSMA', 'hRAD51']\n"
     ]
    },
    {
     "name": "stderr",
     "output_type": "stream",
     "text": [
      "100%|█████████████████████████████████████████████████████████████████████████████████████████████| 18/18 [00:27<00:00,  1.50s/it]\n"
     ]
    },
    {
     "name": "stdout",
     "output_type": "stream",
     "text": [
      "candidate panel:['DAPI', 'ECad', 'CK14', 'HER2', 'CD45', 'PR', 'CK17', 'PCNA', 'CD31', 'CD3', 'Rb', 'aSMA', 'CyclinD1']\n"
     ]
    },
    {
     "name": "stderr",
     "output_type": "stream",
     "text": [
      "100%|█████████████████████████████████████████████████████████████████████████████████████████████| 18/18 [00:27<00:00,  1.55s/it]\n"
     ]
    },
    {
     "name": "stdout",
     "output_type": "stream",
     "text": [
      "candidate panel:['DAPI', 'ECad', 'CK14', 'HER2', 'CD45', 'PR', 'CK17', 'PCNA', 'CD31', 'CD3', 'Rb', 'aSMA', 'VIM']\n"
     ]
    },
    {
     "name": "stderr",
     "output_type": "stream",
     "text": [
      "100%|█████████████████████████████████████████████████████████████████████████████████████████████| 18/18 [00:27<00:00,  1.53s/it]\n"
     ]
    },
    {
     "name": "stdout",
     "output_type": "stream",
     "text": [
      "candidate panel:['DAPI', 'ECad', 'CK14', 'HER2', 'CD45', 'PR', 'CK17', 'PCNA', 'CD31', 'CD3', 'Rb', 'aSMA', 'ER']\n"
     ]
    },
    {
     "name": "stderr",
     "output_type": "stream",
     "text": [
      "100%|█████████████████████████████████████████████████████████████████████████████████████████████| 18/18 [00:26<00:00,  1.50s/it]\n"
     ]
    },
    {
     "name": "stdout",
     "output_type": "stream",
     "text": [
      "candidate panel:['DAPI', 'ECad', 'CK14', 'HER2', 'CD45', 'PR', 'CK17', 'PCNA', 'CD31', 'CD3', 'Rb', 'aSMA', 'EGFR']\n"
     ]
    },
    {
     "name": "stderr",
     "output_type": "stream",
     "text": [
      "100%|█████████████████████████████████████████████████████████████████████████████████████████████| 18/18 [00:27<00:00,  1.50s/it]\n"
     ]
    },
    {
     "name": "stdout",
     "output_type": "stream",
     "text": [
      "candidate panel:['DAPI', 'ECad', 'CK14', 'HER2', 'CD45', 'PR', 'CK17', 'PCNA', 'CD31', 'CD3', 'Rb', 'aSMA', 'Ki67']\n"
     ]
    },
    {
     "name": "stderr",
     "output_type": "stream",
     "text": [
      "100%|█████████████████████████████████████████████████████████████████████████████████████████████| 18/18 [00:27<00:00,  1.50s/it]\n"
     ]
    },
    {
     "name": "stdout",
     "output_type": "stream",
     "text": [
      "candidate panel:['DAPI', 'ECad', 'CK14', 'HER2', 'CD45', 'PR', 'CK17', 'PCNA', 'CD31', 'CD3', 'Rb', 'aSMA', 'p21']\n"
     ]
    },
    {
     "name": "stderr",
     "output_type": "stream",
     "text": [
      "100%|█████████████████████████████████████████████████████████████████████████████████████████████| 18/18 [00:26<00:00,  1.49s/it]\n"
     ]
    },
    {
     "name": "stdout",
     "output_type": "stream",
     "text": [
      "candidate panel:['DAPI', 'ECad', 'CK14', 'HER2', 'CD45', 'PR', 'CK17', 'PCNA', 'CD31', 'CD3', 'Rb', 'aSMA', 'CK19']\n"
     ]
    },
    {
     "name": "stderr",
     "output_type": "stream",
     "text": [
      "100%|█████████████████████████████████████████████████████████████████████████████████████████████| 18/18 [00:27<00:00,  1.53s/it]\n"
     ]
    },
    {
     "name": "stdout",
     "output_type": "stream",
     "text": [
      "candidate panel:['DAPI', 'ECad', 'CK14', 'HER2', 'CD45', 'PR', 'CK17', 'PCNA', 'CD31', 'CD3', 'Rb', 'aSMA', 'LaminABC']\n"
     ]
    },
    {
     "name": "stderr",
     "output_type": "stream",
     "text": [
      "100%|█████████████████████████████████████████████████████████████████████████████████████████████| 18/18 [00:27<00:00,  1.50s/it]\n"
     ]
    },
    {
     "name": "stdout",
     "output_type": "stream",
     "text": [
      "candidate panel:['DAPI', 'ECad', 'CK14', 'HER2', 'CD45', 'PR', 'CK17', 'PCNA', 'CD31', 'CD3', 'Rb', 'aSMA', 'AR']\n"
     ]
    },
    {
     "name": "stderr",
     "output_type": "stream",
     "text": [
      "100%|█████████████████████████████████████████████████████████████████████████████████████████████| 18/18 [00:27<00:00,  1.50s/it]\n"
     ]
    },
    {
     "name": "stdout",
     "output_type": "stream",
     "text": [
      "candidate panel:['DAPI', 'ECad', 'CK14', 'HER2', 'CD45', 'PR', 'CK17', 'PCNA', 'CD31', 'CD3', 'Rb', 'aSMA', 'Histone H2AX']\n"
     ]
    },
    {
     "name": "stderr",
     "output_type": "stream",
     "text": [
      "100%|█████████████████████████████████████████████████████████████████████████████████████████████| 18/18 [00:27<00:00,  1.50s/it]\n"
     ]
    },
    {
     "name": "stdout",
     "output_type": "stream",
     "text": [
      "candidate panel:['DAPI', 'ECad', 'CK14', 'HER2', 'CD45', 'PR', 'CK17', 'PCNA', 'CD31', 'CD3', 'Rb', 'aSMA', 'PanCK']\n"
     ]
    },
    {
     "name": "stderr",
     "output_type": "stream",
     "text": [
      "100%|█████████████████████████████████████████████████████████████████████████████████████████████| 18/18 [00:27<00:00,  1.51s/it]\n"
     ]
    },
    {
     "name": "stdout",
     "output_type": "stream",
     "text": [
      "candidate panel:['DAPI', 'ECad', 'CK14', 'HER2', 'CD45', 'PR', 'CK17', 'PCNA', 'CD31', 'CD3', 'Rb', 'aSMA', 'ERK-1', 'hRAD51']\n"
     ]
    },
    {
     "name": "stderr",
     "output_type": "stream",
     "text": [
      "100%|█████████████████████████████████████████████████████████████████████████████████████████████| 18/18 [00:27<00:00,  1.50s/it]\n"
     ]
    },
    {
     "name": "stdout",
     "output_type": "stream",
     "text": [
      "found new top panel\n",
      "candidate panel:['DAPI', 'ECad', 'CK14', 'HER2', 'CD45', 'PR', 'CK17', 'PCNA', 'CD31', 'CD3', 'Rb', 'aSMA', 'ERK-1', 'CyclinD1']\n"
     ]
    },
    {
     "name": "stderr",
     "output_type": "stream",
     "text": [
      "100%|█████████████████████████████████████████████████████████████████████████████████████████████| 18/18 [00:27<00:00,  1.51s/it]\n"
     ]
    },
    {
     "name": "stdout",
     "output_type": "stream",
     "text": [
      "candidate panel:['DAPI', 'ECad', 'CK14', 'HER2', 'CD45', 'PR', 'CK17', 'PCNA', 'CD31', 'CD3', 'Rb', 'aSMA', 'ERK-1', 'VIM']\n"
     ]
    },
    {
     "name": "stderr",
     "output_type": "stream",
     "text": [
      "100%|█████████████████████████████████████████████████████████████████████████████████████████████| 18/18 [00:27<00:00,  1.50s/it]\n"
     ]
    },
    {
     "name": "stdout",
     "output_type": "stream",
     "text": [
      "found new top panel\n",
      "candidate panel:['DAPI', 'ECad', 'CK14', 'HER2', 'CD45', 'PR', 'CK17', 'PCNA', 'CD31', 'CD3', 'Rb', 'aSMA', 'ERK-1', 'ER']\n"
     ]
    },
    {
     "name": "stderr",
     "output_type": "stream",
     "text": [
      "100%|█████████████████████████████████████████████████████████████████████████████████████████████| 18/18 [00:27<00:00,  1.50s/it]\n"
     ]
    },
    {
     "name": "stdout",
     "output_type": "stream",
     "text": [
      "candidate panel:['DAPI', 'ECad', 'CK14', 'HER2', 'CD45', 'PR', 'CK17', 'PCNA', 'CD31', 'CD3', 'Rb', 'aSMA', 'ERK-1', 'EGFR']\n"
     ]
    },
    {
     "name": "stderr",
     "output_type": "stream",
     "text": [
      "100%|█████████████████████████████████████████████████████████████████████████████████████████████| 18/18 [00:27<00:00,  1.50s/it]\n"
     ]
    },
    {
     "name": "stdout",
     "output_type": "stream",
     "text": [
      "candidate panel:['DAPI', 'ECad', 'CK14', 'HER2', 'CD45', 'PR', 'CK17', 'PCNA', 'CD31', 'CD3', 'Rb', 'aSMA', 'ERK-1', 'Ki67']\n"
     ]
    },
    {
     "name": "stderr",
     "output_type": "stream",
     "text": [
      "100%|█████████████████████████████████████████████████████████████████████████████████████████████| 18/18 [00:27<00:00,  1.51s/it]\n"
     ]
    },
    {
     "name": "stdout",
     "output_type": "stream",
     "text": [
      "found new top panel\n",
      "candidate panel:['DAPI', 'ECad', 'CK14', 'HER2', 'CD45', 'PR', 'CK17', 'PCNA', 'CD31', 'CD3', 'Rb', 'aSMA', 'ERK-1', 'p21']\n"
     ]
    },
    {
     "name": "stderr",
     "output_type": "stream",
     "text": [
      "100%|█████████████████████████████████████████████████████████████████████████████████████████████| 18/18 [00:27<00:00,  1.52s/it]\n"
     ]
    },
    {
     "name": "stdout",
     "output_type": "stream",
     "text": [
      "found new top panel\n",
      "candidate panel:['DAPI', 'ECad', 'CK14', 'HER2', 'CD45', 'PR', 'CK17', 'PCNA', 'CD31', 'CD3', 'Rb', 'aSMA', 'ERK-1', 'CK19']\n"
     ]
    },
    {
     "name": "stderr",
     "output_type": "stream",
     "text": [
      "100%|█████████████████████████████████████████████████████████████████████████████████████████████| 18/18 [00:26<00:00,  1.49s/it]\n"
     ]
    },
    {
     "name": "stdout",
     "output_type": "stream",
     "text": [
      "candidate panel:['DAPI', 'ECad', 'CK14', 'HER2', 'CD45', 'PR', 'CK17', 'PCNA', 'CD31', 'CD3', 'Rb', 'aSMA', 'ERK-1', 'LaminABC']\n"
     ]
    },
    {
     "name": "stderr",
     "output_type": "stream",
     "text": [
      "100%|█████████████████████████████████████████████████████████████████████████████████████████████| 18/18 [00:27<00:00,  1.52s/it]\n"
     ]
    },
    {
     "name": "stdout",
     "output_type": "stream",
     "text": [
      "candidate panel:['DAPI', 'ECad', 'CK14', 'HER2', 'CD45', 'PR', 'CK17', 'PCNA', 'CD31', 'CD3', 'Rb', 'aSMA', 'ERK-1', 'AR']\n"
     ]
    },
    {
     "name": "stderr",
     "output_type": "stream",
     "text": [
      "100%|█████████████████████████████████████████████████████████████████████████████████████████████| 18/18 [00:26<00:00,  1.49s/it]\n"
     ]
    },
    {
     "name": "stdout",
     "output_type": "stream",
     "text": [
      "candidate panel:['DAPI', 'ECad', 'CK14', 'HER2', 'CD45', 'PR', 'CK17', 'PCNA', 'CD31', 'CD3', 'Rb', 'aSMA', 'ERK-1', 'Histone H2AX']\n"
     ]
    },
    {
     "name": "stderr",
     "output_type": "stream",
     "text": [
      "100%|█████████████████████████████████████████████████████████████████████████████████████████████| 18/18 [00:26<00:00,  1.49s/it]\n"
     ]
    },
    {
     "name": "stdout",
     "output_type": "stream",
     "text": [
      "candidate panel:['DAPI', 'ECad', 'CK14', 'HER2', 'CD45', 'PR', 'CK17', 'PCNA', 'CD31', 'CD3', 'Rb', 'aSMA', 'ERK-1', 'PanCK']\n"
     ]
    },
    {
     "name": "stderr",
     "output_type": "stream",
     "text": [
      "100%|█████████████████████████████████████████████████████████████████████████████████████████████| 18/18 [00:26<00:00,  1.50s/it]\n"
     ]
    },
    {
     "name": "stdout",
     "output_type": "stream",
     "text": [
      "candidate panel:['DAPI', 'ECad', 'CK14', 'HER2', 'CD45', 'PR', 'CK17', 'PCNA', 'CD31', 'CD3', 'Rb', 'aSMA', 'ERK-1', 'p21', 'hRAD51']\n"
     ]
    },
    {
     "name": "stderr",
     "output_type": "stream",
     "text": [
      "100%|█████████████████████████████████████████████████████████████████████████████████████████████| 18/18 [00:27<00:00,  1.51s/it]\n"
     ]
    },
    {
     "name": "stdout",
     "output_type": "stream",
     "text": [
      "found new top panel\n",
      "candidate panel:['DAPI', 'ECad', 'CK14', 'HER2', 'CD45', 'PR', 'CK17', 'PCNA', 'CD31', 'CD3', 'Rb', 'aSMA', 'ERK-1', 'p21', 'CyclinD1']\n"
     ]
    },
    {
     "name": "stderr",
     "output_type": "stream",
     "text": [
      "100%|█████████████████████████████████████████████████████████████████████████████████████████████| 18/18 [00:27<00:00,  1.53s/it]\n"
     ]
    },
    {
     "name": "stdout",
     "output_type": "stream",
     "text": [
      "candidate panel:['DAPI', 'ECad', 'CK14', 'HER2', 'CD45', 'PR', 'CK17', 'PCNA', 'CD31', 'CD3', 'Rb', 'aSMA', 'ERK-1', 'p21', 'VIM']\n"
     ]
    },
    {
     "name": "stderr",
     "output_type": "stream",
     "text": [
      "100%|█████████████████████████████████████████████████████████████████████████████████████████████| 18/18 [00:27<00:00,  1.52s/it]\n"
     ]
    },
    {
     "name": "stdout",
     "output_type": "stream",
     "text": [
      "found new top panel\n",
      "candidate panel:['DAPI', 'ECad', 'CK14', 'HER2', 'CD45', 'PR', 'CK17', 'PCNA', 'CD31', 'CD3', 'Rb', 'aSMA', 'ERK-1', 'p21', 'ER']\n"
     ]
    },
    {
     "name": "stderr",
     "output_type": "stream",
     "text": [
      "100%|█████████████████████████████████████████████████████████████████████████████████████████████| 18/18 [00:27<00:00,  1.50s/it]\n"
     ]
    },
    {
     "name": "stdout",
     "output_type": "stream",
     "text": [
      "candidate panel:['DAPI', 'ECad', 'CK14', 'HER2', 'CD45', 'PR', 'CK17', 'PCNA', 'CD31', 'CD3', 'Rb', 'aSMA', 'ERK-1', 'p21', 'EGFR']\n"
     ]
    },
    {
     "name": "stderr",
     "output_type": "stream",
     "text": [
      "100%|█████████████████████████████████████████████████████████████████████████████████████████████| 18/18 [00:27<00:00,  1.50s/it]\n"
     ]
    },
    {
     "name": "stdout",
     "output_type": "stream",
     "text": [
      "candidate panel:['DAPI', 'ECad', 'CK14', 'HER2', 'CD45', 'PR', 'CK17', 'PCNA', 'CD31', 'CD3', 'Rb', 'aSMA', 'ERK-1', 'p21', 'Ki67']\n"
     ]
    },
    {
     "name": "stderr",
     "output_type": "stream",
     "text": [
      "100%|█████████████████████████████████████████████████████████████████████████████████████████████| 18/18 [00:27<00:00,  1.51s/it]\n"
     ]
    },
    {
     "name": "stdout",
     "output_type": "stream",
     "text": [
      "found new top panel\n",
      "candidate panel:['DAPI', 'ECad', 'CK14', 'HER2', 'CD45', 'PR', 'CK17', 'PCNA', 'CD31', 'CD3', 'Rb', 'aSMA', 'ERK-1', 'p21', 'CK19']\n"
     ]
    },
    {
     "name": "stderr",
     "output_type": "stream",
     "text": [
      "100%|█████████████████████████████████████████████████████████████████████████████████████████████| 18/18 [00:27<00:00,  1.51s/it]\n"
     ]
    },
    {
     "name": "stdout",
     "output_type": "stream",
     "text": [
      "found new top panel\n",
      "candidate panel:['DAPI', 'ECad', 'CK14', 'HER2', 'CD45', 'PR', 'CK17', 'PCNA', 'CD31', 'CD3', 'Rb', 'aSMA', 'ERK-1', 'p21', 'LaminABC']\n"
     ]
    },
    {
     "name": "stderr",
     "output_type": "stream",
     "text": [
      "100%|█████████████████████████████████████████████████████████████████████████████████████████████| 18/18 [00:27<00:00,  1.50s/it]\n"
     ]
    },
    {
     "name": "stdout",
     "output_type": "stream",
     "text": [
      "candidate panel:['DAPI', 'ECad', 'CK14', 'HER2', 'CD45', 'PR', 'CK17', 'PCNA', 'CD31', 'CD3', 'Rb', 'aSMA', 'ERK-1', 'p21', 'AR']\n"
     ]
    },
    {
     "name": "stderr",
     "output_type": "stream",
     "text": [
      "100%|█████████████████████████████████████████████████████████████████████████████████████████████| 18/18 [00:27<00:00,  1.50s/it]\n"
     ]
    },
    {
     "name": "stdout",
     "output_type": "stream",
     "text": [
      "candidate panel:['DAPI', 'ECad', 'CK14', 'HER2', 'CD45', 'PR', 'CK17', 'PCNA', 'CD31', 'CD3', 'Rb', 'aSMA', 'ERK-1', 'p21', 'Histone H2AX']\n"
     ]
    },
    {
     "name": "stderr",
     "output_type": "stream",
     "text": [
      "100%|█████████████████████████████████████████████████████████████████████████████████████████████| 18/18 [00:26<00:00,  1.50s/it]\n"
     ]
    },
    {
     "name": "stdout",
     "output_type": "stream",
     "text": [
      "found new top panel\n",
      "candidate panel:['DAPI', 'ECad', 'CK14', 'HER2', 'CD45', 'PR', 'CK17', 'PCNA', 'CD31', 'CD3', 'Rb', 'aSMA', 'ERK-1', 'p21', 'PanCK']\n"
     ]
    },
    {
     "name": "stderr",
     "output_type": "stream",
     "text": [
      "100%|█████████████████████████████████████████████████████████████████████████████████████████████| 18/18 [00:27<00:00,  1.50s/it]\n"
     ]
    },
    {
     "name": "stdout",
     "output_type": "stream",
     "text": [
      "found new top panel\n",
      "candidate panel:['DAPI', 'ECad', 'CK14', 'HER2', 'CD45', 'PR', 'CK17', 'PCNA', 'CD31', 'CD3', 'Rb', 'aSMA', 'ERK-1', 'p21', 'PanCK', 'hRAD51']\n"
     ]
    },
    {
     "name": "stderr",
     "output_type": "stream",
     "text": [
      "100%|█████████████████████████████████████████████████████████████████████████████████████████████| 18/18 [00:27<00:00,  1.52s/it]\n"
     ]
    },
    {
     "name": "stdout",
     "output_type": "stream",
     "text": [
      "found new top panel\n",
      "candidate panel:['DAPI', 'ECad', 'CK14', 'HER2', 'CD45', 'PR', 'CK17', 'PCNA', 'CD31', 'CD3', 'Rb', 'aSMA', 'ERK-1', 'p21', 'PanCK', 'CyclinD1']\n"
     ]
    },
    {
     "name": "stderr",
     "output_type": "stream",
     "text": [
      "100%|█████████████████████████████████████████████████████████████████████████████████████████████| 18/18 [00:27<00:00,  1.52s/it]\n"
     ]
    },
    {
     "name": "stdout",
     "output_type": "stream",
     "text": [
      "candidate panel:['DAPI', 'ECad', 'CK14', 'HER2', 'CD45', 'PR', 'CK17', 'PCNA', 'CD31', 'CD3', 'Rb', 'aSMA', 'ERK-1', 'p21', 'PanCK', 'VIM']\n"
     ]
    },
    {
     "name": "stderr",
     "output_type": "stream",
     "text": [
      "100%|█████████████████████████████████████████████████████████████████████████████████████████████| 18/18 [00:27<00:00,  1.52s/it]\n"
     ]
    },
    {
     "name": "stdout",
     "output_type": "stream",
     "text": [
      "found new top panel\n",
      "candidate panel:['DAPI', 'ECad', 'CK14', 'HER2', 'CD45', 'PR', 'CK17', 'PCNA', 'CD31', 'CD3', 'Rb', 'aSMA', 'ERK-1', 'p21', 'PanCK', 'ER']\n"
     ]
    },
    {
     "name": "stderr",
     "output_type": "stream",
     "text": [
      "100%|█████████████████████████████████████████████████████████████████████████████████████████████| 18/18 [00:27<00:00,  1.52s/it]\n"
     ]
    },
    {
     "name": "stdout",
     "output_type": "stream",
     "text": [
      "candidate panel:['DAPI', 'ECad', 'CK14', 'HER2', 'CD45', 'PR', 'CK17', 'PCNA', 'CD31', 'CD3', 'Rb', 'aSMA', 'ERK-1', 'p21', 'PanCK', 'EGFR']\n"
     ]
    },
    {
     "name": "stderr",
     "output_type": "stream",
     "text": [
      "100%|█████████████████████████████████████████████████████████████████████████████████████████████| 18/18 [00:27<00:00,  1.53s/it]\n"
     ]
    },
    {
     "name": "stdout",
     "output_type": "stream",
     "text": [
      "candidate panel:['DAPI', 'ECad', 'CK14', 'HER2', 'CD45', 'PR', 'CK17', 'PCNA', 'CD31', 'CD3', 'Rb', 'aSMA', 'ERK-1', 'p21', 'PanCK', 'Ki67']\n"
     ]
    },
    {
     "name": "stderr",
     "output_type": "stream",
     "text": [
      "100%|█████████████████████████████████████████████████████████████████████████████████████████████| 18/18 [00:27<00:00,  1.53s/it]\n"
     ]
    },
    {
     "name": "stdout",
     "output_type": "stream",
     "text": [
      "found new top panel\n",
      "candidate panel:['DAPI', 'ECad', 'CK14', 'HER2', 'CD45', 'PR', 'CK17', 'PCNA', 'CD31', 'CD3', 'Rb', 'aSMA', 'ERK-1', 'p21', 'PanCK', 'CK19']\n"
     ]
    },
    {
     "name": "stderr",
     "output_type": "stream",
     "text": [
      "100%|█████████████████████████████████████████████████████████████████████████████████████████████| 18/18 [00:27<00:00,  1.54s/it]\n"
     ]
    },
    {
     "name": "stdout",
     "output_type": "stream",
     "text": [
      "candidate panel:['DAPI', 'ECad', 'CK14', 'HER2', 'CD45', 'PR', 'CK17', 'PCNA', 'CD31', 'CD3', 'Rb', 'aSMA', 'ERK-1', 'p21', 'PanCK', 'LaminABC']\n"
     ]
    },
    {
     "name": "stderr",
     "output_type": "stream",
     "text": [
      "100%|█████████████████████████████████████████████████████████████████████████████████████████████| 18/18 [00:27<00:00,  1.53s/it]\n"
     ]
    },
    {
     "name": "stdout",
     "output_type": "stream",
     "text": [
      "candidate panel:['DAPI', 'ECad', 'CK14', 'HER2', 'CD45', 'PR', 'CK17', 'PCNA', 'CD31', 'CD3', 'Rb', 'aSMA', 'ERK-1', 'p21', 'PanCK', 'AR']\n"
     ]
    },
    {
     "name": "stderr",
     "output_type": "stream",
     "text": [
      "100%|█████████████████████████████████████████████████████████████████████████████████████████████| 18/18 [00:27<00:00,  1.52s/it]\n"
     ]
    },
    {
     "name": "stdout",
     "output_type": "stream",
     "text": [
      "candidate panel:['DAPI', 'ECad', 'CK14', 'HER2', 'CD45', 'PR', 'CK17', 'PCNA', 'CD31', 'CD3', 'Rb', 'aSMA', 'ERK-1', 'p21', 'PanCK', 'Histone H2AX']\n"
     ]
    },
    {
     "name": "stderr",
     "output_type": "stream",
     "text": [
      "100%|█████████████████████████████████████████████████████████████████████████████████████████████| 18/18 [00:27<00:00,  1.52s/it]\n"
     ]
    },
    {
     "name": "stdout",
     "output_type": "stream",
     "text": [
      "candidate panel:['DAPI', 'ECad', 'CK14', 'HER2', 'CD45', 'PR', 'CK17', 'PCNA', 'CD31', 'CD3', 'Rb', 'aSMA', 'ERK-1', 'p21', 'PanCK', 'Ki67', 'hRAD51']\n"
     ]
    },
    {
     "name": "stderr",
     "output_type": "stream",
     "text": [
      "100%|█████████████████████████████████████████████████████████████████████████████████████████████| 18/18 [00:27<00:00,  1.54s/it]\n"
     ]
    },
    {
     "name": "stdout",
     "output_type": "stream",
     "text": [
      "found new top panel\n",
      "candidate panel:['DAPI', 'ECad', 'CK14', 'HER2', 'CD45', 'PR', 'CK17', 'PCNA', 'CD31', 'CD3', 'Rb', 'aSMA', 'ERK-1', 'p21', 'PanCK', 'Ki67', 'CyclinD1']\n"
     ]
    },
    {
     "name": "stderr",
     "output_type": "stream",
     "text": [
      "100%|█████████████████████████████████████████████████████████████████████████████████████████████| 18/18 [00:27<00:00,  1.54s/it]\n"
     ]
    },
    {
     "name": "stdout",
     "output_type": "stream",
     "text": [
      "candidate panel:['DAPI', 'ECad', 'CK14', 'HER2', 'CD45', 'PR', 'CK17', 'PCNA', 'CD31', 'CD3', 'Rb', 'aSMA', 'ERK-1', 'p21', 'PanCK', 'Ki67', 'VIM']\n"
     ]
    },
    {
     "name": "stderr",
     "output_type": "stream",
     "text": [
      "100%|█████████████████████████████████████████████████████████████████████████████████████████████| 18/18 [00:27<00:00,  1.54s/it]\n"
     ]
    },
    {
     "name": "stdout",
     "output_type": "stream",
     "text": [
      "found new top panel\n",
      "candidate panel:['DAPI', 'ECad', 'CK14', 'HER2', 'CD45', 'PR', 'CK17', 'PCNA', 'CD31', 'CD3', 'Rb', 'aSMA', 'ERK-1', 'p21', 'PanCK', 'Ki67', 'ER']\n"
     ]
    },
    {
     "name": "stderr",
     "output_type": "stream",
     "text": [
      "100%|█████████████████████████████████████████████████████████████████████████████████████████████| 18/18 [00:27<00:00,  1.53s/it]\n"
     ]
    },
    {
     "name": "stdout",
     "output_type": "stream",
     "text": [
      "candidate panel:['DAPI', 'ECad', 'CK14', 'HER2', 'CD45', 'PR', 'CK17', 'PCNA', 'CD31', 'CD3', 'Rb', 'aSMA', 'ERK-1', 'p21', 'PanCK', 'Ki67', 'EGFR']\n"
     ]
    },
    {
     "name": "stderr",
     "output_type": "stream",
     "text": [
      "100%|█████████████████████████████████████████████████████████████████████████████████████████████| 18/18 [00:27<00:00,  1.53s/it]\n"
     ]
    },
    {
     "name": "stdout",
     "output_type": "stream",
     "text": [
      "candidate panel:['DAPI', 'ECad', 'CK14', 'HER2', 'CD45', 'PR', 'CK17', 'PCNA', 'CD31', 'CD3', 'Rb', 'aSMA', 'ERK-1', 'p21', 'PanCK', 'Ki67', 'CK19']\n"
     ]
    },
    {
     "name": "stderr",
     "output_type": "stream",
     "text": [
      "100%|█████████████████████████████████████████████████████████████████████████████████████████████| 18/18 [00:27<00:00,  1.53s/it]\n"
     ]
    },
    {
     "name": "stdout",
     "output_type": "stream",
     "text": [
      "candidate panel:['DAPI', 'ECad', 'CK14', 'HER2', 'CD45', 'PR', 'CK17', 'PCNA', 'CD31', 'CD3', 'Rb', 'aSMA', 'ERK-1', 'p21', 'PanCK', 'Ki67', 'LaminABC']\n"
     ]
    },
    {
     "name": "stderr",
     "output_type": "stream",
     "text": [
      "100%|█████████████████████████████████████████████████████████████████████████████████████████████| 18/18 [00:27<00:00,  1.55s/it]\n"
     ]
    },
    {
     "name": "stdout",
     "output_type": "stream",
     "text": [
      "candidate panel:['DAPI', 'ECad', 'CK14', 'HER2', 'CD45', 'PR', 'CK17', 'PCNA', 'CD31', 'CD3', 'Rb', 'aSMA', 'ERK-1', 'p21', 'PanCK', 'Ki67', 'AR']\n"
     ]
    },
    {
     "name": "stderr",
     "output_type": "stream",
     "text": [
      "100%|█████████████████████████████████████████████████████████████████████████████████████████████| 18/18 [00:27<00:00,  1.53s/it]\n"
     ]
    },
    {
     "name": "stdout",
     "output_type": "stream",
     "text": [
      "candidate panel:['DAPI', 'ECad', 'CK14', 'HER2', 'CD45', 'PR', 'CK17', 'PCNA', 'CD31', 'CD3', 'Rb', 'aSMA', 'ERK-1', 'p21', 'PanCK', 'Ki67', 'Histone H2AX']\n"
     ]
    },
    {
     "name": "stderr",
     "output_type": "stream",
     "text": [
      "100%|█████████████████████████████████████████████████████████████████████████████████████████████| 18/18 [00:27<00:00,  1.53s/it]\n"
     ]
    },
    {
     "name": "stdout",
     "output_type": "stream",
     "text": [
      "found new top panel\n",
      "candidate panel:['DAPI', 'ECad', 'CK14', 'HER2', 'CD45', 'PR', 'CK17', 'PCNA', 'CD31', 'CD3', 'Rb', 'aSMA', 'ERK-1', 'p21', 'PanCK', 'Ki67', 'Histone H2AX', 'hRAD51']\n"
     ]
    },
    {
     "name": "stderr",
     "output_type": "stream",
     "text": [
      "100%|█████████████████████████████████████████████████████████████████████████████████████████████| 18/18 [00:27<00:00,  1.54s/it]\n"
     ]
    },
    {
     "name": "stdout",
     "output_type": "stream",
     "text": [
      "found new top panel\n",
      "candidate panel:['DAPI', 'ECad', 'CK14', 'HER2', 'CD45', 'PR', 'CK17', 'PCNA', 'CD31', 'CD3', 'Rb', 'aSMA', 'ERK-1', 'p21', 'PanCK', 'Ki67', 'Histone H2AX', 'CyclinD1']\n"
     ]
    },
    {
     "name": "stderr",
     "output_type": "stream",
     "text": [
      "100%|█████████████████████████████████████████████████████████████████████████████████████████████| 18/18 [00:27<00:00,  1.54s/it]\n"
     ]
    },
    {
     "name": "stdout",
     "output_type": "stream",
     "text": [
      "candidate panel:['DAPI', 'ECad', 'CK14', 'HER2', 'CD45', 'PR', 'CK17', 'PCNA', 'CD31', 'CD3', 'Rb', 'aSMA', 'ERK-1', 'p21', 'PanCK', 'Ki67', 'Histone H2AX', 'VIM']\n"
     ]
    },
    {
     "name": "stderr",
     "output_type": "stream",
     "text": [
      "100%|█████████████████████████████████████████████████████████████████████████████████████████████| 18/18 [00:27<00:00,  1.53s/it]\n"
     ]
    },
    {
     "name": "stdout",
     "output_type": "stream",
     "text": [
      "found new top panel\n",
      "candidate panel:['DAPI', 'ECad', 'CK14', 'HER2', 'CD45', 'PR', 'CK17', 'PCNA', 'CD31', 'CD3', 'Rb', 'aSMA', 'ERK-1', 'p21', 'PanCK', 'Ki67', 'Histone H2AX', 'ER']\n"
     ]
    },
    {
     "name": "stderr",
     "output_type": "stream",
     "text": [
      "100%|█████████████████████████████████████████████████████████████████████████████████████████████| 18/18 [00:27<00:00,  1.54s/it]\n"
     ]
    },
    {
     "name": "stdout",
     "output_type": "stream",
     "text": [
      "candidate panel:['DAPI', 'ECad', 'CK14', 'HER2', 'CD45', 'PR', 'CK17', 'PCNA', 'CD31', 'CD3', 'Rb', 'aSMA', 'ERK-1', 'p21', 'PanCK', 'Ki67', 'Histone H2AX', 'EGFR']\n"
     ]
    },
    {
     "name": "stderr",
     "output_type": "stream",
     "text": [
      "100%|█████████████████████████████████████████████████████████████████████████████████████████████| 18/18 [00:27<00:00,  1.54s/it]\n"
     ]
    },
    {
     "name": "stdout",
     "output_type": "stream",
     "text": [
      "candidate panel:['DAPI', 'ECad', 'CK14', 'HER2', 'CD45', 'PR', 'CK17', 'PCNA', 'CD31', 'CD3', 'Rb', 'aSMA', 'ERK-1', 'p21', 'PanCK', 'Ki67', 'Histone H2AX', 'CK19']\n"
     ]
    },
    {
     "name": "stderr",
     "output_type": "stream",
     "text": [
      "100%|█████████████████████████████████████████████████████████████████████████████████████████████| 18/18 [00:27<00:00,  1.54s/it]\n"
     ]
    },
    {
     "name": "stdout",
     "output_type": "stream",
     "text": [
      "candidate panel:['DAPI', 'ECad', 'CK14', 'HER2', 'CD45', 'PR', 'CK17', 'PCNA', 'CD31', 'CD3', 'Rb', 'aSMA', 'ERK-1', 'p21', 'PanCK', 'Ki67', 'Histone H2AX', 'LaminABC']\n"
     ]
    },
    {
     "name": "stderr",
     "output_type": "stream",
     "text": [
      "100%|█████████████████████████████████████████████████████████████████████████████████████████████| 18/18 [00:27<00:00,  1.55s/it]\n"
     ]
    },
    {
     "name": "stdout",
     "output_type": "stream",
     "text": [
      "candidate panel:['DAPI', 'ECad', 'CK14', 'HER2', 'CD45', 'PR', 'CK17', 'PCNA', 'CD31', 'CD3', 'Rb', 'aSMA', 'ERK-1', 'p21', 'PanCK', 'Ki67', 'Histone H2AX', 'AR']\n"
     ]
    },
    {
     "name": "stderr",
     "output_type": "stream",
     "text": [
      "100%|█████████████████████████████████████████████████████████████████████████████████████████████| 18/18 [00:27<00:00,  1.55s/it]\n"
     ]
    },
    {
     "name": "stdout",
     "output_type": "stream",
     "text": [
      "candidate panel:['DAPI', 'ECad', 'CK14', 'HER2', 'CD45', 'PR', 'CK17', 'PCNA', 'CD31', 'CD3', 'Rb', 'aSMA', 'ERK-1', 'p21', 'PanCK', 'Ki67', 'Histone H2AX', 'VIM', 'hRAD51']\n"
     ]
    },
    {
     "name": "stderr",
     "output_type": "stream",
     "text": [
      "100%|█████████████████████████████████████████████████████████████████████████████████████████████| 18/18 [00:27<00:00,  1.55s/it]\n"
     ]
    },
    {
     "name": "stdout",
     "output_type": "stream",
     "text": [
      "found new top panel\n",
      "candidate panel:['DAPI', 'ECad', 'CK14', 'HER2', 'CD45', 'PR', 'CK17', 'PCNA', 'CD31', 'CD3', 'Rb', 'aSMA', 'ERK-1', 'p21', 'PanCK', 'Ki67', 'Histone H2AX', 'VIM', 'CyclinD1']\n"
     ]
    },
    {
     "name": "stderr",
     "output_type": "stream",
     "text": [
      "100%|█████████████████████████████████████████████████████████████████████████████████████████████| 18/18 [00:27<00:00,  1.55s/it]\n"
     ]
    },
    {
     "name": "stdout",
     "output_type": "stream",
     "text": [
      "candidate panel:['DAPI', 'ECad', 'CK14', 'HER2', 'CD45', 'PR', 'CK17', 'PCNA', 'CD31', 'CD3', 'Rb', 'aSMA', 'ERK-1', 'p21', 'PanCK', 'Ki67', 'Histone H2AX', 'VIM', 'ER']\n"
     ]
    },
    {
     "name": "stderr",
     "output_type": "stream",
     "text": [
      "100%|█████████████████████████████████████████████████████████████████████████████████████████████| 18/18 [00:28<00:00,  1.56s/it]\n"
     ]
    },
    {
     "name": "stdout",
     "output_type": "stream",
     "text": [
      "candidate panel:['DAPI', 'ECad', 'CK14', 'HER2', 'CD45', 'PR', 'CK17', 'PCNA', 'CD31', 'CD3', 'Rb', 'aSMA', 'ERK-1', 'p21', 'PanCK', 'Ki67', 'Histone H2AX', 'VIM', 'EGFR']\n"
     ]
    },
    {
     "name": "stderr",
     "output_type": "stream",
     "text": [
      "100%|█████████████████████████████████████████████████████████████████████████████████████████████| 18/18 [00:28<00:00,  1.56s/it]\n"
     ]
    },
    {
     "name": "stdout",
     "output_type": "stream",
     "text": [
      "candidate panel:['DAPI', 'ECad', 'CK14', 'HER2', 'CD45', 'PR', 'CK17', 'PCNA', 'CD31', 'CD3', 'Rb', 'aSMA', 'ERK-1', 'p21', 'PanCK', 'Ki67', 'Histone H2AX', 'VIM', 'CK19']\n"
     ]
    },
    {
     "name": "stderr",
     "output_type": "stream",
     "text": [
      "100%|█████████████████████████████████████████████████████████████████████████████████████████████| 18/18 [00:28<00:00,  1.56s/it]\n"
     ]
    },
    {
     "name": "stdout",
     "output_type": "stream",
     "text": [
      "candidate panel:['DAPI', 'ECad', 'CK14', 'HER2', 'CD45', 'PR', 'CK17', 'PCNA', 'CD31', 'CD3', 'Rb', 'aSMA', 'ERK-1', 'p21', 'PanCK', 'Ki67', 'Histone H2AX', 'VIM', 'LaminABC']\n"
     ]
    },
    {
     "name": "stderr",
     "output_type": "stream",
     "text": [
      "100%|█████████████████████████████████████████████████████████████████████████████████████████████| 18/18 [00:28<00:00,  1.56s/it]\n"
     ]
    },
    {
     "name": "stdout",
     "output_type": "stream",
     "text": [
      "candidate panel:['DAPI', 'ECad', 'CK14', 'HER2', 'CD45', 'PR', 'CK17', 'PCNA', 'CD31', 'CD3', 'Rb', 'aSMA', 'ERK-1', 'p21', 'PanCK', 'Ki67', 'Histone H2AX', 'VIM', 'AR']\n"
     ]
    },
    {
     "name": "stderr",
     "output_type": "stream",
     "text": [
      "100%|█████████████████████████████████████████████████████████████████████████████████████████████| 18/18 [00:28<00:00,  1.56s/it]\n"
     ]
    },
    {
     "name": "stdout",
     "output_type": "stream",
     "text": [
      "candidate panel:['DAPI', 'ECad', 'CK14', 'HER2', 'CD45', 'PR', 'CK17', 'PCNA', 'CD31', 'CD3', 'Rb', 'aSMA', 'ERK-1', 'p21', 'PanCK', 'Ki67', 'Histone H2AX', 'VIM', 'hRAD51', 'CyclinD1']\n"
     ]
    },
    {
     "name": "stderr",
     "output_type": "stream",
     "text": [
      "100%|█████████████████████████████████████████████████████████████████████████████████████████████| 18/18 [00:28<00:00,  1.57s/it]\n"
     ]
    },
    {
     "name": "stdout",
     "output_type": "stream",
     "text": [
      "found new top panel\n",
      "candidate panel:['DAPI', 'ECad', 'CK14', 'HER2', 'CD45', 'PR', 'CK17', 'PCNA', 'CD31', 'CD3', 'Rb', 'aSMA', 'ERK-1', 'p21', 'PanCK', 'Ki67', 'Histone H2AX', 'VIM', 'hRAD51', 'ER']\n"
     ]
    },
    {
     "name": "stderr",
     "output_type": "stream",
     "text": [
      "100%|█████████████████████████████████████████████████████████████████████████████████████████████| 18/18 [00:27<00:00,  1.55s/it]\n"
     ]
    },
    {
     "name": "stdout",
     "output_type": "stream",
     "text": [
      "candidate panel:['DAPI', 'ECad', 'CK14', 'HER2', 'CD45', 'PR', 'CK17', 'PCNA', 'CD31', 'CD3', 'Rb', 'aSMA', 'ERK-1', 'p21', 'PanCK', 'Ki67', 'Histone H2AX', 'VIM', 'hRAD51', 'EGFR']\n"
     ]
    },
    {
     "name": "stderr",
     "output_type": "stream",
     "text": [
      "100%|█████████████████████████████████████████████████████████████████████████████████████████████| 18/18 [00:28<00:00,  1.56s/it]\n"
     ]
    },
    {
     "name": "stdout",
     "output_type": "stream",
     "text": [
      "candidate panel:['DAPI', 'ECad', 'CK14', 'HER2', 'CD45', 'PR', 'CK17', 'PCNA', 'CD31', 'CD3', 'Rb', 'aSMA', 'ERK-1', 'p21', 'PanCK', 'Ki67', 'Histone H2AX', 'VIM', 'hRAD51', 'CK19']\n"
     ]
    },
    {
     "name": "stderr",
     "output_type": "stream",
     "text": [
      "100%|█████████████████████████████████████████████████████████████████████████████████████████████| 18/18 [00:28<00:00,  1.57s/it]\n"
     ]
    },
    {
     "name": "stdout",
     "output_type": "stream",
     "text": [
      "candidate panel:['DAPI', 'ECad', 'CK14', 'HER2', 'CD45', 'PR', 'CK17', 'PCNA', 'CD31', 'CD3', 'Rb', 'aSMA', 'ERK-1', 'p21', 'PanCK', 'Ki67', 'Histone H2AX', 'VIM', 'hRAD51', 'LaminABC']\n"
     ]
    },
    {
     "name": "stderr",
     "output_type": "stream",
     "text": [
      "100%|█████████████████████████████████████████████████████████████████████████████████████████████| 18/18 [00:28<00:00,  1.57s/it]\n"
     ]
    },
    {
     "name": "stdout",
     "output_type": "stream",
     "text": [
      "candidate panel:['DAPI', 'ECad', 'CK14', 'HER2', 'CD45', 'PR', 'CK17', 'PCNA', 'CD31', 'CD3', 'Rb', 'aSMA', 'ERK-1', 'p21', 'PanCK', 'Ki67', 'Histone H2AX', 'VIM', 'hRAD51', 'AR']\n"
     ]
    },
    {
     "name": "stderr",
     "output_type": "stream",
     "text": [
      "100%|█████████████████████████████████████████████████████████████████████████████████████████████| 18/18 [00:28<00:00,  1.56s/it]\n"
     ]
    },
    {
     "name": "stdout",
     "output_type": "stream",
     "text": [
      "candidate panel:['DAPI', 'ECad', 'CK14', 'HER2', 'CD45', 'PR', 'CK17', 'PCNA', 'CD31', 'CD3', 'Rb', 'aSMA', 'ERK-1', 'p21', 'PanCK', 'Ki67', 'Histone H2AX', 'VIM', 'hRAD51', 'CyclinD1', 'ER']\n"
     ]
    },
    {
     "name": "stderr",
     "output_type": "stream",
     "text": [
      "100%|█████████████████████████████████████████████████████████████████████████████████████████████| 18/18 [00:28<00:00,  1.58s/it]\n"
     ]
    },
    {
     "name": "stdout",
     "output_type": "stream",
     "text": [
      "found new top panel\n",
      "candidate panel:['DAPI', 'ECad', 'CK14', 'HER2', 'CD45', 'PR', 'CK17', 'PCNA', 'CD31', 'CD3', 'Rb', 'aSMA', 'ERK-1', 'p21', 'PanCK', 'Ki67', 'Histone H2AX', 'VIM', 'hRAD51', 'CyclinD1', 'EGFR']\n"
     ]
    },
    {
     "name": "stderr",
     "output_type": "stream",
     "text": [
      "100%|█████████████████████████████████████████████████████████████████████████████████████████████| 18/18 [00:28<00:00,  1.57s/it]\n"
     ]
    },
    {
     "name": "stdout",
     "output_type": "stream",
     "text": [
      "candidate panel:['DAPI', 'ECad', 'CK14', 'HER2', 'CD45', 'PR', 'CK17', 'PCNA', 'CD31', 'CD3', 'Rb', 'aSMA', 'ERK-1', 'p21', 'PanCK', 'Ki67', 'Histone H2AX', 'VIM', 'hRAD51', 'CyclinD1', 'CK19']\n"
     ]
    },
    {
     "name": "stderr",
     "output_type": "stream",
     "text": [
      "100%|█████████████████████████████████████████████████████████████████████████████████████████████| 18/18 [00:28<00:00,  1.58s/it]\n"
     ]
    },
    {
     "name": "stdout",
     "output_type": "stream",
     "text": [
      "candidate panel:['DAPI', 'ECad', 'CK14', 'HER2', 'CD45', 'PR', 'CK17', 'PCNA', 'CD31', 'CD3', 'Rb', 'aSMA', 'ERK-1', 'p21', 'PanCK', 'Ki67', 'Histone H2AX', 'VIM', 'hRAD51', 'CyclinD1', 'LaminABC']\n"
     ]
    },
    {
     "name": "stderr",
     "output_type": "stream",
     "text": [
      "100%|█████████████████████████████████████████████████████████████████████████████████████████████| 18/18 [00:28<00:00,  1.57s/it]\n"
     ]
    },
    {
     "name": "stdout",
     "output_type": "stream",
     "text": [
      "candidate panel:['DAPI', 'ECad', 'CK14', 'HER2', 'CD45', 'PR', 'CK17', 'PCNA', 'CD31', 'CD3', 'Rb', 'aSMA', 'ERK-1', 'p21', 'PanCK', 'Ki67', 'Histone H2AX', 'VIM', 'hRAD51', 'CyclinD1', 'AR']\n"
     ]
    },
    {
     "name": "stderr",
     "output_type": "stream",
     "text": [
      "100%|█████████████████████████████████████████████████████████████████████████████████████████████| 18/18 [00:28<00:00,  1.58s/it]\n"
     ]
    },
    {
     "name": "stdout",
     "output_type": "stream",
     "text": [
      "found new top panel\n",
      "candidate panel:['DAPI', 'ECad', 'CK14', 'HER2', 'CD45', 'PR', 'CK17', 'PCNA', 'CD31', 'CD3', 'Rb', 'aSMA', 'ERK-1', 'p21', 'PanCK', 'Ki67', 'Histone H2AX', 'VIM', 'hRAD51', 'CyclinD1', 'AR', 'ER']\n"
     ]
    },
    {
     "name": "stderr",
     "output_type": "stream",
     "text": [
      "100%|█████████████████████████████████████████████████████████████████████████████████████████████| 18/18 [00:28<00:00,  1.58s/it]\n"
     ]
    },
    {
     "name": "stdout",
     "output_type": "stream",
     "text": [
      "found new top panel\n",
      "candidate panel:['DAPI', 'ECad', 'CK14', 'HER2', 'CD45', 'PR', 'CK17', 'PCNA', 'CD31', 'CD3', 'Rb', 'aSMA', 'ERK-1', 'p21', 'PanCK', 'Ki67', 'Histone H2AX', 'VIM', 'hRAD51', 'CyclinD1', 'AR', 'EGFR']\n"
     ]
    },
    {
     "name": "stderr",
     "output_type": "stream",
     "text": [
      "100%|█████████████████████████████████████████████████████████████████████████████████████████████| 18/18 [00:28<00:00,  1.59s/it]\n"
     ]
    },
    {
     "name": "stdout",
     "output_type": "stream",
     "text": [
      "candidate panel:['DAPI', 'ECad', 'CK14', 'HER2', 'CD45', 'PR', 'CK17', 'PCNA', 'CD31', 'CD3', 'Rb', 'aSMA', 'ERK-1', 'p21', 'PanCK', 'Ki67', 'Histone H2AX', 'VIM', 'hRAD51', 'CyclinD1', 'AR', 'CK19']\n"
     ]
    },
    {
     "name": "stderr",
     "output_type": "stream",
     "text": [
      "100%|█████████████████████████████████████████████████████████████████████████████████████████████| 18/18 [00:28<00:00,  1.58s/it]\n"
     ]
    },
    {
     "name": "stdout",
     "output_type": "stream",
     "text": [
      "candidate panel:['DAPI', 'ECad', 'CK14', 'HER2', 'CD45', 'PR', 'CK17', 'PCNA', 'CD31', 'CD3', 'Rb', 'aSMA', 'ERK-1', 'p21', 'PanCK', 'Ki67', 'Histone H2AX', 'VIM', 'hRAD51', 'CyclinD1', 'AR', 'LaminABC']\n"
     ]
    },
    {
     "name": "stderr",
     "output_type": "stream",
     "text": [
      "100%|█████████████████████████████████████████████████████████████████████████████████████████████| 18/18 [00:28<00:00,  1.57s/it]\n"
     ]
    },
    {
     "name": "stdout",
     "output_type": "stream",
     "text": [
      "candidate panel:['DAPI', 'ECad', 'CK14', 'HER2', 'CD45', 'PR', 'CK17', 'PCNA', 'CD31', 'CD3', 'Rb', 'aSMA', 'ERK-1', 'p21', 'PanCK', 'Ki67', 'Histone H2AX', 'VIM', 'hRAD51', 'CyclinD1', 'AR', 'ER', 'EGFR']\n"
     ]
    },
    {
     "name": "stderr",
     "output_type": "stream",
     "text": [
      "100%|█████████████████████████████████████████████████████████████████████████████████████████████| 18/18 [00:28<00:00,  1.58s/it]\n"
     ]
    },
    {
     "name": "stdout",
     "output_type": "stream",
     "text": [
      "found new top panel\n",
      "candidate panel:['DAPI', 'ECad', 'CK14', 'HER2', 'CD45', 'PR', 'CK17', 'PCNA', 'CD31', 'CD3', 'Rb', 'aSMA', 'ERK-1', 'p21', 'PanCK', 'Ki67', 'Histone H2AX', 'VIM', 'hRAD51', 'CyclinD1', 'AR', 'ER', 'CK19']\n"
     ]
    },
    {
     "name": "stderr",
     "output_type": "stream",
     "text": [
      "100%|█████████████████████████████████████████████████████████████████████████████████████████████| 18/18 [00:28<00:00,  1.59s/it]\n"
     ]
    },
    {
     "name": "stdout",
     "output_type": "stream",
     "text": [
      "found new top panel\n",
      "candidate panel:['DAPI', 'ECad', 'CK14', 'HER2', 'CD45', 'PR', 'CK17', 'PCNA', 'CD31', 'CD3', 'Rb', 'aSMA', 'ERK-1', 'p21', 'PanCK', 'Ki67', 'Histone H2AX', 'VIM', 'hRAD51', 'CyclinD1', 'AR', 'ER', 'LaminABC']\n"
     ]
    },
    {
     "name": "stderr",
     "output_type": "stream",
     "text": [
      "100%|█████████████████████████████████████████████████████████████████████████████████████████████| 18/18 [00:28<00:00,  1.58s/it]\n"
     ]
    },
    {
     "name": "stdout",
     "output_type": "stream",
     "text": [
      "found new top panel\n",
      "candidate panel:['DAPI', 'ECad', 'CK14', 'HER2', 'CD45', 'PR', 'CK17', 'PCNA', 'CD31', 'CD3', 'Rb', 'aSMA', 'ERK-1', 'p21', 'PanCK', 'Ki67', 'Histone H2AX', 'VIM', 'hRAD51', 'CyclinD1', 'AR', 'ER', 'LaminABC', 'EGFR']\n"
     ]
    },
    {
     "name": "stderr",
     "output_type": "stream",
     "text": [
      "100%|█████████████████████████████████████████████████████████████████████████████████████████████| 18/18 [00:28<00:00,  1.59s/it]\n"
     ]
    },
    {
     "name": "stdout",
     "output_type": "stream",
     "text": [
      "found new top panel\n",
      "candidate panel:['DAPI', 'ECad', 'CK14', 'HER2', 'CD45', 'PR', 'CK17', 'PCNA', 'CD31', 'CD3', 'Rb', 'aSMA', 'ERK-1', 'p21', 'PanCK', 'Ki67', 'Histone H2AX', 'VIM', 'hRAD51', 'CyclinD1', 'AR', 'ER', 'LaminABC', 'CK19']\n"
     ]
    },
    {
     "name": "stderr",
     "output_type": "stream",
     "text": [
      "100%|█████████████████████████████████████████████████████████████████████████████████████████████| 18/18 [00:28<00:00,  1.59s/it]\n"
     ]
    },
    {
     "name": "stdout",
     "output_type": "stream",
     "text": [
      "found new top panel\n"
     ]
    }
   ],
   "source": [
    "top_panel = get_channel_order(val_loader, model, ch2stain)"
   ]
  },
  {
   "cell_type": "code",
   "execution_count": 13,
   "id": "43c5e762",
   "metadata": {},
   "outputs": [
    {
     "data": {
      "text/plain": [
       "[0,\n",
       " 7,\n",
       " 16,\n",
       " 12,\n",
       " 14,\n",
       " 9,\n",
       " 18,\n",
       " 22,\n",
       " 24,\n",
       " 1,\n",
       " 11,\n",
       " 6,\n",
       " 2,\n",
       " 15,\n",
       " 23,\n",
       " 13,\n",
       " 21,\n",
       " 5,\n",
       " 3,\n",
       " 4,\n",
       " 20,\n",
       " 8,\n",
       " 19,\n",
       " 17]"
      ]
     },
     "execution_count": 13,
     "metadata": {},
     "output_type": "execute_result"
    }
   ],
   "source": [
    "top_panel"
   ]
  },
  {
   "cell_type": "code",
   "execution_count": null,
   "id": "010af42f",
   "metadata": {},
   "outputs": [],
   "source": []
  }
 ],
 "metadata": {
  "kernelspec": {
   "display_name": "Python [conda env:mae_panel] *",
   "language": "python",
   "name": "conda-env-mae_panel-py"
  },
  "language_info": {
   "codemirror_mode": {
    "name": "ipython",
    "version": 3
   },
   "file_extension": ".py",
   "mimetype": "text/x-python",
   "name": "python",
   "nbconvert_exporter": "python",
   "pygments_lexer": "ipython3",
   "version": "3.8.12"
  }
 },
 "nbformat": 4,
 "nbformat_minor": 5
}
