{
 "cells": [
  {
   "cell_type": "code",
   "execution_count": 19,
   "id": "eed3e2d6",
   "metadata": {},
   "outputs": [],
   "source": [
    "import os\n",
    "import numpy as np\n",
    "import matplotlib.pyplot as plt\n",
    "from skimage.io import imread\n",
    "from scipy.stats import gaussian_kde\n",
    "\n",
    "import torch\n",
    "from torchmetrics.functional import spearman_corrcoef as spearman\n",
    "from data import SingleCellDataset\n",
    "\n",
    "from intensity import get_intensities\n",
    "from get_ssims import get_ssims\n",
    "device = torch.device('cuda:7')"
   ]
  },
  {
   "cell_type": "markdown",
   "id": "29b2db02",
   "metadata": {},
   "source": [
    "# Set Panel"
   ]
  },
  {
   "cell_type": "code",
   "execution_count": 2,
   "id": "3a05f0c9",
   "metadata": {},
   "outputs": [],
   "source": [
    "ch2stain = {0:\"DAPI\", 1:\"CD3\", 2:\"NaKATPase\", 3:\"CD45RO\", 4:\"Ki67\", 5:\"panCK\", 6:\"aSMA\", 7:\"CD4\", 8:\"CD45\",\n",
    "            9:\"PD-1\", 10:\"CD20\", 11:\"CD68\", 12:\"CD8a\", 13:\"CD163\", 14:\"FOXP3\", 15:\"PD-L1\", 16:\"ECad\", 17:\"Vim\",\n",
    "            18:\"CDX2\", 19:\"LaminABC\", 20:\"Desmin\", 21:\"CD31\", 22:\"PCNA\", 23:\"Ki67\", 24:\"Collagen IV\"}"
   ]
  },
  {
   "cell_type": "markdown",
   "id": "7f8a35d0",
   "metadata": {},
   "source": [
    "# Get Model Checkpoints and Panel Selection Orders"
   ]
  },
  {
   "cell_type": "code",
   "execution_count": 76,
   "id": "29b47b25",
   "metadata": {},
   "outputs": [
    {
     "name": "stdout",
     "output_type": "stream",
     "text": [
      "'epoch=299-step=171600.ckpt'\r\n"
     ]
    }
   ],
   "source": [
    "ls ../training/pt_mae/tma_cv_5/pt_mae/2478iyl6/checkpoints/"
   ]
  },
  {
   "cell_type": "code",
   "execution_count": 77,
   "id": "244f09af",
   "metadata": {},
   "outputs": [],
   "source": [
    "cv_1_ckpt = '../training/pt_mae/tma_cv_1/pt_mae/3j9wr9hv/checkpoints/epoch=299-step=172800.ckpt'\n",
    "cv_2_ckpt = '../training/pt_mae/tma_cv_2/pt_mae/2lup4o2d/checkpoints/epoch=299-step=172800.ckpt'\n",
    "cv_3_ckpt = '../training/pt_mae/tma_cv_3/pt_mae/3f13xh37/checkpoints/epoch=299-step=172500.ckpt'\n",
    "cv_4_ckpt = '../training/pt_mae/tma_cv_4/pt_mae/lcnt9i57/checkpoints/epoch=299-step=174600.ckpt'\n",
    "cv_5_ckpt = '../training/pt_mae/tma_cv_5/pt_mae/2478iyl6/checkpoints/epoch=299-step=171600.ckpt'"
   ]
  },
  {
   "cell_type": "code",
   "execution_count": 78,
   "id": "595f06e0",
   "metadata": {},
   "outputs": [],
   "source": [
    "panel_order = [0,7,16,12,6,11,24,1,20,14,3,15,17,19,21,10,4,9,5,8,13,18,23,22]"
   ]
  },
  {
   "cell_type": "markdown",
   "id": "11b0ef2f",
   "metadata": {},
   "source": [
    "# Load Models"
   ]
  },
  {
   "cell_type": "code",
   "execution_count": 79,
   "id": "54d6ed24",
   "metadata": {
    "scrolled": true
   },
   "outputs": [],
   "source": [
    "from mae import IF_MAE\n",
    "model_cv1 = IF_MAE().load_from_checkpoint(cv_1_ckpt)\n",
    "model_cv1 = model_cv1.to(device)\n",
    "model_cv1 = model_cv1.eval()\n",
    "\n",
    "model_cv2 = IF_MAE().load_from_checkpoint(cv_2_ckpt)\n",
    "model_cv2 = model_cv2.to(device)\n",
    "model_cv2 = model_cv2.eval()\n",
    "\n",
    "model_cv3 = IF_MAE().load_from_checkpoint(cv_3_ckpt)\n",
    "model_cv3 = model_cv3.to(device)\n",
    "model_cv3 = model_cv3.eval()\n",
    "\n",
    "model_cv4 = IF_MAE().load_from_checkpoint(cv_4_ckpt)\n",
    "model_cv4 = model_cv4.to(device)\n",
    "model_cv4 = model_cv4.eval()\n",
    "\n",
    "model_cv5 = IF_MAE().load_from_checkpoint(cv_5_ckpt)\n",
    "model_cv5 = model_cv5.to(device)\n",
    "model_cv5 = model_cv5.eval()"
   ]
  },
  {
   "cell_type": "markdown",
   "id": "b8a27aa0",
   "metadata": {},
   "source": [
    "# Load Data"
   ]
  },
  {
   "cell_type": "code",
   "execution_count": 80,
   "id": "1ea4a11c",
   "metadata": {},
   "outputs": [],
   "source": [
    "import pickle\n",
    "from torch.utils.data import Dataset, DataLoader"
   ]
  },
  {
   "cell_type": "code",
   "execution_count": 81,
   "id": "11e808d4",
   "metadata": {},
   "outputs": [],
   "source": [
    "def get_data(split_num, BATCH_SIZE):\n",
    "    data_dir = '/var/local/ChangLab/panel_reduction/CRC-TMA-2'\n",
    "    with open(f'../data/cv_{split_num}_cores.pkl','rb') as f:\n",
    "        train_cores = pickle.load(f)\n",
    "    files = [f'{data_dir}/{f}' for f in os.listdir(data_dir)]\n",
    "    test_files = [f for f in files if '-'.join(f.split('/')[-1].split('-')[:2]) not in train_cores]\n",
    "    val_data = SingleCellDataset(test_files)\n",
    "    val_loader = DataLoader(val_data, batch_size=BATCH_SIZE, num_workers=0)\n",
    "    return val_loader"
   ]
  },
  {
   "cell_type": "code",
   "execution_count": 82,
   "id": "8ce29cd9",
   "metadata": {},
   "outputs": [],
   "source": [
    "val_loader_cv1 = get_data(1, 10000)\n",
    "val_loader_cv2 = get_data(2, 10000)\n",
    "val_loader_cv3 = get_data(3, 10000)\n",
    "val_loader_cv4 = get_data(4, 10000)\n",
    "val_loader_cv5 = get_data(5, 10000)"
   ]
  },
  {
   "cell_type": "markdown",
   "id": "1f06d1c9",
   "metadata": {},
   "source": [
    "# Run Models to get Mean Intensities"
   ]
  },
  {
   "cell_type": "code",
   "execution_count": 83,
   "id": "7d829163",
   "metadata": {
    "scrolled": false
   },
   "outputs": [
    {
     "name": "stderr",
     "output_type": "stream",
     "text": [
      "100%|█████████████████████████████████████████████████████████████████████████████████████████████| 16/16 [02:54<00:00, 10.90s/it]\n",
      "100%|█████████████████████████████████████████████████████████████████████████████████████████████| 16/16 [02:59<00:00, 11.20s/it]\n",
      "100%|█████████████████████████████████████████████████████████████████████████████████████████████| 16/16 [03:05<00:00, 11.62s/it]\n",
      "100%|█████████████████████████████████████████████████████████████████████████████████████████████| 16/16 [03:07<00:00, 11.72s/it]\n",
      "100%|█████████████████████████████████████████████████████████████████████████████████████████████| 16/16 [03:10<00:00, 11.89s/it]\n",
      "100%|█████████████████████████████████████████████████████████████████████████████████████████████| 16/16 [03:10<00:00, 11.90s/it]\n",
      "100%|█████████████████████████████████████████████████████████████████████████████████████████████| 16/16 [03:01<00:00, 11.33s/it]\n",
      "100%|█████████████████████████████████████████████████████████████████████████████████████████████| 16/16 [03:02<00:00, 11.41s/it]\n",
      "100%|█████████████████████████████████████████████████████████████████████████████████████████████| 16/16 [03:05<00:00, 11.58s/it]\n",
      "100%|█████████████████████████████████████████████████████████████████████████████████████████████| 16/16 [03:07<00:00, 11.71s/it]\n",
      "100%|█████████████████████████████████████████████████████████████████████████████████████████████| 16/16 [03:15<00:00, 12.21s/it]\n",
      "100%|█████████████████████████████████████████████████████████████████████████████████████████████| 16/16 [03:03<00:00, 11.47s/it]\n",
      "100%|█████████████████████████████████████████████████████████████████████████████████████████████| 16/16 [03:05<00:00, 11.62s/it]\n",
      "100%|█████████████████████████████████████████████████████████████████████████████████████████████| 16/16 [03:06<00:00, 11.66s/it]\n",
      "100%|█████████████████████████████████████████████████████████████████████████████████████████████| 16/16 [03:09<00:00, 11.85s/it]\n",
      "100%|█████████████████████████████████████████████████████████████████████████████████████████████| 16/16 [03:11<00:00, 11.96s/it]\n",
      "100%|█████████████████████████████████████████████████████████████████████████████████████████████| 16/16 [03:16<00:00, 12.26s/it]\n",
      "100%|█████████████████████████████████████████████████████████████████████████████████████████████| 15/15 [02:54<00:00, 11.65s/it]\n",
      "100%|█████████████████████████████████████████████████████████████████████████████████████████████| 15/15 [02:57<00:00, 11.86s/it]\n",
      "100%|█████████████████████████████████████████████████████████████████████████████████████████████| 15/15 [03:00<00:00, 12.06s/it]\n",
      "100%|█████████████████████████████████████████████████████████████████████████████████████████████| 15/15 [03:02<00:00, 12.13s/it]\n",
      "100%|█████████████████████████████████████████████████████████████████████████████████████████████| 15/15 [03:04<00:00, 12.31s/it]\n",
      "100%|█████████████████████████████████████████████████████████████████████████████████████████████| 15/15 [03:06<00:00, 12.42s/it]\n",
      "100%|█████████████████████████████████████████████████████████████████████████████████████████████| 16/16 [04:07<00:00, 15.49s/it]\n",
      "100%|█████████████████████████████████████████████████████████████████████████████████████████████| 16/16 [03:08<00:00, 11.78s/it]\n",
      "100%|█████████████████████████████████████████████████████████████████████████████████████████████| 16/16 [03:10<00:00, 11.92s/it]\n",
      "100%|█████████████████████████████████████████████████████████████████████████████████████████████| 16/16 [03:11<00:00, 12.00s/it]\n",
      "100%|█████████████████████████████████████████████████████████████████████████████████████████████| 16/16 [03:16<00:00, 12.29s/it]\n",
      "100%|█████████████████████████████████████████████████████████████████████████████████████████████| 16/16 [03:18<00:00, 12.42s/it]\n"
     ]
    }
   ],
   "source": [
    "intensities = []\n",
    "models = [model_cv1, model_cv2, model_cv3, model_cv4, model_cv5]\n",
    "loaders = [val_loader_cv1, val_loader_cv2, val_loader_cv3, val_loader_cv4, val_loader_cv5]\n",
    "for model,val_loader in zip(models, loaders):\n",
    "    intensities_ = []\n",
    "    \n",
    "    for panel_size in [3,6,9,12,15,18]:\n",
    "        unmasked_ch_idx = panel_order[:panel_size]\n",
    "        mints, pmints = get_intensities(model, unmasked_ch_idx, val_loader, device=device)\n",
    "        intensities_.append((mints, pmints))\n",
    "        \n",
    "    intensities.append(intensities_)"
   ]
  },
  {
   "cell_type": "markdown",
   "id": "1afcb721",
   "metadata": {},
   "source": [
    "# Plot Mean Intensities for Each Panel "
   ]
  },
  {
   "cell_type": "code",
   "execution_count": 84,
   "id": "25120bf8",
   "metadata": {},
   "outputs": [],
   "source": [
    "def get_corrs(mints, pmints):\n",
    "    if mints.shape[1] == 1:\n",
    "        stain_corrs = spearman(pmints.squeeze(), mints.squeeze())\n",
    "        stain_corrs = stain_corrs.unsqueeze(0)\n",
    "    else:\n",
    "        stain_corrs = spearman(pmints, mints)\n",
    "    return stain_corrs"
   ]
  },
  {
   "cell_type": "code",
   "execution_count": 85,
   "id": "22392ba8",
   "metadata": {
    "scrolled": true
   },
   "outputs": [],
   "source": [
    "stain_corrs_per_ratio = []\n",
    "for intensities_ in intensities:\n",
    "    stain_corrs = []\n",
    "    for mints_, pmints_ in intensities_:\n",
    "        stain_corrs.append(get_corrs(mints_, pmints_))\n",
    "    stain_corrs_per_ratio.append(stain_corrs)"
   ]
  },
  {
   "cell_type": "code",
   "execution_count": 86,
   "id": "8f5b749b",
   "metadata": {
    "scrolled": true
   },
   "outputs": [],
   "source": [
    "stain_corrs_per_ratio = [[s.detach().cpu().numpy() for s in stain_corrs] \n",
    "                         for stain_corrs in stain_corrs_per_ratio]"
   ]
  },
  {
   "cell_type": "code",
   "execution_count": 87,
   "id": "e0e0544a",
   "metadata": {},
   "outputs": [],
   "source": [
    "all_corrs = []\n",
    "for corr_1, corr_2, corr_3, corr_4, corr_5 in zip(stain_corrs_per_ratio[0], stain_corrs_per_ratio[1], stain_corrs_per_ratio[2], stain_corrs_per_ratio[3], stain_corrs_per_ratio[4]):\n",
    "    all_corrs.append(corr_1)\n",
    "    all_corrs.append(corr_2)\n",
    "    all_corrs.append(corr_3)\n",
    "    all_corrs.append(corr_4)\n",
    "    all_corrs.append(corr_5)"
   ]
  },
  {
   "cell_type": "code",
   "execution_count": 88,
   "id": "ad763efc",
   "metadata": {
    "scrolled": false
   },
   "outputs": [
    {
     "data": {
      "image/png": "[encoded data removed]",
      "text/plain": [
       "<Figure size 640x480 with 1 Axes>"
      ]
     },
     "metadata": {},
     "output_type": "display_data"
    }
   ],
   "source": [
    "positions = [0.5,1.5,2.5,3.5,4.5,\n",
    "             6.5,7.5,8.5,9.5,10.5,\n",
    "             12.5,13.5,14.5,15.5,16.5,\n",
    "             18.5,19.5,20.5,21.5,22.5,\n",
    "             24.5,25.5,26.5,27.5,28.5,\n",
    "             30.5,31.5,32.5,33.5,34.5]\n",
    "\n",
    "bplot = plt.violinplot(all_corrs,positions=positions,showmeans=True)\n",
    "plt.xticks([2.5, 8.5, 14.5, 20.5, 26.5, 32.5],['3','6','9','12','15','18'])\n",
    "plt.xlabel('reduced panel size')\n",
    "plt.ylabel('correlation of inferred markers')\n",
    "#plt.title('Comparative Performance of Panel Selection Strategies')\n",
    "from matplotlib.lines import Line2D\n",
    "custom_points = [Line2D([0], [0], marker='o', color='w', label='Scatter',\n",
    "                          markerfacecolor='tab:cyan', markersize=15),\n",
    "                 Line2D([0], [0], marker='o', color='w', label='Scatter',\n",
    "                          markerfacecolor='tab:pink', markersize=15),\n",
    "                 Line2D([0], [0], marker='o', color='w', label='Scatter',\n",
    "                          markerfacecolor='tab:olive', markersize=15),\n",
    "                 Line2D([0], [0], marker='o', color='w', label='Scatter',\n",
    "                          markerfacecolor='tab:green', markersize=15),\n",
    "                 Line2D([0], [0], marker='o', color='w', label='Scatter',\n",
    "                          markerfacecolor='tab:brown', markersize=15)\n",
    "                ]\n",
    "\n",
    "plt.legend(custom_points, ['CV 1','CV 2','CV 3', 'CV 4', 'CV 5'],loc='lower right')\n",
    "for i,patch in enumerate(bplot['bodies']):\n",
    "    if i % 5 == 0:\n",
    "        patch.set_facecolor('tab:cyan')\n",
    "    elif i % 5 == 1:\n",
    "        patch.set_facecolor('tab:pink')\n",
    "    elif i % 5 == 2:\n",
    "        patch.set_facecolor('tab:olive')\n",
    "    elif i % 5 == 3:\n",
    "        patch.set_facecolor('tab:green')\n",
    "    elif i % 5 == 4:\n",
    "        patch.set_facecolor('tab:brown')\n",
    "        \n",
    "plt.show()"
   ]
  },
  {
   "cell_type": "code",
   "execution_count": null,
   "id": "823566e5",
   "metadata": {},
   "outputs": [],
   "source": []
  }
 ],
 "metadata": {
  "kernelspec": {
   "display_name": "Python [conda env:mae_panel] *",
   "language": "python",
   "name": "conda-env-mae_panel-py"
  },
  "language_info": {
   "codemirror_mode": {
    "name": "ipython",
    "version": 3
   },
   "file_extension": ".py",
   "mimetype": "text/x-python",
   "name": "python",
   "nbconvert_exporter": "python",
   "pygments_lexer": "ipython3",
   "version": "3.8.12"
  }
 },
 "nbformat": 4,
 "nbformat_minor": 5
}
