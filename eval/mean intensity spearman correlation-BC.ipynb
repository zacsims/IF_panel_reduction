{
 "cells": [
  {
   "cell_type": "code",
   "execution_count": 1,
   "id": "eed3e2d6",
   "metadata": {},
   "outputs": [],
   "source": [
    "import os\n",
    "import numpy as np\n",
    "import matplotlib.pyplot as plt\n",
    "from skimage.io import imread\n",
    "from scipy.stats import gaussian_kde\n",
    "\n",
    "import torch\n",
    "from torchmetrics.functional import spearman_corrcoef as spearman\n",
    "from data import get_data\n",
    "\n",
    "from intensity import get_intensities\n",
    "from get_ssims import get_ssims"
   ]
  },
  {
   "cell_type": "markdown",
   "id": "215c56fb",
   "metadata": {},
   "source": [
    "# Set Parameters"
   ]
  },
  {
   "cell_type": "code",
   "execution_count": 2,
   "id": "068773d0",
   "metadata": {},
   "outputs": [],
   "source": [
    "device = torch.device('cuda:2')\n",
    "BATCH_SIZE = 10000"
   ]
  },
  {
   "cell_type": "markdown",
   "id": "29b2db02",
   "metadata": {},
   "source": [
    "# Set Panel"
   ]
  },
  {
   "cell_type": "code",
   "execution_count": 3,
   "id": "3a05f0c9",
   "metadata": {},
   "outputs": [],
   "source": [
    "ch2stain = {0:\"DAPI\", 1:\"CD3\", 2:\"ERK-1\", 3:\"hRAD51\", 4:\"CyclinD1\", 5:\"VIM\", 6:\"aSMA\", 7:\"ECad\", 8:\"ER\", 9:\"PR\",\n",
    "            10:\"EGFR\", 11:\"Rb\", 12:\"HER2\", 13:\"Ki67\", 14:\"CD45\", 15:\"p21\", 16:\"CK14\", 17:\"CK19\", 18:\"CK17\",\n",
    "            19:\"LaminABC\", 20:\"AR\", 21:\"Histone H2AX\", 22:\"PCNA\", 23:\"PanCK\", 24:\"CD31\"}"
   ]
  },
  {
   "cell_type": "markdown",
   "id": "7f8a35d0",
   "metadata": {},
   "source": [
    "# Get Model Checkpoint and Panel Selection Order"
   ]
  },
  {
   "cell_type": "code",
   "execution_count": 4,
   "id": "3b66a0ef",
   "metadata": {},
   "outputs": [],
   "source": [
    "ckpt = 'ckpts/BC_TMA_50p_mask.ckpt' "
   ]
  },
  {
   "cell_type": "code",
   "execution_count": 5,
   "id": "46aa77ff",
   "metadata": {},
   "outputs": [],
   "source": [
    "panel_order = [0,7,16,12,14,9,18,22,24,1,11,6,2,15,23,13,21,5,3,4,20,8,19,17]"
   ]
  },
  {
   "cell_type": "markdown",
   "id": "11b0ef2f",
   "metadata": {},
   "source": [
    "# Load Model"
   ]
  },
  {
   "cell_type": "code",
   "execution_count": 6,
   "id": "54d6ed24",
   "metadata": {
    "scrolled": true
   },
   "outputs": [],
   "source": [
    "from mae import IF_MAE\n",
    "model = IF_MAE().load_from_checkpoint(ckpt)\n",
    "model = model.to(device)\n",
    "model = model.eval()"
   ]
  },
  {
   "cell_type": "markdown",
   "id": "b8a27aa0",
   "metadata": {},
   "source": [
    "# Load Data"
   ]
  },
  {
   "cell_type": "code",
   "execution_count": 7,
   "id": "99c7deb5",
   "metadata": {},
   "outputs": [],
   "source": [
    "val_loader = get_data('BC', BATCH_SIZE)"
   ]
  },
  {
   "cell_type": "markdown",
   "id": "1f06d1c9",
   "metadata": {},
   "source": [
    "# Run Model to get SSIMs"
   ]
  },
  {
   "cell_type": "code",
   "execution_count": 8,
   "id": "7d829163",
   "metadata": {
    "scrolled": true
   },
   "outputs": [
    {
     "name": "stderr",
     "output_type": "stream",
     "text": [
      "100%|███████████████████████████████████████████████████████████████████████████████████████████████| 4/4 [00:26<00:00,  6.54s/it]\n",
      "100%|███████████████████████████████████████████████████████████████████████████████████████████████| 4/4 [00:25<00:00,  6.32s/it]\n",
      "100%|███████████████████████████████████████████████████████████████████████████████████████████████| 4/4 [00:25<00:00,  6.27s/it]\n",
      "100%|███████████████████████████████████████████████████████████████████████████████████████████████| 4/4 [00:25<00:00,  6.32s/it]\n",
      "100%|███████████████████████████████████████████████████████████████████████████████████████████████| 4/4 [00:25<00:00,  6.38s/it]\n",
      "100%|███████████████████████████████████████████████████████████████████████████████████████████████| 4/4 [00:25<00:00,  6.46s/it]\n",
      "100%|███████████████████████████████████████████████████████████████████████████████████████████████| 4/4 [00:25<00:00,  6.48s/it]\n",
      "100%|███████████████████████████████████████████████████████████████████████████████████████████████| 4/4 [00:26<00:00,  6.56s/it]\n",
      "100%|███████████████████████████████████████████████████████████████████████████████████████████████| 4/4 [00:25<00:00,  6.50s/it]\n",
      "100%|███████████████████████████████████████████████████████████████████████████████████████████████| 4/4 [00:25<00:00,  6.49s/it]\n",
      "100%|███████████████████████████████████████████████████████████████████████████████████████████████| 4/4 [00:25<00:00,  6.48s/it]\n",
      "100%|███████████████████████████████████████████████████████████████████████████████████████████████| 4/4 [00:26<00:00,  6.61s/it]\n",
      "100%|███████████████████████████████████████████████████████████████████████████████████████████████| 4/4 [00:26<00:00,  6.63s/it]\n",
      "100%|███████████████████████████████████████████████████████████████████████████████████████████████| 4/4 [00:26<00:00,  6.67s/it]\n",
      "100%|███████████████████████████████████████████████████████████████████████████████████████████████| 4/4 [00:26<00:00,  6.65s/it]\n",
      "100%|███████████████████████████████████████████████████████████████████████████████████████████████| 4/4 [00:27<00:00,  6.79s/it]\n",
      "100%|███████████████████████████████████████████████████████████████████████████████████████████████| 4/4 [00:27<00:00,  6.84s/it]\n",
      "100%|███████████████████████████████████████████████████████████████████████████████████████████████| 4/4 [00:27<00:00,  6.79s/it]\n",
      "100%|███████████████████████████████████████████████████████████████████████████████████████████████| 4/4 [00:27<00:00,  6.92s/it]\n",
      "100%|███████████████████████████████████████████████████████████████████████████████████████████████| 4/4 [00:27<00:00,  6.93s/it]\n",
      "100%|███████████████████████████████████████████████████████████████████████████████████████████████| 4/4 [00:27<00:00,  6.96s/it]\n",
      "100%|███████████████████████████████████████████████████████████████████████████████████████████████| 4/4 [00:27<00:00,  6.95s/it]\n",
      "100%|███████████████████████████████████████████████████████████████████████████████████████████████| 4/4 [00:27<00:00,  6.95s/it]\n",
      "100%|███████████████████████████████████████████████████████████████████████████████████████████████| 4/4 [00:29<00:00,  7.31s/it]\n"
     ]
    }
   ],
   "source": [
    "ssims = [] \n",
    "panel_sizes = [i for i in range(1, len(panel_order) + 1)] #iteration panels\n",
    "for i,size in enumerate(panel_sizes):\n",
    "    unmasked_ch_idx = panel_order[:size]\n",
    "    ssims.append(get_ssims(model, unmasked_ch_idx, val_loader, device=device))"
   ]
  },
  {
   "cell_type": "markdown",
   "id": "960ab370",
   "metadata": {},
   "source": [
    "# Plot SSIM"
   ]
  },
  {
   "cell_type": "code",
   "execution_count": 9,
   "id": "324b55b7",
   "metadata": {},
   "outputs": [
    {
     "data": {
      "image/png": "[encoded data removed]",
      "text/plain": [
       "<Figure size 640x480 with 1 Axes>"
      ]
     },
     "metadata": {},
     "output_type": "display_data"
    }
   ],
   "source": [
    "fig, ax = plt.subplots()\n",
    "ax.plot(np.arange(24), [torch.mean(s).detach().cpu().numpy() for s in ssims], marker='o')\n",
    "ax.set_xticks(np.arange(25), [ch2stain[i] for i in panel_order] + ['EGFR'], fontsize=7)\n",
    "plt.setp(ax.get_xticklabels(), rotation=45, ha=\"right\", rotation_mode=\"anchor\")\n",
    "plt.xlabel('Next Marker Added To Panel')\n",
    "plt.ylabel('Mean SSIM of Witheld Markers')\n",
    "plt.show()"
   ]
  },
  {
   "cell_type": "markdown",
   "id": "0fc65c86",
   "metadata": {},
   "source": [
    "# Run Model to get Mean Intensities"
   ]
  },
  {
   "cell_type": "code",
   "execution_count": null,
   "id": "51e43e23",
   "metadata": {
    "scrolled": true
   },
   "outputs": [
    {
     "name": "stderr",
     "output_type": "stream",
     "text": [
      "100%|███████████████████████████████████████████████████████████████████████████████████████████████| 4/4 [00:24<00:00,  6.04s/it]\n",
      "100%|███████████████████████████████████████████████████████████████████████████████████████████████| 4/4 [00:24<00:00,  6.10s/it]\n",
      "100%|███████████████████████████████████████████████████████████████████████████████████████████████| 4/4 [00:24<00:00,  6.24s/it]\n",
      "100%|███████████████████████████████████████████████████████████████████████████████████████████████| 4/4 [00:24<00:00,  6.14s/it]\n",
      "100%|███████████████████████████████████████████████████████████████████████████████████████████████| 4/4 [00:24<00:00,  6.17s/it]\n",
      "100%|███████████████████████████████████████████████████████████████████████████████████████████████| 4/4 [00:24<00:00,  6.16s/it]\n",
      "100%|███████████████████████████████████████████████████████████████████████████████████████████████| 4/4 [00:24<00:00,  6.16s/it]\n",
      "100%|███████████████████████████████████████████████████████████████████████████████████████████████| 4/4 [00:24<00:00,  6.22s/it]\n",
      "100%|███████████████████████████████████████████████████████████████████████████████████████████████| 4/4 [00:25<00:00,  6.31s/it]\n",
      "100%|███████████████████████████████████████████████████████████████████████████████████████████████| 4/4 [00:25<00:00,  6.48s/it]\n",
      "100%|███████████████████████████████████████████████████████████████████████████████████████████████| 4/4 [00:25<00:00,  6.45s/it]\n",
      "100%|███████████████████████████████████████████████████████████████████████████████████████████████| 4/4 [00:26<00:00,  6.60s/it]\n",
      "100%|███████████████████████████████████████████████████████████████████████████████████████████████| 4/4 [00:26<00:00,  6.53s/it]\n",
      "100%|███████████████████████████████████████████████████████████████████████████████████████████████| 4/4 [00:26<00:00,  6.61s/it]\n",
      "100%|███████████████████████████████████████████████████████████████████████████████████████████████| 4/4 [00:26<00:00,  6.72s/it]\n",
      "100%|███████████████████████████████████████████████████████████████████████████████████████████████| 4/4 [00:27<00:00,  6.81s/it]\n",
      "100%|███████████████████████████████████████████████████████████████████████████████████████████████| 4/4 [00:27<00:00,  6.83s/it]\n",
      "100%|███████████████████████████████████████████████████████████████████████████████████████████████| 4/4 [00:27<00:00,  6.81s/it]\n",
      "100%|███████████████████████████████████████████████████████████████████████████████████████████████| 4/4 [00:27<00:00,  6.87s/it]\n",
      "100%|███████████████████████████████████████████████████████████████████████████████████████████████| 4/4 [00:27<00:00,  6.86s/it]\n",
      " 50%|███████████████████████████████████████████████▌                                               | 2/4 [00:16<00:16,  8.11s/it]"
     ]
    }
   ],
   "source": [
    "intensities = []\n",
    "panel_sizes = [i for i in range(1, len(panel_order) + 1)] #iteration panels\n",
    "for i,size in enumerate(panel_sizes):\n",
    "    unmasked_ch_idx = panel_order[:size]\n",
    "    mints, pmints = get_intensities(model, unmasked_ch_idx, val_loader, device=device)\n",
    "    intensities.append((mints, pmints))"
   ]
  },
  {
   "cell_type": "markdown",
   "id": "1afcb721",
   "metadata": {},
   "source": [
    "# Plot Mean Intensities for Each Panel "
   ]
  },
  {
   "cell_type": "code",
   "execution_count": null,
   "id": "25120bf8",
   "metadata": {},
   "outputs": [],
   "source": [
    "def plot_intensities(mints, pmints, masked_ch_idx, ch2stain):\n",
    "    if mints.shape[1] == 1:\n",
    "        stain_corrs = spearman(pmints.squeeze(), mints.squeeze())\n",
    "        stain_corrs = stain_corrs.unsqueeze(0)\n",
    "    else:\n",
    "        stain_corrs = spearman(pmints, mints)\n",
    "    #cls iteratively selected panel\n",
    "    fig, ax = plt.subplots(1, len(masked_ch_idx), figsize=(12 * len(masked_ch_idx),12), layout='tight')\n",
    "    for i,a in enumerate(fig.axes):\n",
    "\n",
    "        a.set_title(f'{ch2stain[masked_ch_idx[i]]}\\n(⍴={round(stain_corrs[i].item(),2)})', fontsize=120)\n",
    "        x,y = mints[:10000,i].cpu(), pmints[:10000,i].cpu()\n",
    "        # Calculate the point density\n",
    "        xy = np.vstack([x,y])\n",
    "        z = gaussian_kde(xy)(xy)\n",
    "        a.scatter(x, y, c=z, s=10)\n",
    "        a.set_xticks([])\n",
    "        a.set_yticks([])\n",
    "        a.plot(np.arange(255), np.arange(255), linestyle='dashed', c='black')\n",
    "    plt.show()\n",
    "    return stain_corrs"
   ]
  },
  {
   "cell_type": "code",
   "execution_count": null,
   "id": "22392ba8",
   "metadata": {
    "scrolled": false
   },
   "outputs": [],
   "source": [
    "stain_corrs = []\n",
    "max_panel_size = 25\n",
    "panel_sizes = [i for i in range(max_panel_size)]\n",
    "panel_sizes = [i for i in range(1, len(panel_order) + 1)] #iteration panels\n",
    "for size,(mints_, pmints_) in zip(panel_sizes, intensities):\n",
    "    unmasked_ch_idx = panel_order[:size]\n",
    "    masked_ch_idx = [i for i in range(max_panel_size) if i not in unmasked_ch_idx]\n",
    "    stain_corrs.append(plot_intensities(mints_, pmints_, masked_ch_idx, ch2stain))"
   ]
  },
  {
   "cell_type": "code",
   "execution_count": null,
   "id": "8f5b749b",
   "metadata": {
    "scrolled": true
   },
   "outputs": [],
   "source": [
    "stain_corrs = [s.detach().cpu().numpy() for s in stain_corrs]"
   ]
  },
  {
   "cell_type": "code",
   "execution_count": null,
   "id": "5a5927a7",
   "metadata": {},
   "outputs": [],
   "source": [
    "masked_chs = []\n",
    "for panel_size in range(1,25):\n",
    "    msk_chs = [i for i in range(25) if i not in panel_order[:panel_size]]\n",
    "    masked_chs.append(msk_chs)\n",
    "\n",
    "corr_array = np.ones((25,25))\n",
    "for i,(panel,panel_i) in enumerate(zip(stain_corrs,masked_chs)):\n",
    "    if i == 23:\n",
    "        panel = [panel.item()]\n",
    "        panel_i = list(panel_i)\n",
    "    for j,(ch, ch_i) in enumerate(zip(panel,panel_i)):\n",
    "        corr_array[i][ch_i] = ch\n",
    "        \n",
    "iter_24_panel = panel_order\n",
    "still_masked = [i for i in range(25) if i not in iter_24_panel]\n",
    "sorted_channels = iter_24_panel + still_masked\n",
    "\n",
    "corr_array_sorted = np.zeros(corr_array.shape)\n",
    "ch2stain_sorted = {}\n",
    "for i,ch in  enumerate(sorted_channels):\n",
    "    corr_array_sorted[:,i] = corr_array[:,ch]\n",
    "    ch2stain_sorted[i] = ch2stain[ch]"
   ]
  },
  {
   "cell_type": "code",
   "execution_count": null,
   "id": "6c98781e",
   "metadata": {},
   "outputs": [],
   "source": [
    "import seaborn as sns\n",
    "import matplotlib.patches as patches\n",
    "fig, ax = plt.subplots(figsize=(25,25))\n",
    "img = corr_array_sorted[:25]\n",
    "img = img.transpose()\n",
    "matrix = np.triu(img)\n",
    "im = sns.heatmap(img, cmap='inferno', vmax=1, mask=matrix)\n",
    "ax.set_xticks(np.arange(25) + 0.5,list(ch2stain_sorted.values()), fontsize=32)\n",
    "ax.set_yticks(np.arange(25) + 0.5,list(ch2stain_sorted.values()), fontsize=32)\n",
    "plt.setp(ax.get_xticklabels(), rotation=45, ha=\"right\", rotation_mode=\"anchor\")\n",
    "plt.setp(ax.get_yticklabels(), rotation=0, ha=\"right\", rotation_mode=\"anchor\")\n",
    "cbar = ax.collections[0].colorbar\n",
    "im.collections[0].colorbar.ax.tick_params(labelsize=24)\n",
    "plt.xlabel('Next Marker Added to Panel', fontsize=36)\n",
    "plt.ylabel('Predicted Marker', fontsize=36)\n",
    "plt.show()"
   ]
  },
  {
   "cell_type": "code",
   "execution_count": null,
   "id": "0571a659",
   "metadata": {},
   "outputs": [],
   "source": [
    "mean_corrs = [np.mean(corrs) for corrs in stain_corrs]"
   ]
  },
  {
   "cell_type": "code",
   "execution_count": null,
   "id": "dcdcec56",
   "metadata": {},
   "outputs": [],
   "source": [
    "fig, ax = plt.subplots()\n",
    "ax.plot(np.arange(24), mean_corrs, marker='.')\n",
    "ax.set_xticks(np.arange(24), [ch2stain[i] for i in panel_order], fontsize=7)\n",
    "plt.setp(ax.get_xticklabels(), rotation=45, ha=\"right\", rotation_mode=\"anchor\")\n",
    "plt.xlabel('Next Marker Added To Panel')\n",
    "plt.ylabel('Mean Spearman Correlation of Witheld Marker Intensities')\n",
    "plt.show()"
   ]
  },
  {
   "cell_type": "code",
   "execution_count": null,
   "id": "034887a7",
   "metadata": {},
   "outputs": [],
   "source": [
    "from sklearn.manifold import TSNE\n",
    "tsne = TSNE(n_components=2, perplexity=3).fit_transform(model.mae.encoder.pos_embedding.detach().cpu().numpy()[0][1:])\n",
    "X = tsne[:,0]\n",
    "Y = tsne[:,1]\n",
    "\n",
    "fig, ax = plt.subplots()\n",
    "ax.scatter(X, Y)\n",
    "\n",
    "for i in range(25):\n",
    "    ax.annotate((ch2stain[i]), (X[i], Y[i]))\n",
    "plt.title('tSNE plot of channel embeddings (encoder)')\n",
    "ax.axis('off')"
   ]
  },
  {
   "cell_type": "code",
   "execution_count": null,
   "id": "9e0f46c3",
   "metadata": {},
   "outputs": [],
   "source": [
    "from sklearn.manifold import TSNE\n",
    "tsne = TSNE(n_components=2, perplexity=3).fit_transform(model.mae.decoder_pos_emb(torch.tensor([i for i in range(0,25)], device=device)).detach().cpu())\n",
    "X = tsne[:,0]\n",
    "Y = tsne[:,1]\n",
    "\n",
    "fig, ax = plt.subplots()\n",
    "ax.scatter(X, Y)\n",
    "\n",
    "for i in range(25):\n",
    "    ax.annotate((ch2stain[i]), (X[i], Y[i]))\n",
    "plt.title('tSNE plot of channel embeddings (decoder)')\n",
    "ax.axis('off')"
   ]
  },
  {
   "cell_type": "code",
   "execution_count": null,
   "id": "823566e5",
   "metadata": {},
   "outputs": [],
   "source": []
  }
 ],
 "metadata": {
  "kernelspec": {
   "display_name": "Python [conda env:mae_panel] *",
   "language": "python",
   "name": "conda-env-mae_panel-py"
  },
  "language_info": {
   "codemirror_mode": {
    "name": "ipython",
    "version": 3
   },
   "file_extension": ".py",
   "mimetype": "text/x-python",
   "name": "python",
   "nbconvert_exporter": "python",
   "pygments_lexer": "ipython3",
   "version": "3.8.12"
  }
 },
 "nbformat": 4,
 "nbformat_minor": 5
}
